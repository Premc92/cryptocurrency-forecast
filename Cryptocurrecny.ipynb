{
 "cells": [
  {
   "cell_type": "code",
   "execution_count": 1,
   "metadata": {},
   "outputs": [],
   "source": [
    "import pandas as pd\n",
    "import yfinance as yf\n",
    "import datetime\n",
    "from datetime import date, timedelta\n",
    "today = date.today()"
   ]
  },
  {
   "cell_type": "code",
   "execution_count": 2,
   "metadata": {},
   "outputs": [],
   "source": [
    "d1 = date.today() - timedelta(days=365)\n",
    "d1 = d1.strftime(\"%Y-%m-%d\")\n",
    "end_date = d1\n",
    "d2 = date.today() - timedelta(days=730)\n",
    "d2 = d2.strftime(\"%Y-%m-%d\")\n",
    "start_date = d2\n",
    "\n",
    "data = yf.download('BTC-USD', \n",
    "                      start=start_date, \n",
    "                      end=end_date, \n",
    "                      progress=False)\n"
   ]
  },
  {
   "cell_type": "code",
   "execution_count": 3,
   "metadata": {},
   "outputs": [
    {
     "data": {
      "text/html": [
       "<div>\n",
       "<style scoped>\n",
       "    .dataframe tbody tr th:only-of-type {\n",
       "        vertical-align: middle;\n",
       "    }\n",
       "\n",
       "    .dataframe tbody tr th {\n",
       "        vertical-align: top;\n",
       "    }\n",
       "\n",
       "    .dataframe thead th {\n",
       "        text-align: right;\n",
       "    }\n",
       "</style>\n",
       "<table border=\"1\" class=\"dataframe\">\n",
       "  <thead>\n",
       "    <tr style=\"text-align: right;\">\n",
       "      <th></th>\n",
       "      <th>Open</th>\n",
       "      <th>High</th>\n",
       "      <th>Low</th>\n",
       "      <th>Close</th>\n",
       "      <th>Adj Close</th>\n",
       "      <th>Volume</th>\n",
       "    </tr>\n",
       "    <tr>\n",
       "      <th>Date</th>\n",
       "      <th></th>\n",
       "      <th></th>\n",
       "      <th></th>\n",
       "      <th></th>\n",
       "      <th></th>\n",
       "      <th></th>\n",
       "    </tr>\n",
       "  </thead>\n",
       "  <tbody>\n",
       "    <tr>\n",
       "      <th>2021-08-02</th>\n",
       "      <td>39907.261719</td>\n",
       "      <td>40419.179688</td>\n",
       "      <td>38746.347656</td>\n",
       "      <td>39201.945312</td>\n",
       "      <td>39201.945312</td>\n",
       "      <td>25595265436</td>\n",
       "    </tr>\n",
       "    <tr>\n",
       "      <th>2021-08-03</th>\n",
       "      <td>39178.402344</td>\n",
       "      <td>39750.031250</td>\n",
       "      <td>37782.050781</td>\n",
       "      <td>38152.980469</td>\n",
       "      <td>38152.980469</td>\n",
       "      <td>26189830450</td>\n",
       "    </tr>\n",
       "    <tr>\n",
       "      <th>2021-08-04</th>\n",
       "      <td>38213.332031</td>\n",
       "      <td>39952.296875</td>\n",
       "      <td>37589.164062</td>\n",
       "      <td>39747.503906</td>\n",
       "      <td>39747.503906</td>\n",
       "      <td>25372562724</td>\n",
       "    </tr>\n",
       "    <tr>\n",
       "      <th>2021-08-05</th>\n",
       "      <td>39744.515625</td>\n",
       "      <td>41341.933594</td>\n",
       "      <td>37458.003906</td>\n",
       "      <td>40869.554688</td>\n",
       "      <td>40869.554688</td>\n",
       "      <td>35185031017</td>\n",
       "    </tr>\n",
       "    <tr>\n",
       "      <th>2021-08-06</th>\n",
       "      <td>40865.867188</td>\n",
       "      <td>43271.660156</td>\n",
       "      <td>39932.179688</td>\n",
       "      <td>42816.500000</td>\n",
       "      <td>42816.500000</td>\n",
       "      <td>38226483046</td>\n",
       "    </tr>\n",
       "    <tr>\n",
       "      <th>...</th>\n",
       "      <td>...</td>\n",
       "      <td>...</td>\n",
       "      <td>...</td>\n",
       "      <td>...</td>\n",
       "      <td>...</td>\n",
       "      <td>...</td>\n",
       "    </tr>\n",
       "    <tr>\n",
       "      <th>2022-07-28</th>\n",
       "      <td>22933.640625</td>\n",
       "      <td>24110.470703</td>\n",
       "      <td>22722.265625</td>\n",
       "      <td>23843.886719</td>\n",
       "      <td>23843.886719</td>\n",
       "      <td>40212386158</td>\n",
       "    </tr>\n",
       "    <tr>\n",
       "      <th>2022-07-29</th>\n",
       "      <td>23845.212891</td>\n",
       "      <td>24294.787109</td>\n",
       "      <td>23481.173828</td>\n",
       "      <td>23804.632812</td>\n",
       "      <td>23804.632812</td>\n",
       "      <td>35887249746</td>\n",
       "    </tr>\n",
       "    <tr>\n",
       "      <th>2022-07-30</th>\n",
       "      <td>23796.818359</td>\n",
       "      <td>24572.580078</td>\n",
       "      <td>23580.507812</td>\n",
       "      <td>23656.207031</td>\n",
       "      <td>23656.207031</td>\n",
       "      <td>28148218301</td>\n",
       "    </tr>\n",
       "    <tr>\n",
       "      <th>2022-07-31</th>\n",
       "      <td>23652.070312</td>\n",
       "      <td>24121.642578</td>\n",
       "      <td>23275.703125</td>\n",
       "      <td>23336.896484</td>\n",
       "      <td>23336.896484</td>\n",
       "      <td>23553591896</td>\n",
       "    </tr>\n",
       "    <tr>\n",
       "      <th>2022-08-01</th>\n",
       "      <td>23336.718750</td>\n",
       "      <td>23464.787109</td>\n",
       "      <td>22890.796875</td>\n",
       "      <td>23314.199219</td>\n",
       "      <td>23314.199219</td>\n",
       "      <td>25849159141</td>\n",
       "    </tr>\n",
       "  </tbody>\n",
       "</table>\n",
       "<p>365 rows × 6 columns</p>\n",
       "</div>"
      ],
      "text/plain": [
       "                    Open          High           Low         Close  \\\n",
       "Date                                                                 \n",
       "2021-08-02  39907.261719  40419.179688  38746.347656  39201.945312   \n",
       "2021-08-03  39178.402344  39750.031250  37782.050781  38152.980469   \n",
       "2021-08-04  38213.332031  39952.296875  37589.164062  39747.503906   \n",
       "2021-08-05  39744.515625  41341.933594  37458.003906  40869.554688   \n",
       "2021-08-06  40865.867188  43271.660156  39932.179688  42816.500000   \n",
       "...                  ...           ...           ...           ...   \n",
       "2022-07-28  22933.640625  24110.470703  22722.265625  23843.886719   \n",
       "2022-07-29  23845.212891  24294.787109  23481.173828  23804.632812   \n",
       "2022-07-30  23796.818359  24572.580078  23580.507812  23656.207031   \n",
       "2022-07-31  23652.070312  24121.642578  23275.703125  23336.896484   \n",
       "2022-08-01  23336.718750  23464.787109  22890.796875  23314.199219   \n",
       "\n",
       "               Adj Close       Volume  \n",
       "Date                                   \n",
       "2021-08-02  39201.945312  25595265436  \n",
       "2021-08-03  38152.980469  26189830450  \n",
       "2021-08-04  39747.503906  25372562724  \n",
       "2021-08-05  40869.554688  35185031017  \n",
       "2021-08-06  42816.500000  38226483046  \n",
       "...                  ...          ...  \n",
       "2022-07-28  23843.886719  40212386158  \n",
       "2022-07-29  23804.632812  35887249746  \n",
       "2022-07-30  23656.207031  28148218301  \n",
       "2022-07-31  23336.896484  23553591896  \n",
       "2022-08-01  23314.199219  25849159141  \n",
       "\n",
       "[365 rows x 6 columns]"
      ]
     },
     "execution_count": 3,
     "metadata": {},
     "output_type": "execute_result"
    }
   ],
   "source": [
    "data"
   ]
  },
  {
   "cell_type": "code",
   "execution_count": 4,
   "metadata": {},
   "outputs": [
    {
     "data": {
      "text/html": [
       "<div>\n",
       "<style scoped>\n",
       "    .dataframe tbody tr th:only-of-type {\n",
       "        vertical-align: middle;\n",
       "    }\n",
       "\n",
       "    .dataframe tbody tr th {\n",
       "        vertical-align: top;\n",
       "    }\n",
       "\n",
       "    .dataframe thead th {\n",
       "        text-align: right;\n",
       "    }\n",
       "</style>\n",
       "<table border=\"1\" class=\"dataframe\">\n",
       "  <thead>\n",
       "    <tr style=\"text-align: right;\">\n",
       "      <th></th>\n",
       "      <th>Date</th>\n",
       "      <th>Open</th>\n",
       "      <th>High</th>\n",
       "      <th>Low</th>\n",
       "      <th>Close</th>\n",
       "      <th>Adj Close</th>\n",
       "      <th>Volume</th>\n",
       "    </tr>\n",
       "    <tr>\n",
       "      <th>Date</th>\n",
       "      <th></th>\n",
       "      <th></th>\n",
       "      <th></th>\n",
       "      <th></th>\n",
       "      <th></th>\n",
       "      <th></th>\n",
       "      <th></th>\n",
       "    </tr>\n",
       "  </thead>\n",
       "  <tbody>\n",
       "    <tr>\n",
       "      <th>2021-08-02</th>\n",
       "      <td>2021-08-02</td>\n",
       "      <td>39907.261719</td>\n",
       "      <td>40419.179688</td>\n",
       "      <td>38746.347656</td>\n",
       "      <td>39201.945312</td>\n",
       "      <td>39201.945312</td>\n",
       "      <td>25595265436</td>\n",
       "    </tr>\n",
       "    <tr>\n",
       "      <th>2021-08-03</th>\n",
       "      <td>2021-08-03</td>\n",
       "      <td>39178.402344</td>\n",
       "      <td>39750.031250</td>\n",
       "      <td>37782.050781</td>\n",
       "      <td>38152.980469</td>\n",
       "      <td>38152.980469</td>\n",
       "      <td>26189830450</td>\n",
       "    </tr>\n",
       "    <tr>\n",
       "      <th>2021-08-04</th>\n",
       "      <td>2021-08-04</td>\n",
       "      <td>38213.332031</td>\n",
       "      <td>39952.296875</td>\n",
       "      <td>37589.164062</td>\n",
       "      <td>39747.503906</td>\n",
       "      <td>39747.503906</td>\n",
       "      <td>25372562724</td>\n",
       "    </tr>\n",
       "    <tr>\n",
       "      <th>2021-08-05</th>\n",
       "      <td>2021-08-05</td>\n",
       "      <td>39744.515625</td>\n",
       "      <td>41341.933594</td>\n",
       "      <td>37458.003906</td>\n",
       "      <td>40869.554688</td>\n",
       "      <td>40869.554688</td>\n",
       "      <td>35185031017</td>\n",
       "    </tr>\n",
       "    <tr>\n",
       "      <th>2021-08-06</th>\n",
       "      <td>2021-08-06</td>\n",
       "      <td>40865.867188</td>\n",
       "      <td>43271.660156</td>\n",
       "      <td>39932.179688</td>\n",
       "      <td>42816.500000</td>\n",
       "      <td>42816.500000</td>\n",
       "      <td>38226483046</td>\n",
       "    </tr>\n",
       "    <tr>\n",
       "      <th>...</th>\n",
       "      <td>...</td>\n",
       "      <td>...</td>\n",
       "      <td>...</td>\n",
       "      <td>...</td>\n",
       "      <td>...</td>\n",
       "      <td>...</td>\n",
       "      <td>...</td>\n",
       "    </tr>\n",
       "    <tr>\n",
       "      <th>2022-07-28</th>\n",
       "      <td>2022-07-28</td>\n",
       "      <td>22933.640625</td>\n",
       "      <td>24110.470703</td>\n",
       "      <td>22722.265625</td>\n",
       "      <td>23843.886719</td>\n",
       "      <td>23843.886719</td>\n",
       "      <td>40212386158</td>\n",
       "    </tr>\n",
       "    <tr>\n",
       "      <th>2022-07-29</th>\n",
       "      <td>2022-07-29</td>\n",
       "      <td>23845.212891</td>\n",
       "      <td>24294.787109</td>\n",
       "      <td>23481.173828</td>\n",
       "      <td>23804.632812</td>\n",
       "      <td>23804.632812</td>\n",
       "      <td>35887249746</td>\n",
       "    </tr>\n",
       "    <tr>\n",
       "      <th>2022-07-30</th>\n",
       "      <td>2022-07-30</td>\n",
       "      <td>23796.818359</td>\n",
       "      <td>24572.580078</td>\n",
       "      <td>23580.507812</td>\n",
       "      <td>23656.207031</td>\n",
       "      <td>23656.207031</td>\n",
       "      <td>28148218301</td>\n",
       "    </tr>\n",
       "    <tr>\n",
       "      <th>2022-07-31</th>\n",
       "      <td>2022-07-31</td>\n",
       "      <td>23652.070312</td>\n",
       "      <td>24121.642578</td>\n",
       "      <td>23275.703125</td>\n",
       "      <td>23336.896484</td>\n",
       "      <td>23336.896484</td>\n",
       "      <td>23553591896</td>\n",
       "    </tr>\n",
       "    <tr>\n",
       "      <th>2022-08-01</th>\n",
       "      <td>2022-08-01</td>\n",
       "      <td>23336.718750</td>\n",
       "      <td>23464.787109</td>\n",
       "      <td>22890.796875</td>\n",
       "      <td>23314.199219</td>\n",
       "      <td>23314.199219</td>\n",
       "      <td>25849159141</td>\n",
       "    </tr>\n",
       "  </tbody>\n",
       "</table>\n",
       "<p>365 rows × 7 columns</p>\n",
       "</div>"
      ],
      "text/plain": [
       "                 Date          Open          High           Low         Close  \\\n",
       "Date                                                                            \n",
       "2021-08-02 2021-08-02  39907.261719  40419.179688  38746.347656  39201.945312   \n",
       "2021-08-03 2021-08-03  39178.402344  39750.031250  37782.050781  38152.980469   \n",
       "2021-08-04 2021-08-04  38213.332031  39952.296875  37589.164062  39747.503906   \n",
       "2021-08-05 2021-08-05  39744.515625  41341.933594  37458.003906  40869.554688   \n",
       "2021-08-06 2021-08-06  40865.867188  43271.660156  39932.179688  42816.500000   \n",
       "...               ...           ...           ...           ...           ...   \n",
       "2022-07-28 2022-07-28  22933.640625  24110.470703  22722.265625  23843.886719   \n",
       "2022-07-29 2022-07-29  23845.212891  24294.787109  23481.173828  23804.632812   \n",
       "2022-07-30 2022-07-30  23796.818359  24572.580078  23580.507812  23656.207031   \n",
       "2022-07-31 2022-07-31  23652.070312  24121.642578  23275.703125  23336.896484   \n",
       "2022-08-01 2022-08-01  23336.718750  23464.787109  22890.796875  23314.199219   \n",
       "\n",
       "               Adj Close       Volume  \n",
       "Date                                   \n",
       "2021-08-02  39201.945312  25595265436  \n",
       "2021-08-03  38152.980469  26189830450  \n",
       "2021-08-04  39747.503906  25372562724  \n",
       "2021-08-05  40869.554688  35185031017  \n",
       "2021-08-06  42816.500000  38226483046  \n",
       "...                  ...          ...  \n",
       "2022-07-28  23843.886719  40212386158  \n",
       "2022-07-29  23804.632812  35887249746  \n",
       "2022-07-30  23656.207031  28148218301  \n",
       "2022-07-31  23336.896484  23553591896  \n",
       "2022-08-01  23314.199219  25849159141  \n",
       "\n",
       "[365 rows x 7 columns]"
      ]
     },
     "execution_count": 4,
     "metadata": {},
     "output_type": "execute_result"
    }
   ],
   "source": [
    "data[\"Date\"] = data.index\n",
    "data = data[[\"Date\", \"Open\", \"High\", \"Low\", \"Close\", \"Adj Close\", \"Volume\"]]\n",
    "data"
   ]
  },
  {
   "cell_type": "code",
   "execution_count": 5,
   "metadata": {},
   "outputs": [
    {
     "data": {
      "text/html": [
       "<div>\n",
       "<style scoped>\n",
       "    .dataframe tbody tr th:only-of-type {\n",
       "        vertical-align: middle;\n",
       "    }\n",
       "\n",
       "    .dataframe tbody tr th {\n",
       "        vertical-align: top;\n",
       "    }\n",
       "\n",
       "    .dataframe thead th {\n",
       "        text-align: right;\n",
       "    }\n",
       "</style>\n",
       "<table border=\"1\" class=\"dataframe\">\n",
       "  <thead>\n",
       "    <tr style=\"text-align: right;\">\n",
       "      <th></th>\n",
       "      <th>Date</th>\n",
       "      <th>Open</th>\n",
       "      <th>High</th>\n",
       "      <th>Low</th>\n",
       "      <th>Close</th>\n",
       "      <th>Adj Close</th>\n",
       "      <th>Volume</th>\n",
       "    </tr>\n",
       "  </thead>\n",
       "  <tbody>\n",
       "    <tr>\n",
       "      <th>0</th>\n",
       "      <td>2021-08-02</td>\n",
       "      <td>39907.261719</td>\n",
       "      <td>40419.179688</td>\n",
       "      <td>38746.347656</td>\n",
       "      <td>39201.945312</td>\n",
       "      <td>39201.945312</td>\n",
       "      <td>25595265436</td>\n",
       "    </tr>\n",
       "    <tr>\n",
       "      <th>1</th>\n",
       "      <td>2021-08-03</td>\n",
       "      <td>39178.402344</td>\n",
       "      <td>39750.031250</td>\n",
       "      <td>37782.050781</td>\n",
       "      <td>38152.980469</td>\n",
       "      <td>38152.980469</td>\n",
       "      <td>26189830450</td>\n",
       "    </tr>\n",
       "    <tr>\n",
       "      <th>2</th>\n",
       "      <td>2021-08-04</td>\n",
       "      <td>38213.332031</td>\n",
       "      <td>39952.296875</td>\n",
       "      <td>37589.164062</td>\n",
       "      <td>39747.503906</td>\n",
       "      <td>39747.503906</td>\n",
       "      <td>25372562724</td>\n",
       "    </tr>\n",
       "    <tr>\n",
       "      <th>3</th>\n",
       "      <td>2021-08-05</td>\n",
       "      <td>39744.515625</td>\n",
       "      <td>41341.933594</td>\n",
       "      <td>37458.003906</td>\n",
       "      <td>40869.554688</td>\n",
       "      <td>40869.554688</td>\n",
       "      <td>35185031017</td>\n",
       "    </tr>\n",
       "    <tr>\n",
       "      <th>4</th>\n",
       "      <td>2021-08-06</td>\n",
       "      <td>40865.867188</td>\n",
       "      <td>43271.660156</td>\n",
       "      <td>39932.179688</td>\n",
       "      <td>42816.500000</td>\n",
       "      <td>42816.500000</td>\n",
       "      <td>38226483046</td>\n",
       "    </tr>\n",
       "    <tr>\n",
       "      <th>...</th>\n",
       "      <td>...</td>\n",
       "      <td>...</td>\n",
       "      <td>...</td>\n",
       "      <td>...</td>\n",
       "      <td>...</td>\n",
       "      <td>...</td>\n",
       "      <td>...</td>\n",
       "    </tr>\n",
       "    <tr>\n",
       "      <th>360</th>\n",
       "      <td>2022-07-28</td>\n",
       "      <td>22933.640625</td>\n",
       "      <td>24110.470703</td>\n",
       "      <td>22722.265625</td>\n",
       "      <td>23843.886719</td>\n",
       "      <td>23843.886719</td>\n",
       "      <td>40212386158</td>\n",
       "    </tr>\n",
       "    <tr>\n",
       "      <th>361</th>\n",
       "      <td>2022-07-29</td>\n",
       "      <td>23845.212891</td>\n",
       "      <td>24294.787109</td>\n",
       "      <td>23481.173828</td>\n",
       "      <td>23804.632812</td>\n",
       "      <td>23804.632812</td>\n",
       "      <td>35887249746</td>\n",
       "    </tr>\n",
       "    <tr>\n",
       "      <th>362</th>\n",
       "      <td>2022-07-30</td>\n",
       "      <td>23796.818359</td>\n",
       "      <td>24572.580078</td>\n",
       "      <td>23580.507812</td>\n",
       "      <td>23656.207031</td>\n",
       "      <td>23656.207031</td>\n",
       "      <td>28148218301</td>\n",
       "    </tr>\n",
       "    <tr>\n",
       "      <th>363</th>\n",
       "      <td>2022-07-31</td>\n",
       "      <td>23652.070312</td>\n",
       "      <td>24121.642578</td>\n",
       "      <td>23275.703125</td>\n",
       "      <td>23336.896484</td>\n",
       "      <td>23336.896484</td>\n",
       "      <td>23553591896</td>\n",
       "    </tr>\n",
       "    <tr>\n",
       "      <th>364</th>\n",
       "      <td>2022-08-01</td>\n",
       "      <td>23336.718750</td>\n",
       "      <td>23464.787109</td>\n",
       "      <td>22890.796875</td>\n",
       "      <td>23314.199219</td>\n",
       "      <td>23314.199219</td>\n",
       "      <td>25849159141</td>\n",
       "    </tr>\n",
       "  </tbody>\n",
       "</table>\n",
       "<p>365 rows × 7 columns</p>\n",
       "</div>"
      ],
      "text/plain": [
       "          Date          Open          High           Low         Close  \\\n",
       "0   2021-08-02  39907.261719  40419.179688  38746.347656  39201.945312   \n",
       "1   2021-08-03  39178.402344  39750.031250  37782.050781  38152.980469   \n",
       "2   2021-08-04  38213.332031  39952.296875  37589.164062  39747.503906   \n",
       "3   2021-08-05  39744.515625  41341.933594  37458.003906  40869.554688   \n",
       "4   2021-08-06  40865.867188  43271.660156  39932.179688  42816.500000   \n",
       "..         ...           ...           ...           ...           ...   \n",
       "360 2022-07-28  22933.640625  24110.470703  22722.265625  23843.886719   \n",
       "361 2022-07-29  23845.212891  24294.787109  23481.173828  23804.632812   \n",
       "362 2022-07-30  23796.818359  24572.580078  23580.507812  23656.207031   \n",
       "363 2022-07-31  23652.070312  24121.642578  23275.703125  23336.896484   \n",
       "364 2022-08-01  23336.718750  23464.787109  22890.796875  23314.199219   \n",
       "\n",
       "        Adj Close       Volume  \n",
       "0    39201.945312  25595265436  \n",
       "1    38152.980469  26189830450  \n",
       "2    39747.503906  25372562724  \n",
       "3    40869.554688  35185031017  \n",
       "4    42816.500000  38226483046  \n",
       "..            ...          ...  \n",
       "360  23843.886719  40212386158  \n",
       "361  23804.632812  35887249746  \n",
       "362  23656.207031  28148218301  \n",
       "363  23336.896484  23553591896  \n",
       "364  23314.199219  25849159141  \n",
       "\n",
       "[365 rows x 7 columns]"
      ]
     },
     "execution_count": 5,
     "metadata": {},
     "output_type": "execute_result"
    }
   ],
   "source": [
    "data.reset_index(drop=True, inplace=True)\n",
    "data"
   ]
  },
  {
   "cell_type": "code",
   "execution_count": null,
   "metadata": {},
   "outputs": [
    {
     "name": "stdout",
     "output_type": "stream",
     "text": [
      "Inferred frequency is: D\n",
      "Model Number: 1 with model ARIMA in generation 0 of 10\n",
      "Model Number: 2 with model AverageValueNaive in generation 0 of 10\n",
      "Model Number: 3 with model AverageValueNaive in generation 0 of 10\n",
      "Model Number: 4 with model AverageValueNaive in generation 0 of 10\n",
      "Model Number: 5 with model DatepartRegression in generation 0 of 10\n",
      "Model Number: 6 with model DatepartRegression in generation 0 of 10\n"
     ]
    },
    {
     "name": "stderr",
     "output_type": "stream",
     "text": [
      "/usr/local/lib/python3.7/site-packages/sklearn/svm/_base.py:1208: ConvergenceWarning: Liblinear failed to converge, increase the number of iterations.\n",
      "  ConvergenceWarning,\n"
     ]
    },
    {
     "name": "stdout",
     "output_type": "stream",
     "text": [
      "Model Number: 7 with model DatepartRegression in generation 0 of 10\n"
     ]
    },
    {
     "name": "stderr",
     "output_type": "stream",
     "text": [
      "/usr/local/lib/python3.7/site-packages/sklearn/neural_network/_multilayer_perceptron.py:549: ConvergenceWarning: lbfgs failed to converge (status=1):\n",
      "STOP: TOTAL NO. of ITERATIONS REACHED LIMIT.\n",
      "\n",
      "Increase the number of iterations (max_iter) or scale the data as shown in:\n",
      "    https://scikit-learn.org/stable/modules/preprocessing.html\n",
      "  self.n_iter_ = _check_optimize_result(\"lbfgs\", opt_res, self.max_iter)\n"
     ]
    },
    {
     "name": "stdout",
     "output_type": "stream",
     "text": [
      "Model Number: 8 with model DatepartRegression in generation 0 of 10\n",
      "Epoch 1/50\n",
      "10/10 [==============================] - 4s 4ms/step - loss: 0.4126\n",
      "Epoch 2/50\n",
      "10/10 [==============================] - 0s 4ms/step - loss: 0.3859\n",
      "Epoch 3/50\n",
      "10/10 [==============================] - 0s 9ms/step - loss: 0.3590\n",
      "Epoch 4/50\n",
      "10/10 [==============================] - 0s 9ms/step - loss: 0.3293\n",
      "Epoch 5/50\n",
      "10/10 [==============================] - 0s 9ms/step - loss: 0.2881\n",
      "Epoch 6/50\n",
      "10/10 [==============================] - 0s 4ms/step - loss: 0.2663\n",
      "Epoch 7/50\n",
      "10/10 [==============================] - 0s 4ms/step - loss: 0.2451\n",
      "Epoch 8/50\n",
      "10/10 [==============================] - 0s 9ms/step - loss: 0.2346\n",
      "Epoch 9/50\n",
      "10/10 [==============================] - 0s 9ms/step - loss: 0.2312\n",
      "Epoch 10/50\n",
      "10/10 [==============================] - 0s 4ms/step - loss: 0.2306\n",
      "Epoch 11/50\n",
      "10/10 [==============================] - 0s 4ms/step - loss: 0.2252\n",
      "Epoch 12/50\n",
      "10/10 [==============================] - 0s 7ms/step - loss: 0.2172\n",
      "Epoch 13/50\n",
      "10/10 [==============================] - 0s 4ms/step - loss: 0.2159\n",
      "Epoch 14/50\n",
      "10/10 [==============================] - 0s 7ms/step - loss: 0.2094\n",
      "Epoch 15/50\n",
      "10/10 [==============================] - 0s 4ms/step - loss: 0.2090\n",
      "Epoch 16/50\n",
      "10/10 [==============================] - 0s 6ms/step - loss: 0.2059\n",
      "Epoch 17/50\n",
      "10/10 [==============================] - 0s 4ms/step - loss: 0.2084\n",
      "Epoch 18/50\n",
      "10/10 [==============================] - 0s 6ms/step - loss: 0.2068\n",
      "Epoch 19/50\n",
      "10/10 [==============================] - 0s 4ms/step - loss: 0.2055\n",
      "Epoch 20/50\n",
      "10/10 [==============================] - 0s 6ms/step - loss: 0.2093\n",
      "Epoch 21/50\n",
      "10/10 [==============================] - 0s 4ms/step - loss: 0.2024\n",
      "Epoch 22/50\n",
      "10/10 [==============================] - 0s 6ms/step - loss: 0.2000\n",
      "Epoch 23/50\n",
      "10/10 [==============================] - 0s 4ms/step - loss: 0.2011\n",
      "Epoch 24/50\n",
      "10/10 [==============================] - 0s 6ms/step - loss: 0.1966\n",
      "Epoch 25/50\n",
      "10/10 [==============================] - 0s 4ms/step - loss: 0.1935\n",
      "Epoch 26/50\n",
      "10/10 [==============================] - 0s 6ms/step - loss: 0.1971\n",
      "Epoch 27/50\n",
      "10/10 [==============================] - 0s 4ms/step - loss: 0.1924\n",
      "Epoch 28/50\n",
      "10/10 [==============================] - 0s 4ms/step - loss: 0.2013\n",
      "Epoch 29/50\n",
      "10/10 [==============================] - 0s 4ms/step - loss: 0.1888\n",
      "Epoch 30/50\n",
      "10/10 [==============================] - 0s 6ms/step - loss: 0.1974\n",
      "Epoch 31/50\n",
      "10/10 [==============================] - 0s 4ms/step - loss: 0.1910\n",
      "Epoch 32/50\n",
      "10/10 [==============================] - 0s 6ms/step - loss: 0.1938\n",
      "Epoch 33/50\n",
      "10/10 [==============================] - 0s 4ms/step - loss: 0.1935\n",
      "Epoch 34/50\n",
      "10/10 [==============================] - 0s 4ms/step - loss: 0.1889\n",
      "Epoch 35/50\n",
      "10/10 [==============================] - 0s 4ms/step - loss: 0.1952\n",
      "Epoch 36/50\n",
      "10/10 [==============================] - 0s 6ms/step - loss: 0.1868\n",
      "Epoch 37/50\n",
      "10/10 [==============================] - 0s 4ms/step - loss: 0.1949\n",
      "Epoch 38/50\n",
      "10/10 [==============================] - 0s 6ms/step - loss: 0.1890\n",
      "Epoch 39/50\n",
      "10/10 [==============================] - 0s 4ms/step - loss: 0.1908\n",
      "Epoch 40/50\n",
      "10/10 [==============================] - 0s 4ms/step - loss: 0.1913\n",
      "Epoch 41/50\n",
      "10/10 [==============================] - 0s 4ms/step - loss: 0.1891\n",
      "Epoch 42/50\n",
      "10/10 [==============================] - 0s 4ms/step - loss: 0.1851\n",
      "Epoch 43/50\n",
      "10/10 [==============================] - 0s 4ms/step - loss: 0.1842\n",
      "Epoch 44/50\n",
      "10/10 [==============================] - 0s 4ms/step - loss: 0.1830\n",
      "Epoch 45/50\n",
      "10/10 [==============================] - 0s 4ms/step - loss: 0.1886\n",
      "Epoch 46/50\n",
      "10/10 [==============================] - 0s 4ms/step - loss: 0.1841\n",
      "Epoch 47/50\n",
      "10/10 [==============================] - 0s 4ms/step - loss: 0.1884\n",
      "Epoch 48/50\n",
      "10/10 [==============================] - 0s 4ms/step - loss: 0.1799\n",
      "Epoch 49/50\n",
      "10/10 [==============================] - 0s 4ms/step - loss: 0.1794\n",
      "Epoch 50/50\n",
      "10/10 [==============================] - 0s 4ms/step - loss: 0.1782\n",
      "Model Number: 9 with model ETS in generation 0 of 10\n",
      "ETS error TypeError(\"__init__() got an unexpected keyword argument 'damped_trend'\")\n",
      "Model Number: 10 with model ETS in generation 0 of 10\n",
      "ETS error TypeError(\"__init__() got an unexpected keyword argument 'damped_trend'\")\n",
      "Model Number: 11 with model GLM in generation 0 of 10\n",
      "Model Number: 12 with model GLM in generation 0 of 10\n",
      "Model Number: 13 with model GLS in generation 0 of 10\n",
      "Model Number: 14 with model GLS in generation 0 of 10\n",
      "Model Number: 15 with model GluonTS in generation 0 of 10\n",
      "Template Eval Error: ImportError('GluonTS installation is incompatible with AutoTS. The numpy version is sometimes the issue, try 1.23.1 {as of 06-2023}') in model 15 in generation 0: GluonTS\n",
      "Model Number: 16 with model GluonTS in generation 0 of 10\n",
      "Template Eval Error: ImportError('GluonTS installation is incompatible with AutoTS. The numpy version is sometimes the issue, try 1.23.1 {as of 06-2023}') in model 16 in generation 0: GluonTS\n",
      "Model Number: 17 with model GluonTS in generation 0 of 10\n",
      "Template Eval Error: ImportError('GluonTS installation is incompatible with AutoTS. The numpy version is sometimes the issue, try 1.23.1 {as of 06-2023}') in model 17 in generation 0: GluonTS\n",
      "Model Number: 18 with model GluonTS in generation 0 of 10\n",
      "Template Eval Error: ImportError('GluonTS installation is incompatible with AutoTS. The numpy version is sometimes the issue, try 1.23.1 {as of 06-2023}') in model 18 in generation 0: GluonTS\n",
      "Model Number: 19 with model GluonTS in generation 0 of 10\n",
      "Template Eval Error: ImportError('GluonTS installation is incompatible with AutoTS. The numpy version is sometimes the issue, try 1.23.1 {as of 06-2023}') in model 19 in generation 0: GluonTS\n",
      "Model Number: 20 with model LastValueNaive in generation 0 of 10\n",
      "Model Number: 21 with model LastValueNaive in generation 0 of 10\n",
      "Model Number: 22 with model LastValueNaive in generation 0 of 10\n",
      "Model Number: 23 with model LastValueNaive in generation 0 of 10\n",
      "Model Number: 24 with model SeasonalNaive in generation 0 of 10\n",
      "Model Number: 25 with model SeasonalNaive in generation 0 of 10\n",
      "Model Number: 26 with model SeasonalNaive in generation 0 of 10\n",
      "Model Number: 27 with model UnobservedComponents in generation 0 of 10\n",
      "Model Number: 28 with model UnobservedComponents in generation 0 of 10\n",
      "Model Number: 29 with model UnobservedComponents in generation 0 of 10\n",
      "Model Number: 30 with model VAR in generation 0 of 10\n",
      "Template Eval Error: ValueError('Only gave one variable to VAR') in model 30 in generation 0: VAR\n",
      "Model Number: 31 with model VAR in generation 0 of 10\n",
      "Template Eval Error: ValueError('Only gave one variable to VAR') in model 31 in generation 0: VAR\n",
      "Model Number: 32 with model VECM in generation 0 of 10\n",
      "Template Eval Error: ValueError('Only gave one variable to VECM') in model 32 in generation 0: VECM\n",
      "Model Number: 33 with model VECM in generation 0 of 10\n",
      "Template Eval Error: ValueError('Only gave one variable to VECM') in model 33 in generation 0: VECM\n",
      "Model Number: 34 with model WindowRegression in generation 0 of 10\n",
      "Model Number: 35 with model ConstantNaive in generation 0 of 10\n"
     ]
    },
    {
     "name": "stderr",
     "output_type": "stream",
     "text": [
      "/usr/local/lib/python3.7/site-packages/sklearn/neural_network/_multilayer_perceptron.py:549: ConvergenceWarning: lbfgs failed to converge (status=1):\n",
      "STOP: TOTAL NO. of ITERATIONS REACHED LIMIT.\n",
      "\n",
      "Increase the number of iterations (max_iter) or scale the data as shown in:\n",
      "    https://scikit-learn.org/stable/modules/preprocessing.html\n",
      "  self.n_iter_ = _check_optimize_result(\"lbfgs\", opt_res, self.max_iter)\n"
     ]
    },
    {
     "name": "stdout",
     "output_type": "stream",
     "text": [
      "Model Number: 36 with model FBProphet in generation 0 of 10\n"
     ]
    },
    {
     "name": "stderr",
     "output_type": "stream",
     "text": [
      "INFO:prophet:Disabling yearly seasonality. Run prophet with yearly_seasonality=True to override this.\n",
      "INFO:prophet:Disabling daily seasonality. Run prophet with daily_seasonality=True to override this.\n",
      "INFO:cmdstanpy:start chain 1\n",
      "INFO:cmdstanpy:finish chain 1\n"
     ]
    },
    {
     "name": "stdout",
     "output_type": "stream",
     "text": [
      "Model Number: 37 with model GluonTS in generation 0 of 10\n",
      "Template Eval Error: ImportError('GluonTS installation is incompatible with AutoTS. The numpy version is sometimes the issue, try 1.23.1 {as of 06-2023}') in model 37 in generation 0: GluonTS\n",
      "Model Number: 38 with model MultivariateRegression in generation 0 of 10\n",
      "Model Number: 39 with model MultivariateRegression in generation 0 of 10\n",
      "Template Eval Error: ValueError(\"regression_type='User' but not future_regressor supplied.\") in model 39 in generation 0: MultivariateRegression\n",
      "Model Number: 40 with model DatepartRegression in generation 0 of 10\n",
      "Template Eval Error: ValueError(\"regression_type='User' but no future_regressor passed\") in model 40 in generation 0: DatepartRegression\n",
      "Model Number: 41 with model SeasonalNaive in generation 0 of 10\n",
      "Model Number: 42 with model DatepartRegression in generation 0 of 10\n",
      "Model Number: 43 with model UnobservedComponents in generation 0 of 10\n",
      "Model Number: 44 with model UnobservedComponents in generation 0 of 10\n",
      "Model Number: 45 with model ETS in generation 0 of 10\n",
      "ETS error TypeError(\"__init__() got an unexpected keyword argument 'damped_trend'\")\n",
      "Model Number: 46 with model VECM in generation 0 of 10\n",
      "Template Eval Error: ValueError('Only gave one variable to VECM') in model 46 in generation 0: VECM\n",
      "Model Number: 47 with model ARDL in generation 0 of 10\n",
      "Template Eval Error: ImportError(\"cannot import name 'ARDL' from 'statsmodels.tsa.api' (/usr/local/lib/python3.7/site-packages/statsmodels/tsa/api.py)\") in model 47 in generation 0: ARDL\n",
      "Model Number: 48 with model MultivariateMotif in generation 0 of 10\n",
      "Model Number: 49 with model MultivariateMotif in generation 0 of 10\n",
      "Model Number: 50 with model UnivariateMotif in generation 0 of 10\n",
      "Model Number: 51 with model UnivariateMotif in generation 0 of 10\n",
      "Model Number: 52 with model SectionalMotif in generation 0 of 10\n",
      "Model Number: 53 with model SectionalMotif in generation 0 of 10\n",
      "Model Number: 54 with model MultivariateRegression in generation 0 of 10\n"
     ]
    },
    {
     "name": "stderr",
     "output_type": "stream",
     "text": [
      "INFO:prophet:Disabling yearly seasonality. Run prophet with yearly_seasonality=True to override this.\n",
      "INFO:prophet:Disabling daily seasonality. Run prophet with daily_seasonality=True to override this.\n",
      "INFO:cmdstanpy:start chain 1\n"
     ]
    },
    {
     "name": "stdout",
     "output_type": "stream",
     "text": [
      "Model Number: 55 with model FBProphet in generation 0 of 10\n"
     ]
    },
    {
     "name": "stderr",
     "output_type": "stream",
     "text": [
      "INFO:cmdstanpy:finish chain 1\n"
     ]
    },
    {
     "name": "stdout",
     "output_type": "stream",
     "text": [
      "Model Number: 56 with model SeasonalNaive in generation 0 of 10\n",
      "Model Number: 57 with model DatepartRegression in generation 0 of 10\n",
      "Model Number: 58 with model NVAR in generation 0 of 10\n",
      "Model Number: 59 with model Theta in generation 0 of 10\n",
      "Template Eval Error: ModuleNotFoundError(\"No module named 'statsmodels.tsa.forecasting'\") in model 59 in generation 0: Theta\n",
      "Model Number: 60 with model UnivariateRegression in generation 0 of 10\n",
      "Template Eval Error: ValueError(\"Input contains NaN, infinity or a value too large for dtype('float32').\") in model 60 in generation 0: UnivariateRegression\n",
      "Model Number: 61 with model ARCH in generation 0 of 10\n",
      "Template Eval Error: ImportError('`arch` package must be installed from pip') in model 61 in generation 0: ARCH\n",
      "Model Number: 62 with model ConstantNaive in generation 0 of 10\n",
      "Model Number: 63 with model LastValueNaive in generation 0 of 10\n",
      "Model Number: 64 with model AverageValueNaive in generation 0 of 10\n",
      "Model Number: 65 with model GLS in generation 0 of 10\n",
      "Model Number: 66 with model SeasonalNaive in generation 0 of 10\n",
      "Model Number: 67 with model GLM in generation 0 of 10\n"
     ]
    },
    {
     "name": "stderr",
     "output_type": "stream",
     "text": [
      "/usr/local/lib/python3.7/site-packages/statsmodels/genmod/families/family.py:1226: RuntimeWarning: divide by zero encountered in true_divide\n",
      "  endog_mu = self._clean(endog / mu)\n"
     ]
    },
    {
     "name": "stdout",
     "output_type": "stream",
     "text": [
      "Model Number: 68 with model ETS in generation 0 of 10\n",
      "ETS error TypeError(\"__init__() got an unexpected keyword argument 'damped_trend'\")\n"
     ]
    },
    {
     "name": "stderr",
     "output_type": "stream",
     "text": [
      "INFO:prophet:Disabling yearly seasonality. Run prophet with yearly_seasonality=True to override this.\n",
      "INFO:prophet:Disabling daily seasonality. Run prophet with daily_seasonality=True to override this.\n",
      "INFO:cmdstanpy:start chain 1\n",
      "INFO:cmdstanpy:finish chain 1\n"
     ]
    },
    {
     "name": "stdout",
     "output_type": "stream",
     "text": [
      "Model Number: 69 with model FBProphet in generation 0 of 10\n",
      "Model Number: 70 with model GluonTS in generation 0 of 10\n",
      "Template Eval Error: ImportError('GluonTS installation is incompatible with AutoTS. The numpy version is sometimes the issue, try 1.23.1 {as of 06-2023}') in model 70 in generation 0: GluonTS\n",
      "Model Number: 71 with model UnobservedComponents in generation 0 of 10\n",
      "Model Number: 72 with model VAR in generation 0 of 10\n",
      "Template Eval Error: ValueError('Only gave one variable to VAR') in model 72 in generation 0: VAR\n",
      "Model Number: 73 with model VECM in generation 0 of 10\n",
      "Template Eval Error: ValueError('Only gave one variable to VECM') in model 73 in generation 0: VECM\n",
      "Model Number: 74 with model ARIMA in generation 0 of 10\n",
      "Template Eval Error: ValueError(\"regression_type='User' but future_regressor not supplied\") in model 74 in generation 0: ARIMA\n",
      "Model Number: 75 with model WindowRegression in generation 0 of 10\n",
      "Model Number: 76 with model DatepartRegression in generation 0 of 10\n",
      "Template Eval Error: ValueError(\"regression_type='User' but no future_regressor passed\") in model 76 in generation 0: DatepartRegression\n",
      "Model Number: 77 with model UnivariateRegression in generation 0 of 10\n",
      "Model Number: 78 with model MultivariateRegression in generation 0 of 10\n",
      "Template Eval Error: ModuleNotFoundError(\"No module named 'lightgbm'\") in model 78 in generation 0: MultivariateRegression\n",
      "Model Number: 79 with model UnivariateMotif in generation 0 of 10\n",
      "Model Number: 80 with model MultivariateMotif in generation 0 of 10\n",
      "Model Number: 81 with model SectionalMotif in generation 0 of 10\n",
      "Model Number: 82 with model NVAR in generation 0 of 10\n",
      "Model Number: 83 with model Theta in generation 0 of 10\n",
      "Template Eval Error: ModuleNotFoundError(\"No module named 'statsmodels.tsa.forecasting'\") in model 83 in generation 0: Theta\n",
      "Model Number: 84 with model ARDL in generation 0 of 10\n",
      "Template Eval Error: ValueError(\"regression_type='User' but future_regressor not supplied\") in model 84 in generation 0: ARDL\n",
      "Model Number: 85 with model ARCH in generation 0 of 10\n",
      "Template Eval Error: ImportError('`arch` package must be installed from pip') in model 85 in generation 0: ARCH\n",
      "Model Number: 86 with model MetricMotif in generation 0 of 10\n",
      "Model Number: 87 with model MetricMotif in generation 0 of 10\n"
     ]
    },
    {
     "name": "stderr",
     "output_type": "stream",
     "text": [
      "INFO:prophet:Disabling yearly seasonality. Run prophet with yearly_seasonality=True to override this.\n",
      "INFO:prophet:Disabling daily seasonality. Run prophet with daily_seasonality=True to override this.\n",
      "INFO:cmdstanpy:start chain 1\n"
     ]
    },
    {
     "name": "stdout",
     "output_type": "stream",
     "text": [
      "Model Number: 88 with model FBProphet in generation 0 of 10\n"
     ]
    },
    {
     "name": "stderr",
     "output_type": "stream",
     "text": [
      "INFO:cmdstanpy:finish chain 1\n"
     ]
    },
    {
     "name": "stdout",
     "output_type": "stream",
     "text": [
      "Model Number: 89 with model GluonTS in generation 0 of 10\n",
      "Template Eval Error: ImportError('GluonTS installation is incompatible with AutoTS. The numpy version is sometimes the issue, try 1.23.1 {as of 06-2023}') in model 89 in generation 0: GluonTS\n",
      "Model Number: 90 with model MetricMotif in generation 0 of 10\n",
      "Template Eval Error: Exception('Transformer AlignLastValue failed on inverse') in model 90 in generation 0: MetricMotif\n",
      "Model Number: 91 with model Theta in generation 0 of 10\n",
      "Template Eval Error: ModuleNotFoundError(\"No module named 'statsmodels.tsa.forecasting'\") in model 91 in generation 0: Theta\n",
      "Model Number: 92 with model NVAR in generation 0 of 10\n",
      "Model Number: 93 with model WindowRegression in generation 0 of 10\n",
      "Template Eval Error: TypeError(\"__init__() got an unexpected keyword argument 'estimator'\") in model 93 in generation 0: WindowRegression\n",
      "Model Number: 94 with model GluonTS in generation 0 of 10\n",
      "Template Eval Error: ImportError('GluonTS installation is incompatible with AutoTS. The numpy version is sometimes the issue, try 1.23.1 {as of 06-2023}') in model 94 in generation 0: GluonTS\n",
      "Model Number: 95 with model GLS in generation 0 of 10\n"
     ]
    },
    {
     "name": "stderr",
     "output_type": "stream",
     "text": [
      "/usr/local/lib/python3.7/site-packages/sklearn/linear_model/_ridge.py:157: LinAlgWarning: Ill-conditioned matrix (rcond=3.81215e-25): result may not be accurate.\n",
      "  return linalg.solve(A, Xy, sym_pos=True, overwrite_a=True).T\n"
     ]
    },
    {
     "name": "stdout",
     "output_type": "stream",
     "text": [
      "Model Number: 96 with model SeasonalNaive in generation 0 of 10\n",
      "Model Number: 97 with model ARIMA in generation 0 of 10\n",
      "Model Number: 98 with model DatepartRegression in generation 0 of 10\n",
      "Epoch 1/50\n",
      "Template Eval Error: InvalidArgumentError() in model 98 in generation 0: DatepartRegression\n",
      "Model Number: 99 with model Theta in generation 0 of 10\n",
      "Template Eval Error: ModuleNotFoundError(\"No module named 'statsmodels.tsa.forecasting'\") in model 99 in generation 0: Theta\n",
      "Model Number: 100 with model AverageValueNaive in generation 0 of 10\n",
      "Template Eval Error: ValueError(\"Model returned NaN due to a preprocessing transformer {'fillna': 'ffill', 'transformations': {'0': 'Discretize', '1': 'PowerTransformer', '2': 'Discretize', '3': 'Detrend', '4': 'AlignLastValue', '5': 'Detrend'}, 'transformation_params': {'0': {'discretization': 'center', 'n_bins': 5}, '1': {}, '2': {'discretization': 'upper', 'n_bins': 20}, '3': {'model': 'Linear', 'phi': 0.999, 'window': 900, 'transform_dict': None}, '4': {'rows': 1, 'lag': 1, 'method': 'additive', 'strength': 1.0, 'first_value_only': False}, '5': {'model': 'GLS', 'phi': 1, 'window': None, 'transform_dict': {'fillna': None, 'transformations': {'0': 'AnomalyRemoval'}, 'transformation_params': {'0': {'method': 'zscore', 'transform_dict': {'transformations': {'0': 'DatepartRegression'}, 'transformation_params': {'0': {'datepart_method': 'simple_3', 'regression_model': {'model': 'ElasticNet', 'model_params': {}}}}}, 'method_params': {'distribution': 'uniform', 'alpha': 0.05}}}}}}}. fail_on_forecast_nan=True\") in model 100 in generation 0: AverageValueNaive\n",
      "Model Number: 101 with model Theta in generation 0 of 10\n",
      "Template Eval Error: ModuleNotFoundError(\"No module named 'statsmodels.tsa.forecasting'\") in model 101 in generation 0: Theta\n",
      "Model Number: 102 with model ARIMA in generation 0 of 10\n",
      "Template Eval Error: ValueError(\"regression_type='User' but future_regressor not supplied\") in model 102 in generation 0: ARIMA\n"
     ]
    },
    {
     "name": "stderr",
     "output_type": "stream",
     "text": [
      "/usr/local/lib/python3.7/site-packages/sklearn/preprocessing/_data.py:3253: RuntimeWarning: divide by zero encountered in log\n",
      "  loglike = -n_samples / 2 * np.log(x_trans.var())\n",
      "/usr/local/lib/python3.7/site-packages/sklearn/linear_model/_coordinate_descent.py:648: ConvergenceWarning: Objective did not converge. You might want to increase the number of iterations, check the scale of the features or consider increasing regularisation. Duality gap: 0.000e+00, tolerance: 0.000e+00\n",
      "  coef_, l1_reg, l2_reg, X, y, max_iter, tol, rng, random, positive\n",
      "/usr/local/lib/python3.7/site-packages/sklearn/preprocessing/_data.py:3196: RuntimeWarning: divide by zero encountered in power\n",
      "  x_inv[pos] = np.power(x[pos] * lmbda + 1, 1 / lmbda) - 1\n",
      "/usr/local/lib/python3.7/site-packages/sklearn/preprocessing/_data.py:3196: RuntimeWarning: divide by zero encountered in power\n",
      "  x_inv[pos] = np.power(x[pos] * lmbda + 1, 1 / lmbda) - 1\n",
      "/usr/local/lib/python3.7/site-packages/sklearn/preprocessing/_data.py:3196: RuntimeWarning: divide by zero encountered in power\n",
      "  x_inv[pos] = np.power(x[pos] * lmbda + 1, 1 / lmbda) - 1\n"
     ]
    },
    {
     "name": "stdout",
     "output_type": "stream",
     "text": [
      "Model Number: 103 with model GLM in generation 0 of 10\n"
     ]
    },
    {
     "name": "stderr",
     "output_type": "stream",
     "text": [
      "/usr/local/lib/python3.7/site-packages/statsmodels/genmod/generalized_linear_model.py:278: DomainWarning: The inverse_power link function does not respect the domain of the Gamma family.\n",
      "  DomainWarning)\n"
     ]
    },
    {
     "name": "stdout",
     "output_type": "stream",
     "text": [
      "Model Number: 104 with model UnivariateMotif in generation 0 of 10\n",
      "Model Number: 105 with model UnobservedComponents in generation 0 of 10\n",
      "Model Number: 106 with model AverageValueNaive in generation 0 of 10\n",
      "Model Number: 107 with model ARCH in generation 0 of 10\n",
      "Template Eval Error: ImportError('`arch` package must be installed from pip') in model 107 in generation 0: ARCH\n",
      "Model Number: 108 with model ARIMA in generation 0 of 10\n",
      "Model Number: 109 with model Theta in generation 0 of 10\n",
      "Template Eval Error: ModuleNotFoundError(\"No module named 'statsmodels.tsa.forecasting'\") in model 109 in generation 0: Theta\n",
      "Model Number: 110 with model MetricMotif in generation 0 of 10\n",
      "Model Number: 111 with model SeasonalNaive in generation 0 of 10\n",
      "Model Number: 112 with model VECM in generation 0 of 10\n",
      "Template Eval Error: ValueError('Only gave one variable to VECM') in model 112 in generation 0: VECM\n",
      "Model Number: 113 with model UnobservedComponents in generation 0 of 10\n",
      "Template Eval Error: ValueError(\"regression_type='User' but no future_regressor supplied\") in model 113 in generation 0: UnobservedComponents\n",
      "Model Number: 114 with model UnobservedComponents in generation 0 of 10\n",
      "Model Number: 115 with model SeasonalNaive in generation 0 of 10\n",
      "Model Number: 116 with model VECM in generation 0 of 10\n",
      "Template Eval Error: ValueError('Only gave one variable to VECM') in model 116 in generation 0: VECM\n",
      "Model Number: 117 with model LastValueNaive in generation 0 of 10\n",
      "Model Number: 118 with model GLS in generation 0 of 10\n",
      "Model Number: 119 with model GLM in generation 0 of 10\n",
      "Model Number: 120 with model ConstantNaive in generation 0 of 10\n",
      "Model Number: 121 with model UnivariateMotif in generation 0 of 10\n",
      "Model Number: 122 with model SectionalMotif in generation 0 of 10\n",
      "Model Number: 123 with model Theta in generation 0 of 10\n",
      "Template Eval Error: ModuleNotFoundError(\"No module named 'statsmodels.tsa.forecasting'\") in model 123 in generation 0: Theta\n",
      "Model Number: 124 with model DatepartRegression in generation 0 of 10\n",
      "Template Eval Error: ValueError(\"regression_type='User' but no future_regressor passed\") in model 124 in generation 0: DatepartRegression\n",
      "Model Number: 125 with model ETS in generation 0 of 10\n",
      "ETS error TypeError(\"__init__() got an unexpected keyword argument 'damped_trend'\")\n",
      "Model Number: 126 with model ARDL in generation 0 of 10\n",
      "Template Eval Error: ValueError(\"regression_type='User' but future_regressor not supplied\") in model 126 in generation 0: ARDL\n",
      "Model Number: 127 with model LastValueNaive in generation 0 of 10\n",
      "Model Number: 128 with model WindowRegression in generation 0 of 10\n",
      "Model Number: 129 with model GLS in generation 0 of 10\n",
      "Model Number: 130 with model ARIMA in generation 0 of 10\n",
      "Model Number: 131 with model UnivariateMotif in generation 0 of 10\n",
      "Model Number: 132 with model ARIMA in generation 0 of 10\n",
      "Template Eval Error: ValueError(\"regression_type='User' but future_regressor not supplied\") in model 132 in generation 0: ARIMA\n",
      "Model Number: 133 with model VAR in generation 0 of 10\n",
      "Template Eval Error: ValueError('Only gave one variable to VAR') in model 133 in generation 0: VAR\n",
      "Model Number: 134 with model MultivariateRegression in generation 0 of 10\n",
      "Template Eval Error: ModuleNotFoundError(\"No module named 'lightgbm'\") in model 134 in generation 0: MultivariateRegression\n",
      "Model Number: 135 with model ConstantNaive in generation 0 of 10\n",
      "Model Number: 136 with model UnobservedComponents in generation 0 of 10\n",
      "Model Number: 137 with model VAR in generation 0 of 10\n",
      "Template Eval Error: ValueError('Only gave one variable to VAR') in model 137 in generation 0: VAR\n",
      "Model Number: 138 with model ARDL in generation 0 of 10\n",
      "Template Eval Error: ValueError(\"regression_type='User' but future_regressor not supplied\") in model 138 in generation 0: ARDL\n",
      "Model Number: 139 with model DatepartRegression in generation 0 of 10\n"
     ]
    },
    {
     "name": "stderr",
     "output_type": "stream",
     "text": [
      "/usr/local/lib/python3.7/site-packages/sklearn/svm/_base.py:1208: ConvergenceWarning: Liblinear failed to converge, increase the number of iterations.\n",
      "  ConvergenceWarning,\n"
     ]
    },
    {
     "name": "stdout",
     "output_type": "stream",
     "text": [
      "Model Number: 140 with model GLM in generation 0 of 10\n"
     ]
    },
    {
     "name": "stderr",
     "output_type": "stream",
     "text": [
      "/usr/local/lib/python3.7/site-packages/statsmodels/genmod/generalized_linear_model.py:278: DomainWarning: The inverse_power link function does not respect the domain of the Gamma family.\n",
      "  DomainWarning)\n",
      "/usr/local/lib/python3.7/site-packages/statsmodels/genmod/families/family.py:134: RuntimeWarning: overflow encountered in square\n",
      "  return 1. / (self.link.deriv(mu)**2 * self.variance(mu))\n",
      "/usr/local/lib/python3.7/site-packages/statsmodels/genmod/families/links.py:319: RuntimeWarning: divide by zero encountered in power\n",
      "  return np.power(z, 1. / self.power)\n",
      "/usr/local/lib/python3.7/site-packages/statsmodels/genmod/families/family.py:698: RuntimeWarning: invalid value encountered in true_divide\n",
      "  resid_dev = -np.log(endog_mu) + (endog - mu) / mu\n",
      "/usr/local/lib/python3.7/site-packages/statsmodels/genmod/generalized_linear_model.py:774: RuntimeWarning: invalid value encountered in true_divide\n",
      "  return np.sum(resid / self.family.variance(mu)) / self.df_resid\n",
      "/usr/local/lib/python3.7/site-packages/statsmodels/genmod/families/family.py:134: RuntimeWarning: invalid value encountered in multiply\n",
      "  return 1. / (self.link.deriv(mu)**2 * self.variance(mu))\n",
      "/usr/local/lib/python3.7/site-packages/statsmodels/genmod/generalized_linear_model.py:1162: RuntimeWarning: invalid value encountered in multiply\n",
      "  - self._offset_exposure)\n"
     ]
    },
    {
     "name": "stdout",
     "output_type": "stream",
     "text": [
      "Template Eval Error: ValueError('NaN, inf or invalid value detected in weights, estimation infeasible.') in model 140 in generation 0: GLM\n",
      "Model Number: 141 with model UnobservedComponents in generation 0 of 10\n",
      "Model Number: 142 with model LastValueNaive in generation 0 of 10\n"
     ]
    },
    {
     "name": "stderr",
     "output_type": "stream",
     "text": [
      "INFO:prophet:Disabling yearly seasonality. Run prophet with yearly_seasonality=True to override this.\n",
      "INFO:prophet:Disabling daily seasonality. Run prophet with daily_seasonality=True to override this.\n",
      "INFO:cmdstanpy:start chain 1\n",
      "INFO:cmdstanpy:finish chain 1\n"
     ]
    },
    {
     "name": "stdout",
     "output_type": "stream",
     "text": [
      "Model Number: 143 with model FBProphet in generation 0 of 10\n",
      "No anomalies detected.\n",
      "Model Number: 144 with model LastValueNaive in generation 0 of 10\n",
      "Model Number: 145 with model SeasonalNaive in generation 0 of 10\n",
      "Model Number: 146 with model NVAR in generation 0 of 10\n",
      "Model Number: 147 with model MultivariateRegression in generation 0 of 10\n",
      "Template Eval Error: ModuleNotFoundError(\"No module named 'lightgbm'\") in model 147 in generation 0: MultivariateRegression\n",
      "Model Number: 148 with model VECM in generation 0 of 10\n",
      "Template Eval Error: ValueError('Only gave one variable to VECM') in model 148 in generation 0: VECM\n",
      "Model Number: 149 with model NVAR in generation 0 of 10\n",
      "Model Number: 150 with model AverageValueNaive in generation 0 of 10\n",
      "Model Number: 151 with model ARCH in generation 0 of 10\n",
      "Template Eval Error: ImportError('`arch` package must be installed from pip') in model 151 in generation 0: ARCH\n",
      "Model Number: 152 with model ARDL in generation 0 of 10\n",
      "Template Eval Error: ImportError(\"cannot import name 'ARDL' from 'statsmodels.tsa.api' (/usr/local/lib/python3.7/site-packages/statsmodels/tsa/api.py)\") in model 152 in generation 0: ARDL\n",
      "Model Number: 153 with model MetricMotif in generation 0 of 10\n",
      "Model Number: 154 with model ConstantNaive in generation 0 of 10\n",
      "Model Number: 155 with model DatepartRegression in generation 0 of 10\n",
      "Template Eval Error: ValueError(\"regression_type='User' but no future_regressor passed\") in model 155 in generation 0: DatepartRegression\n",
      "Model Number: 156 with model ARDL in generation 0 of 10\n",
      "Template Eval Error: ValueError(\"regression_type='User' but future_regressor not supplied\") in model 156 in generation 0: ARDL\n",
      "Model Number: 157 with model Theta in generation 0 of 10\n",
      "Template Eval Error: ModuleNotFoundError(\"No module named 'statsmodels.tsa.forecasting'\") in model 157 in generation 0: Theta\n",
      "Model Number: 158 with model GLS in generation 0 of 10\n"
     ]
    },
    {
     "name": "stderr",
     "output_type": "stream",
     "text": [
      "/usr/local/lib/python3.7/site-packages/sklearn/preprocessing/_data.py:3253: RuntimeWarning: divide by zero encountered in log\n",
      "  loglike = -n_samples / 2 * np.log(x_trans.var())\n"
     ]
    },
    {
     "name": "stdout",
     "output_type": "stream",
     "text": [
      "Model Number: 159 with model UnivariateRegression in generation 0 of 10\n",
      "Template Eval Error: ValueError(\"regression_type='User' but not future_regressor supplied.\") in model 159 in generation 0: UnivariateRegression\n",
      "Model Number: 160 with model ARDL in generation 0 of 10\n",
      "Template Eval Error: ImportError(\"cannot import name 'ARDL' from 'statsmodels.tsa.api' (/usr/local/lib/python3.7/site-packages/statsmodels/tsa/api.py)\") in model 160 in generation 0: ARDL\n",
      "Model Number: 161 with model GLS in generation 0 of 10\n",
      "Template Eval Error: Exception('Transformer AlignLastValue failed on inverse') in model 161 in generation 0: GLS\n",
      "Model Number: 162 with model AverageValueNaive in generation 0 of 10\n",
      "Model Number: 163 with model GLM in generation 0 of 10\n",
      "Model Number: 164 with model LastValueNaive in generation 0 of 10\n",
      "Model Number: 165 with model AverageValueNaive in generation 0 of 10\n",
      "Model Number: 166 with model UnivariateMotif in generation 0 of 10\n",
      "Model Number: 167 with model Theta in generation 0 of 10\n",
      "Template Eval Error: ModuleNotFoundError(\"No module named 'statsmodels.tsa.forecasting'\") in model 167 in generation 0: Theta\n",
      "Model Number: 168 with model GLM in generation 0 of 10\n",
      "Model Number: 169 with model MultivariateMotif in generation 0 of 10\n"
     ]
    },
    {
     "name": "stderr",
     "output_type": "stream",
     "text": [
      "/usr/local/lib/python3.7/site-packages/statsmodels/genmod/generalized_linear_model.py:278: DomainWarning: The inverse_power link function does not respect the domain of the Gamma family.\n",
      "  DomainWarning)\n"
     ]
    },
    {
     "name": "stdout",
     "output_type": "stream",
     "text": [
      "Model Number: 170 with model Theta in generation 0 of 10\n",
      "Template Eval Error: ModuleNotFoundError(\"No module named 'statsmodels.tsa.forecasting'\") in model 170 in generation 0: Theta\n",
      "Model Number: 171 with model ARDL in generation 0 of 10\n",
      "Template Eval Error: ImportError(\"cannot import name 'ARDL' from 'statsmodels.tsa.api' (/usr/local/lib/python3.7/site-packages/statsmodels/tsa/api.py)\") in model 171 in generation 0: ARDL\n",
      "Model Number: 172 with model DatepartRegression in generation 0 of 10\n",
      "Model Number: 173 with model UnobservedComponents in generation 0 of 10\n",
      "Template Eval Error: ValueError(\"regression_type='User' but no future_regressor supplied\") in model 173 in generation 0: UnobservedComponents\n",
      "Model Number: 174 with model UnobservedComponents in generation 0 of 10\n",
      "Template Eval Error: ValueError(\"regression_type='User' but no future_regressor supplied\") in model 174 in generation 0: UnobservedComponents\n",
      "Model Number: 175 with model GluonTS in generation 0 of 10\n",
      "Template Eval Error: ImportError('GluonTS installation is incompatible with AutoTS. The numpy version is sometimes the issue, try 1.23.1 {as of 06-2023}') in model 175 in generation 0: GluonTS\n",
      "Model Number: 176 with model GLS in generation 0 of 10\n",
      "Model Number: 177 with model SeasonalNaive in generation 0 of 10\n",
      "Model Number: 178 with model ConstantNaive in generation 0 of 10\n",
      "Model Number: 179 with model ConstantNaive in generation 0 of 10\n",
      "Model Number: 180 with model MultivariateRegression in generation 0 of 10\n",
      "Template Eval Error: ValueError(\"regression_type='User' but not future_regressor supplied.\") in model 180 in generation 0: MultivariateRegression\n",
      "Model Number: 181 with model SeasonalNaive in generation 0 of 10\n",
      "Model Number: 182 with model SeasonalNaive in generation 0 of 10\n",
      "Model Number: 183 with model Theta in generation 0 of 10\n",
      "Template Eval Error: Exception('Transformer Detrend failed on fit') in model 183 in generation 0: Theta\n",
      "Model Number: 184 with model DatepartRegression in generation 0 of 10\n"
     ]
    },
    {
     "name": "stderr",
     "output_type": "stream",
     "text": [
      "/usr/local/lib/python3.7/site-packages/sklearn/svm/_base.py:1208: ConvergenceWarning: Liblinear failed to converge, increase the number of iterations.\n",
      "  ConvergenceWarning,\n",
      "INFO:prophet:Disabling yearly seasonality. Run prophet with yearly_seasonality=True to override this.\n",
      "INFO:prophet:Disabling daily seasonality. Run prophet with daily_seasonality=True to override this.\n",
      "INFO:cmdstanpy:start chain 1\n",
      "INFO:cmdstanpy:finish chain 1\n"
     ]
    },
    {
     "name": "stdout",
     "output_type": "stream",
     "text": [
      "Model Number: 185 with model FBProphet in generation 0 of 10\n",
      "Model Number: 186 with model ETS in generation 0 of 10\n",
      "ETS error TypeError(\"__init__() got an unexpected keyword argument 'damped_trend'\")\n",
      "ETS failed on Close with ValueError('endog must be strictly positive when usingmultiplicative trend or seasonal components.')\n",
      "New Generation: 1 of 10\n"
     ]
    },
    {
     "name": "stderr",
     "output_type": "stream",
     "text": [
      "INFO:prophet:Disabling yearly seasonality. Run prophet with yearly_seasonality=True to override this.\n",
      "INFO:prophet:Disabling daily seasonality. Run prophet with daily_seasonality=True to override this.\n"
     ]
    },
    {
     "name": "stdout",
     "output_type": "stream",
     "text": [
      "Model Number: 187 with model FBProphet in generation 1 of 10\n",
      "No anomalies detected.\n"
     ]
    },
    {
     "name": "stderr",
     "output_type": "stream",
     "text": [
      "INFO:cmdstanpy:start chain 1\n",
      "INFO:cmdstanpy:finish chain 1\n"
     ]
    },
    {
     "name": "stdout",
     "output_type": "stream",
     "text": [
      "Model Number: 188 with model DatepartRegression in generation 1 of 10\n",
      "Model Number: 189 with model SeasonalNaive in generation 1 of 10\n",
      "Model Number: 190 with model GLM in generation 1 of 10\n",
      "Template Eval Error: Exception('Transformer RegressionFilter failed on fit') in model 190 in generation 1: GLM\n",
      "Model Number: 191 with model ETS in generation 1 of 10\n",
      "ETS error TypeError(\"__init__() got an unexpected keyword argument 'damped_trend'\")\n",
      "Model Number: 192 with model UnivariateMotif in generation 1 of 10\n",
      "Model Number: 193 with model ETS in generation 1 of 10\n",
      "ETS error TypeError(\"__init__() got an unexpected keyword argument 'damped_trend'\")\n",
      "ETS failed on Close with ValueError('endog must be strictly positive when usingmultiplicative trend or seasonal components.')\n",
      "Model Number: 194 with model AverageValueNaive in generation 1 of 10\n",
      "Model Number: 195 with model AverageValueNaive in generation 1 of 10\n",
      "Model Number: 196 with model MultivariateRegression in generation 1 of 10\n",
      "Model Number: 197 with model GLS in generation 1 of 10\n",
      "Model Number: 198 with model GLS in generation 1 of 10\n",
      "Model Number: 199 with model NVAR in generation 1 of 10\n",
      "Model Number: 200 with model WindowRegression in generation 1 of 10\n",
      "Model Number: 201 with model NVAR in generation 1 of 10\n",
      "Model Number: 202 with model LastValueNaive in generation 1 of 10\n",
      "Model Number: 203 with model ETS in generation 1 of 10\n",
      "ETS error TypeError(\"__init__() got an unexpected keyword argument 'damped_trend'\")\n",
      "Template Eval Error: Exception('Transformer AlignLastValue failed on inverse') in model 203 in generation 1: ETS\n",
      "Model Number: 204 with model WindowRegression in generation 1 of 10\n",
      "Template Eval Error: ModuleNotFoundError(\"No module named 'lightgbm'\") in model 204 in generation 1: WindowRegression\n",
      "Model Number: 205 with model GLS in generation 1 of 10\n",
      "Model Number: 206 with model AverageValueNaive in generation 1 of 10\n",
      "Model Number: 207 with model MetricMotif in generation 1 of 10\n",
      "Model Number: 208 with model DatepartRegression in generation 1 of 10\n",
      "Template Eval Error: ValueError(\"regression_type='User' but no future_regressor passed\") in model 208 in generation 1: DatepartRegression\n",
      "Model Number: 209 with model SectionalMotif in generation 1 of 10\n",
      "Model Number: 210 with model ARIMA in generation 1 of 10\n",
      "Model Number: 211 with model ARIMA in generation 1 of 10\n",
      "Model Number: 212 with model UnivariateMotif in generation 1 of 10\n",
      "Model Number: 213 with model NVAR in generation 1 of 10\n"
     ]
    },
    {
     "name": "stderr",
     "output_type": "stream",
     "text": [
      "INFO:prophet:Disabling yearly seasonality. Run prophet with yearly_seasonality=True to override this.\n"
     ]
    },
    {
     "name": "stdout",
     "output_type": "stream",
     "text": [
      "Model Number: 214 with model FBProphet in generation 1 of 10\n"
     ]
    },
    {
     "name": "stderr",
     "output_type": "stream",
     "text": [
      "INFO:prophet:Disabling daily seasonality. Run prophet with daily_seasonality=True to override this.\n",
      "INFO:cmdstanpy:start chain 1\n",
      "INFO:cmdstanpy:finish chain 1\n"
     ]
    },
    {
     "name": "stdout",
     "output_type": "stream",
     "text": [
      "Model Number: 215 with model MetricMotif in generation 1 of 10\n",
      "Model Number: 216 with model LastValueNaive in generation 1 of 10\n",
      "Template Eval Error: Exception('Transformer AlignLastValue failed on inverse') in model 216 in generation 1: LastValueNaive\n",
      "Model Number: 217 with model NVAR in generation 1 of 10\n",
      "Model Number: 218 with model ETS in generation 1 of 10\n",
      "ETS error TypeError(\"__init__() got an unexpected keyword argument 'damped_trend'\")\n",
      "ETS failed on Close with ValueError('could not broadcast input array from shape (106,) into shape (370,)')\n",
      "Model Number: 219 with model SeasonalNaive in generation 1 of 10\n",
      "Model Number: 220 with model LastValueNaive in generation 1 of 10\n",
      "Model Number: 221 with model MetricMotif in generation 1 of 10\n",
      "Model Number: 222 with model LastValueNaive in generation 1 of 10\n",
      "Model Number: 223 with model UnobservedComponents in generation 1 of 10\n",
      "Model Number: 224 with model MetricMotif in generation 1 of 10\n",
      "Model Number: 225 with model SeasonalNaive in generation 1 of 10\n",
      "Model Number: 226 with model SeasonalNaive in generation 1 of 10\n",
      "Model Number: 227 with model SeasonalNaive in generation 1 of 10\n",
      "Model Number: 228 with model NVAR in generation 1 of 10\n",
      "Model Number: 229 with model WindowRegression in generation 1 of 10\n",
      "Model Number: 230 with model WindowRegression in generation 1 of 10\n",
      "Model Number: 231 with model SeasonalNaive in generation 1 of 10\n"
     ]
    },
    {
     "name": "stderr",
     "output_type": "stream",
     "text": [
      "/usr/local/lib/python3.7/site-packages/sklearn/decomposition/_pca.py:501: RuntimeWarning: invalid value encountered in true_divide\n",
      "  explained_variance_ratio_ = explained_variance_ / total_var\n",
      "/home/labsuser/.local/lib/python3.7/site-packages/autots/tools/probabilistic.py:67: RuntimeWarning: invalid value encountered in true_divide\n",
      "  (prior_mu / prior_sigma**2) + ((n * data_mu) / prior_sigma**2)\n",
      "/home/labsuser/.local/lib/python3.7/site-packages/autots/tools/probabilistic.py:68: RuntimeWarning: divide by zero encountered in true_divide\n",
      "  ) / ((1 / prior_sigma**2) + (n / prior_sigma**2))\n",
      "/home/labsuser/.local/lib/python3.7/site-packages/autots/tools/probabilistic.py:67: RuntimeWarning: invalid value encountered in true_divide\n",
      "  (prior_mu / prior_sigma**2) + ((n * data_mu) / prior_sigma**2)\n",
      "/home/labsuser/.local/lib/python3.7/site-packages/autots/tools/probabilistic.py:68: RuntimeWarning: divide by zero encountered in true_divide\n",
      "  ) / ((1 / prior_sigma**2) + (n / prior_sigma**2))\n",
      "/home/labsuser/.local/lib/python3.7/site-packages/autots/tools/probabilistic.py:67: RuntimeWarning: invalid value encountered in true_divide\n",
      "  (prior_mu / prior_sigma**2) + ((n * data_mu) / prior_sigma**2)\n",
      "/home/labsuser/.local/lib/python3.7/site-packages/autots/tools/probabilistic.py:68: RuntimeWarning: divide by zero encountered in true_divide\n",
      "  ) / ((1 / prior_sigma**2) + (n / prior_sigma**2))\n",
      "/home/labsuser/.local/lib/python3.7/site-packages/autots/tools/probabilistic.py:67: RuntimeWarning: invalid value encountered in true_divide\n",
      "  (prior_mu / prior_sigma**2) + ((n * data_mu) / prior_sigma**2)\n",
      "/home/labsuser/.local/lib/python3.7/site-packages/autots/tools/probabilistic.py:68: RuntimeWarning: divide by zero encountered in true_divide\n",
      "  ) / ((1 / prior_sigma**2) + (n / prior_sigma**2))\n",
      "/home/labsuser/.local/lib/python3.7/site-packages/autots/tools/probabilistic.py:67: RuntimeWarning: invalid value encountered in true_divide\n",
      "  (prior_mu / prior_sigma**2) + ((n * data_mu) / prior_sigma**2)\n",
      "/home/labsuser/.local/lib/python3.7/site-packages/autots/tools/probabilistic.py:68: RuntimeWarning: divide by zero encountered in true_divide\n",
      "  ) / ((1 / prior_sigma**2) + (n / prior_sigma**2))\n",
      "/home/labsuser/.local/lib/python3.7/site-packages/autots/tools/probabilistic.py:67: RuntimeWarning: invalid value encountered in true_divide\n",
      "  (prior_mu / prior_sigma**2) + ((n * data_mu) / prior_sigma**2)\n",
      "/home/labsuser/.local/lib/python3.7/site-packages/autots/tools/probabilistic.py:68: RuntimeWarning: divide by zero encountered in true_divide\n",
      "  ) / ((1 / prior_sigma**2) + (n / prior_sigma**2))\n",
      "/home/labsuser/.local/lib/python3.7/site-packages/autots/tools/probabilistic.py:67: RuntimeWarning: invalid value encountered in true_divide\n",
      "  (prior_mu / prior_sigma**2) + ((n * data_mu) / prior_sigma**2)\n",
      "/home/labsuser/.local/lib/python3.7/site-packages/autots/tools/probabilistic.py:68: RuntimeWarning: divide by zero encountered in true_divide\n",
      "  ) / ((1 / prior_sigma**2) + (n / prior_sigma**2))\n",
      "/home/labsuser/.local/lib/python3.7/site-packages/autots/tools/probabilistic.py:67: RuntimeWarning: invalid value encountered in true_divide\n",
      "  (prior_mu / prior_sigma**2) + ((n * data_mu) / prior_sigma**2)\n",
      "/home/labsuser/.local/lib/python3.7/site-packages/autots/tools/probabilistic.py:68: RuntimeWarning: divide by zero encountered in true_divide\n",
      "  ) / ((1 / prior_sigma**2) + (n / prior_sigma**2))\n",
      "/home/labsuser/.local/lib/python3.7/site-packages/autots/tools/probabilistic.py:67: RuntimeWarning: invalid value encountered in true_divide\n",
      "  (prior_mu / prior_sigma**2) + ((n * data_mu) / prior_sigma**2)\n",
      "/home/labsuser/.local/lib/python3.7/site-packages/autots/tools/probabilistic.py:68: RuntimeWarning: divide by zero encountered in true_divide\n",
      "  ) / ((1 / prior_sigma**2) + (n / prior_sigma**2))\n",
      "/home/labsuser/.local/lib/python3.7/site-packages/autots/tools/probabilistic.py:67: RuntimeWarning: invalid value encountered in true_divide\n",
      "  (prior_mu / prior_sigma**2) + ((n * data_mu) / prior_sigma**2)\n",
      "/home/labsuser/.local/lib/python3.7/site-packages/autots/tools/probabilistic.py:68: RuntimeWarning: divide by zero encountered in true_divide\n",
      "  ) / ((1 / prior_sigma**2) + (n / prior_sigma**2))\n",
      "/home/labsuser/.local/lib/python3.7/site-packages/autots/tools/probabilistic.py:67: RuntimeWarning: invalid value encountered in true_divide\n",
      "  (prior_mu / prior_sigma**2) + ((n * data_mu) / prior_sigma**2)\n",
      "/home/labsuser/.local/lib/python3.7/site-packages/autots/tools/probabilistic.py:68: RuntimeWarning: divide by zero encountered in true_divide\n",
      "  ) / ((1 / prior_sigma**2) + (n / prior_sigma**2))\n",
      "/home/labsuser/.local/lib/python3.7/site-packages/autots/tools/probabilistic.py:67: RuntimeWarning: invalid value encountered in true_divide\n",
      "  (prior_mu / prior_sigma**2) + ((n * data_mu) / prior_sigma**2)\n",
      "/home/labsuser/.local/lib/python3.7/site-packages/autots/tools/probabilistic.py:68: RuntimeWarning: divide by zero encountered in true_divide\n",
      "  ) / ((1 / prior_sigma**2) + (n / prior_sigma**2))\n",
      "/home/labsuser/.local/lib/python3.7/site-packages/autots/tools/probabilistic.py:67: RuntimeWarning: invalid value encountered in true_divide\n",
      "  (prior_mu / prior_sigma**2) + ((n * data_mu) / prior_sigma**2)\n",
      "/home/labsuser/.local/lib/python3.7/site-packages/autots/tools/probabilistic.py:68: RuntimeWarning: divide by zero encountered in true_divide\n",
      "  ) / ((1 / prior_sigma**2) + (n / prior_sigma**2))\n",
      "/home/labsuser/.local/lib/python3.7/site-packages/autots/tools/probabilistic.py:67: RuntimeWarning: invalid value encountered in true_divide\n",
      "  (prior_mu / prior_sigma**2) + ((n * data_mu) / prior_sigma**2)\n",
      "/home/labsuser/.local/lib/python3.7/site-packages/autots/tools/probabilistic.py:68: RuntimeWarning: divide by zero encountered in true_divide\n",
      "  ) / ((1 / prior_sigma**2) + (n / prior_sigma**2))\n",
      "/home/labsuser/.local/lib/python3.7/site-packages/autots/tools/probabilistic.py:67: RuntimeWarning: invalid value encountered in true_divide\n",
      "  (prior_mu / prior_sigma**2) + ((n * data_mu) / prior_sigma**2)\n",
      "/home/labsuser/.local/lib/python3.7/site-packages/autots/tools/probabilistic.py:68: RuntimeWarning: divide by zero encountered in true_divide\n",
      "  ) / ((1 / prior_sigma**2) + (n / prior_sigma**2))\n",
      "/home/labsuser/.local/lib/python3.7/site-packages/autots/tools/probabilistic.py:67: RuntimeWarning: invalid value encountered in true_divide\n",
      "  (prior_mu / prior_sigma**2) + ((n * data_mu) / prior_sigma**2)\n",
      "/home/labsuser/.local/lib/python3.7/site-packages/autots/tools/probabilistic.py:68: RuntimeWarning: divide by zero encountered in true_divide\n",
      "  ) / ((1 / prior_sigma**2) + (n / prior_sigma**2))\n",
      "/home/labsuser/.local/lib/python3.7/site-packages/autots/tools/probabilistic.py:67: RuntimeWarning: invalid value encountered in true_divide\n",
      "  (prior_mu / prior_sigma**2) + ((n * data_mu) / prior_sigma**2)\n",
      "/home/labsuser/.local/lib/python3.7/site-packages/autots/tools/probabilistic.py:68: RuntimeWarning: divide by zero encountered in true_divide\n",
      "  ) / ((1 / prior_sigma**2) + (n / prior_sigma**2))\n",
      "/home/labsuser/.local/lib/python3.7/site-packages/autots/tools/probabilistic.py:67: RuntimeWarning: invalid value encountered in true_divide\n",
      "  (prior_mu / prior_sigma**2) + ((n * data_mu) / prior_sigma**2)\n",
      "/home/labsuser/.local/lib/python3.7/site-packages/autots/tools/probabilistic.py:68: RuntimeWarning: divide by zero encountered in true_divide\n",
      "  ) / ((1 / prior_sigma**2) + (n / prior_sigma**2))\n",
      "/home/labsuser/.local/lib/python3.7/site-packages/autots/tools/probabilistic.py:67: RuntimeWarning: invalid value encountered in true_divide\n",
      "  (prior_mu / prior_sigma**2) + ((n * data_mu) / prior_sigma**2)\n",
      "/home/labsuser/.local/lib/python3.7/site-packages/autots/tools/probabilistic.py:68: RuntimeWarning: divide by zero encountered in true_divide\n",
      "  ) / ((1 / prior_sigma**2) + (n / prior_sigma**2))\n",
      "/home/labsuser/.local/lib/python3.7/site-packages/autots/tools/probabilistic.py:67: RuntimeWarning: invalid value encountered in true_divide\n",
      "  (prior_mu / prior_sigma**2) + ((n * data_mu) / prior_sigma**2)\n",
      "/home/labsuser/.local/lib/python3.7/site-packages/autots/tools/probabilistic.py:68: RuntimeWarning: divide by zero encountered in true_divide\n",
      "  ) / ((1 / prior_sigma**2) + (n / prior_sigma**2))\n",
      "/home/labsuser/.local/lib/python3.7/site-packages/autots/tools/probabilistic.py:67: RuntimeWarning: invalid value encountered in true_divide\n",
      "  (prior_mu / prior_sigma**2) + ((n * data_mu) / prior_sigma**2)\n",
      "/home/labsuser/.local/lib/python3.7/site-packages/autots/tools/probabilistic.py:68: RuntimeWarning: divide by zero encountered in true_divide\n",
      "  ) / ((1 / prior_sigma**2) + (n / prior_sigma**2))\n",
      "/home/labsuser/.local/lib/python3.7/site-packages/autots/tools/probabilistic.py:67: RuntimeWarning: invalid value encountered in true_divide\n",
      "  (prior_mu / prior_sigma**2) + ((n * data_mu) / prior_sigma**2)\n",
      "/home/labsuser/.local/lib/python3.7/site-packages/autots/tools/probabilistic.py:68: RuntimeWarning: divide by zero encountered in true_divide\n",
      "  ) / ((1 / prior_sigma**2) + (n / prior_sigma**2))\n",
      "/home/labsuser/.local/lib/python3.7/site-packages/autots/tools/probabilistic.py:67: RuntimeWarning: invalid value encountered in true_divide\n",
      "  (prior_mu / prior_sigma**2) + ((n * data_mu) / prior_sigma**2)\n",
      "/home/labsuser/.local/lib/python3.7/site-packages/autots/tools/probabilistic.py:68: RuntimeWarning: divide by zero encountered in true_divide\n",
      "  ) / ((1 / prior_sigma**2) + (n / prior_sigma**2))\n",
      "/home/labsuser/.local/lib/python3.7/site-packages/autots/tools/probabilistic.py:67: RuntimeWarning: invalid value encountered in true_divide\n",
      "  (prior_mu / prior_sigma**2) + ((n * data_mu) / prior_sigma**2)\n",
      "/home/labsuser/.local/lib/python3.7/site-packages/autots/tools/probabilistic.py:68: RuntimeWarning: divide by zero encountered in true_divide\n",
      "  ) / ((1 / prior_sigma**2) + (n / prior_sigma**2))\n",
      "/home/labsuser/.local/lib/python3.7/site-packages/autots/tools/probabilistic.py:67: RuntimeWarning: invalid value encountered in true_divide\n",
      "  (prior_mu / prior_sigma**2) + ((n * data_mu) / prior_sigma**2)\n",
      "/home/labsuser/.local/lib/python3.7/site-packages/autots/tools/probabilistic.py:68: RuntimeWarning: divide by zero encountered in true_divide\n",
      "  ) / ((1 / prior_sigma**2) + (n / prior_sigma**2))\n",
      "/home/labsuser/.local/lib/python3.7/site-packages/autots/tools/probabilistic.py:67: RuntimeWarning: invalid value encountered in true_divide\n",
      "  (prior_mu / prior_sigma**2) + ((n * data_mu) / prior_sigma**2)\n",
      "/home/labsuser/.local/lib/python3.7/site-packages/autots/tools/probabilistic.py:68: RuntimeWarning: divide by zero encountered in true_divide\n",
      "  ) / ((1 / prior_sigma**2) + (n / prior_sigma**2))\n",
      "/home/labsuser/.local/lib/python3.7/site-packages/autots/tools/probabilistic.py:67: RuntimeWarning: invalid value encountered in true_divide\n",
      "  (prior_mu / prior_sigma**2) + ((n * data_mu) / prior_sigma**2)\n",
      "/home/labsuser/.local/lib/python3.7/site-packages/autots/tools/probabilistic.py:68: RuntimeWarning: divide by zero encountered in true_divide\n",
      "  ) / ((1 / prior_sigma**2) + (n / prior_sigma**2))\n",
      "/home/labsuser/.local/lib/python3.7/site-packages/autots/tools/probabilistic.py:67: RuntimeWarning: invalid value encountered in true_divide\n",
      "  (prior_mu / prior_sigma**2) + ((n * data_mu) / prior_sigma**2)\n",
      "/home/labsuser/.local/lib/python3.7/site-packages/autots/tools/probabilistic.py:68: RuntimeWarning: divide by zero encountered in true_divide\n",
      "  ) / ((1 / prior_sigma**2) + (n / prior_sigma**2))\n",
      "/home/labsuser/.local/lib/python3.7/site-packages/autots/tools/probabilistic.py:67: RuntimeWarning: invalid value encountered in true_divide\n",
      "  (prior_mu / prior_sigma**2) + ((n * data_mu) / prior_sigma**2)\n",
      "/home/labsuser/.local/lib/python3.7/site-packages/autots/tools/probabilistic.py:68: RuntimeWarning: divide by zero encountered in true_divide\n",
      "  ) / ((1 / prior_sigma**2) + (n / prior_sigma**2))\n",
      "/home/labsuser/.local/lib/python3.7/site-packages/autots/tools/probabilistic.py:67: RuntimeWarning: invalid value encountered in true_divide\n",
      "  (prior_mu / prior_sigma**2) + ((n * data_mu) / prior_sigma**2)\n",
      "/home/labsuser/.local/lib/python3.7/site-packages/autots/tools/probabilistic.py:68: RuntimeWarning: divide by zero encountered in true_divide\n",
      "  ) / ((1 / prior_sigma**2) + (n / prior_sigma**2))\n",
      "/home/labsuser/.local/lib/python3.7/site-packages/autots/tools/probabilistic.py:67: RuntimeWarning: invalid value encountered in true_divide\n",
      "  (prior_mu / prior_sigma**2) + ((n * data_mu) / prior_sigma**2)\n",
      "/home/labsuser/.local/lib/python3.7/site-packages/autots/tools/probabilistic.py:68: RuntimeWarning: divide by zero encountered in true_divide\n",
      "  ) / ((1 / prior_sigma**2) + (n / prior_sigma**2))\n",
      "/home/labsuser/.local/lib/python3.7/site-packages/autots/tools/probabilistic.py:67: RuntimeWarning: invalid value encountered in true_divide\n",
      "  (prior_mu / prior_sigma**2) + ((n * data_mu) / prior_sigma**2)\n",
      "/home/labsuser/.local/lib/python3.7/site-packages/autots/tools/probabilistic.py:68: RuntimeWarning: divide by zero encountered in true_divide\n",
      "  ) / ((1 / prior_sigma**2) + (n / prior_sigma**2))\n",
      "/home/labsuser/.local/lib/python3.7/site-packages/autots/tools/probabilistic.py:67: RuntimeWarning: invalid value encountered in true_divide\n",
      "  (prior_mu / prior_sigma**2) + ((n * data_mu) / prior_sigma**2)\n",
      "/home/labsuser/.local/lib/python3.7/site-packages/autots/tools/probabilistic.py:68: RuntimeWarning: divide by zero encountered in true_divide\n",
      "  ) / ((1 / prior_sigma**2) + (n / prior_sigma**2))\n",
      "/home/labsuser/.local/lib/python3.7/site-packages/autots/tools/probabilistic.py:67: RuntimeWarning: invalid value encountered in true_divide\n",
      "  (prior_mu / prior_sigma**2) + ((n * data_mu) / prior_sigma**2)\n",
      "/home/labsuser/.local/lib/python3.7/site-packages/autots/tools/probabilistic.py:68: RuntimeWarning: divide by zero encountered in true_divide\n",
      "  ) / ((1 / prior_sigma**2) + (n / prior_sigma**2))\n",
      "/home/labsuser/.local/lib/python3.7/site-packages/autots/tools/probabilistic.py:67: RuntimeWarning: invalid value encountered in true_divide\n",
      "  (prior_mu / prior_sigma**2) + ((n * data_mu) / prior_sigma**2)\n",
      "/home/labsuser/.local/lib/python3.7/site-packages/autots/tools/probabilistic.py:68: RuntimeWarning: divide by zero encountered in true_divide\n",
      "  ) / ((1 / prior_sigma**2) + (n / prior_sigma**2))\n",
      "/home/labsuser/.local/lib/python3.7/site-packages/autots/tools/probabilistic.py:67: RuntimeWarning: invalid value encountered in true_divide\n",
      "  (prior_mu / prior_sigma**2) + ((n * data_mu) / prior_sigma**2)\n",
      "/home/labsuser/.local/lib/python3.7/site-packages/autots/tools/probabilistic.py:68: RuntimeWarning: divide by zero encountered in true_divide\n",
      "  ) / ((1 / prior_sigma**2) + (n / prior_sigma**2))\n",
      "/home/labsuser/.local/lib/python3.7/site-packages/autots/tools/probabilistic.py:67: RuntimeWarning: invalid value encountered in true_divide\n",
      "  (prior_mu / prior_sigma**2) + ((n * data_mu) / prior_sigma**2)\n",
      "/home/labsuser/.local/lib/python3.7/site-packages/autots/tools/probabilistic.py:68: RuntimeWarning: divide by zero encountered in true_divide\n",
      "  ) / ((1 / prior_sigma**2) + (n / prior_sigma**2))\n",
      "/home/labsuser/.local/lib/python3.7/site-packages/autots/tools/probabilistic.py:67: RuntimeWarning: invalid value encountered in true_divide\n",
      "  (prior_mu / prior_sigma**2) + ((n * data_mu) / prior_sigma**2)\n",
      "/home/labsuser/.local/lib/python3.7/site-packages/autots/tools/probabilistic.py:68: RuntimeWarning: divide by zero encountered in true_divide\n",
      "  ) / ((1 / prior_sigma**2) + (n / prior_sigma**2))\n",
      "/home/labsuser/.local/lib/python3.7/site-packages/autots/tools/probabilistic.py:67: RuntimeWarning: invalid value encountered in true_divide\n",
      "  (prior_mu / prior_sigma**2) + ((n * data_mu) / prior_sigma**2)\n",
      "/home/labsuser/.local/lib/python3.7/site-packages/autots/tools/probabilistic.py:68: RuntimeWarning: divide by zero encountered in true_divide\n",
      "  ) / ((1 / prior_sigma**2) + (n / prior_sigma**2))\n",
      "/home/labsuser/.local/lib/python3.7/site-packages/autots/tools/probabilistic.py:67: RuntimeWarning: invalid value encountered in true_divide\n",
      "  (prior_mu / prior_sigma**2) + ((n * data_mu) / prior_sigma**2)\n",
      "/home/labsuser/.local/lib/python3.7/site-packages/autots/tools/probabilistic.py:68: RuntimeWarning: divide by zero encountered in true_divide\n",
      "  ) / ((1 / prior_sigma**2) + (n / prior_sigma**2))\n",
      "/home/labsuser/.local/lib/python3.7/site-packages/autots/tools/probabilistic.py:67: RuntimeWarning: invalid value encountered in true_divide\n",
      "  (prior_mu / prior_sigma**2) + ((n * data_mu) / prior_sigma**2)\n",
      "/home/labsuser/.local/lib/python3.7/site-packages/autots/tools/probabilistic.py:68: RuntimeWarning: divide by zero encountered in true_divide\n",
      "  ) / ((1 / prior_sigma**2) + (n / prior_sigma**2))\n",
      "/home/labsuser/.local/lib/python3.7/site-packages/autots/tools/probabilistic.py:67: RuntimeWarning: invalid value encountered in true_divide\n",
      "  (prior_mu / prior_sigma**2) + ((n * data_mu) / prior_sigma**2)\n",
      "/home/labsuser/.local/lib/python3.7/site-packages/autots/tools/probabilistic.py:68: RuntimeWarning: divide by zero encountered in true_divide\n",
      "  ) / ((1 / prior_sigma**2) + (n / prior_sigma**2))\n",
      "/home/labsuser/.local/lib/python3.7/site-packages/autots/tools/probabilistic.py:67: RuntimeWarning: invalid value encountered in true_divide\n",
      "  (prior_mu / prior_sigma**2) + ((n * data_mu) / prior_sigma**2)\n",
      "/home/labsuser/.local/lib/python3.7/site-packages/autots/tools/probabilistic.py:68: RuntimeWarning: divide by zero encountered in true_divide\n",
      "  ) / ((1 / prior_sigma**2) + (n / prior_sigma**2))\n",
      "/home/labsuser/.local/lib/python3.7/site-packages/autots/tools/probabilistic.py:67: RuntimeWarning: invalid value encountered in true_divide\n",
      "  (prior_mu / prior_sigma**2) + ((n * data_mu) / prior_sigma**2)\n",
      "/home/labsuser/.local/lib/python3.7/site-packages/autots/tools/probabilistic.py:68: RuntimeWarning: divide by zero encountered in true_divide\n",
      "  ) / ((1 / prior_sigma**2) + (n / prior_sigma**2))\n",
      "/home/labsuser/.local/lib/python3.7/site-packages/autots/tools/probabilistic.py:67: RuntimeWarning: invalid value encountered in true_divide\n",
      "  (prior_mu / prior_sigma**2) + ((n * data_mu) / prior_sigma**2)\n",
      "/home/labsuser/.local/lib/python3.7/site-packages/autots/tools/probabilistic.py:68: RuntimeWarning: divide by zero encountered in true_divide\n",
      "  ) / ((1 / prior_sigma**2) + (n / prior_sigma**2))\n",
      "/home/labsuser/.local/lib/python3.7/site-packages/autots/tools/probabilistic.py:67: RuntimeWarning: invalid value encountered in true_divide\n",
      "  (prior_mu / prior_sigma**2) + ((n * data_mu) / prior_sigma**2)\n",
      "/home/labsuser/.local/lib/python3.7/site-packages/autots/tools/probabilistic.py:68: RuntimeWarning: divide by zero encountered in true_divide\n",
      "  ) / ((1 / prior_sigma**2) + (n / prior_sigma**2))\n",
      "/home/labsuser/.local/lib/python3.7/site-packages/autots/tools/probabilistic.py:67: RuntimeWarning: invalid value encountered in true_divide\n",
      "  (prior_mu / prior_sigma**2) + ((n * data_mu) / prior_sigma**2)\n",
      "/home/labsuser/.local/lib/python3.7/site-packages/autots/tools/probabilistic.py:68: RuntimeWarning: divide by zero encountered in true_divide\n",
      "  ) / ((1 / prior_sigma**2) + (n / prior_sigma**2))\n",
      "/home/labsuser/.local/lib/python3.7/site-packages/autots/tools/probabilistic.py:67: RuntimeWarning: invalid value encountered in true_divide\n",
      "  (prior_mu / prior_sigma**2) + ((n * data_mu) / prior_sigma**2)\n",
      "/home/labsuser/.local/lib/python3.7/site-packages/autots/tools/probabilistic.py:68: RuntimeWarning: divide by zero encountered in true_divide\n",
      "  ) / ((1 / prior_sigma**2) + (n / prior_sigma**2))\n",
      "/home/labsuser/.local/lib/python3.7/site-packages/autots/tools/probabilistic.py:67: RuntimeWarning: invalid value encountered in true_divide\n",
      "  (prior_mu / prior_sigma**2) + ((n * data_mu) / prior_sigma**2)\n",
      "/home/labsuser/.local/lib/python3.7/site-packages/autots/tools/probabilistic.py:68: RuntimeWarning: divide by zero encountered in true_divide\n",
      "  ) / ((1 / prior_sigma**2) + (n / prior_sigma**2))\n",
      "/home/labsuser/.local/lib/python3.7/site-packages/autots/tools/probabilistic.py:67: RuntimeWarning: invalid value encountered in true_divide\n",
      "  (prior_mu / prior_sigma**2) + ((n * data_mu) / prior_sigma**2)\n",
      "/home/labsuser/.local/lib/python3.7/site-packages/autots/tools/probabilistic.py:68: RuntimeWarning: divide by zero encountered in true_divide\n",
      "  ) / ((1 / prior_sigma**2) + (n / prior_sigma**2))\n",
      "/home/labsuser/.local/lib/python3.7/site-packages/autots/tools/probabilistic.py:67: RuntimeWarning: invalid value encountered in true_divide\n",
      "  (prior_mu / prior_sigma**2) + ((n * data_mu) / prior_sigma**2)\n",
      "/home/labsuser/.local/lib/python3.7/site-packages/autots/tools/probabilistic.py:68: RuntimeWarning: divide by zero encountered in true_divide\n",
      "  ) / ((1 / prior_sigma**2) + (n / prior_sigma**2))\n",
      "/home/labsuser/.local/lib/python3.7/site-packages/autots/tools/probabilistic.py:67: RuntimeWarning: invalid value encountered in true_divide\n",
      "  (prior_mu / prior_sigma**2) + ((n * data_mu) / prior_sigma**2)\n",
      "/home/labsuser/.local/lib/python3.7/site-packages/autots/tools/probabilistic.py:68: RuntimeWarning: divide by zero encountered in true_divide\n",
      "  ) / ((1 / prior_sigma**2) + (n / prior_sigma**2))\n",
      "/home/labsuser/.local/lib/python3.7/site-packages/autots/tools/probabilistic.py:67: RuntimeWarning: invalid value encountered in true_divide\n",
      "  (prior_mu / prior_sigma**2) + ((n * data_mu) / prior_sigma**2)\n",
      "/home/labsuser/.local/lib/python3.7/site-packages/autots/tools/probabilistic.py:68: RuntimeWarning: divide by zero encountered in true_divide\n",
      "  ) / ((1 / prior_sigma**2) + (n / prior_sigma**2))\n",
      "/home/labsuser/.local/lib/python3.7/site-packages/autots/tools/probabilistic.py:67: RuntimeWarning: invalid value encountered in true_divide\n",
      "  (prior_mu / prior_sigma**2) + ((n * data_mu) / prior_sigma**2)\n",
      "/home/labsuser/.local/lib/python3.7/site-packages/autots/tools/probabilistic.py:68: RuntimeWarning: divide by zero encountered in true_divide\n",
      "  ) / ((1 / prior_sigma**2) + (n / prior_sigma**2))\n",
      "/home/labsuser/.local/lib/python3.7/site-packages/autots/tools/probabilistic.py:67: RuntimeWarning: invalid value encountered in true_divide\n",
      "  (prior_mu / prior_sigma**2) + ((n * data_mu) / prior_sigma**2)\n",
      "/home/labsuser/.local/lib/python3.7/site-packages/autots/tools/probabilistic.py:68: RuntimeWarning: divide by zero encountered in true_divide\n",
      "  ) / ((1 / prior_sigma**2) + (n / prior_sigma**2))\n",
      "/home/labsuser/.local/lib/python3.7/site-packages/autots/tools/probabilistic.py:67: RuntimeWarning: invalid value encountered in true_divide\n",
      "  (prior_mu / prior_sigma**2) + ((n * data_mu) / prior_sigma**2)\n",
      "/home/labsuser/.local/lib/python3.7/site-packages/autots/tools/probabilistic.py:68: RuntimeWarning: divide by zero encountered in true_divide\n",
      "  ) / ((1 / prior_sigma**2) + (n / prior_sigma**2))\n",
      "/home/labsuser/.local/lib/python3.7/site-packages/autots/tools/probabilistic.py:67: RuntimeWarning: invalid value encountered in true_divide\n",
      "  (prior_mu / prior_sigma**2) + ((n * data_mu) / prior_sigma**2)\n",
      "/home/labsuser/.local/lib/python3.7/site-packages/autots/tools/probabilistic.py:68: RuntimeWarning: divide by zero encountered in true_divide\n",
      "  ) / ((1 / prior_sigma**2) + (n / prior_sigma**2))\n",
      "/home/labsuser/.local/lib/python3.7/site-packages/autots/tools/probabilistic.py:67: RuntimeWarning: invalid value encountered in true_divide\n",
      "  (prior_mu / prior_sigma**2) + ((n * data_mu) / prior_sigma**2)\n",
      "/home/labsuser/.local/lib/python3.7/site-packages/autots/tools/probabilistic.py:68: RuntimeWarning: divide by zero encountered in true_divide\n",
      "  ) / ((1 / prior_sigma**2) + (n / prior_sigma**2))\n",
      "/home/labsuser/.local/lib/python3.7/site-packages/autots/tools/probabilistic.py:67: RuntimeWarning: invalid value encountered in true_divide\n",
      "  (prior_mu / prior_sigma**2) + ((n * data_mu) / prior_sigma**2)\n",
      "/home/labsuser/.local/lib/python3.7/site-packages/autots/tools/probabilistic.py:68: RuntimeWarning: divide by zero encountered in true_divide\n",
      "  ) / ((1 / prior_sigma**2) + (n / prior_sigma**2))\n",
      "/home/labsuser/.local/lib/python3.7/site-packages/autots/tools/probabilistic.py:67: RuntimeWarning: invalid value encountered in true_divide\n",
      "  (prior_mu / prior_sigma**2) + ((n * data_mu) / prior_sigma**2)\n",
      "/home/labsuser/.local/lib/python3.7/site-packages/autots/tools/probabilistic.py:68: RuntimeWarning: divide by zero encountered in true_divide\n",
      "  ) / ((1 / prior_sigma**2) + (n / prior_sigma**2))\n",
      "INFO:prophet:Disabling yearly seasonality. Run prophet with yearly_seasonality=True to override this.\n",
      "INFO:prophet:Disabling daily seasonality. Run prophet with daily_seasonality=True to override this.\n",
      "INFO:cmdstanpy:start chain 1\n",
      "INFO:cmdstanpy:finish chain 1\n"
     ]
    },
    {
     "name": "stdout",
     "output_type": "stream",
     "text": [
      "Model Number: 232 with model FBProphet in generation 1 of 10\n",
      "Model Number: 233 with model UnivariateMotif in generation 1 of 10\n",
      "Model Number: 234 with model SeasonalNaive in generation 1 of 10\n",
      "Model Number: 235 with model ETS in generation 1 of 10\n",
      "ETS error TypeError(\"__init__() got an unexpected keyword argument 'damped_trend'\")\n",
      "ETS failed on Close with ValueError('Can only dampen the trend component')\n",
      "Model Number: 236 with model DatepartRegression in generation 1 of 10\n",
      "Model Number: 237 with model AverageValueNaive in generation 1 of 10\n",
      "Model Number: 238 with model AverageValueNaive in generation 1 of 10\n",
      "Model Number: 239 with model UnobservedComponents in generation 1 of 10\n",
      "Model Number: 240 with model GLS in generation 1 of 10\n",
      "Model Number: 241 with model GLS in generation 1 of 10\n",
      "Model Number: 242 with model MultivariateMotif in generation 1 of 10\n",
      "Model Number: 243 with model ETS in generation 1 of 10\n",
      "ETS error TypeError(\"__init__() got an unexpected keyword argument 'damped_trend'\")\n",
      "Model Number: 244 with model NVAR in generation 1 of 10\n",
      "Model Number: 245 with model ConstantNaive in generation 1 of 10\n",
      "Model Number: 246 with model FBProphet in generation 1 of 10\n"
     ]
    },
    {
     "name": "stderr",
     "output_type": "stream",
     "text": [
      "INFO:prophet:Disabling yearly seasonality. Run prophet with yearly_seasonality=True to override this.\n",
      "INFO:prophet:Disabling daily seasonality. Run prophet with daily_seasonality=True to override this.\n",
      "INFO:cmdstanpy:start chain 1\n",
      "INFO:cmdstanpy:finish chain 1\n"
     ]
    },
    {
     "name": "stdout",
     "output_type": "stream",
     "text": [
      "Model Number: 247 with model FBProphet in generation 1 of 10\n"
     ]
    },
    {
     "name": "stderr",
     "output_type": "stream",
     "text": [
      "/usr/local/lib/python3.7/site-packages/sklearn/linear_model/_ridge.py:157: LinAlgWarning: Ill-conditioned matrix (rcond=3.81215e-25): result may not be accurate.\n",
      "  return linalg.solve(A, Xy, sym_pos=True, overwrite_a=True).T\n",
      "INFO:prophet:Disabling yearly seasonality. Run prophet with yearly_seasonality=True to override this.\n",
      "INFO:prophet:Disabling daily seasonality. Run prophet with daily_seasonality=True to override this.\n",
      "INFO:cmdstanpy:start chain 1\n",
      "INFO:cmdstanpy:finish chain 1\n"
     ]
    },
    {
     "name": "stdout",
     "output_type": "stream",
     "text": [
      "Model Number: 248 with model ETS in generation 1 of 10\n",
      "ETS error TypeError(\"__init__() got an unexpected keyword argument 'damped_trend'\")\n",
      "Model Number: 249 with model MetricMotif in generation 1 of 10\n",
      "Model Number: 250 with model DatepartRegression in generation 1 of 10\n",
      "Model Number: 251 with model LastValueNaive in generation 1 of 10\n",
      "Model Number: 252 with model UnobservedComponents in generation 1 of 10\n",
      "Template Eval Error: Exception('Transformer AlignLastValue failed on inverse') in model 252 in generation 1: UnobservedComponents\n",
      "Model Number: 253 with model GLS in generation 1 of 10\n",
      "Model Number: 254 with model UnivariateMotif in generation 1 of 10\n",
      "Model Number: 255 with model ConstantNaive in generation 1 of 10\n",
      "Model Number: 256 with model LastValueNaive in generation 1 of 10\n",
      "Model Number: 257 with model GLS in generation 1 of 10\n",
      "Model Number: 258 with model UnivariateMotif in generation 1 of 10\n",
      "Model Number: 259 with model GLS in generation 1 of 10\n",
      "Model Number: 260 with model GLM in generation 1 of 10\n",
      "Template Eval Error: Exception('Transformer Detrend failed on fit') in model 260 in generation 1: GLM\n",
      "Model Number: 261 with model ARIMA in generation 1 of 10\n",
      "Model Number: 262 with model GLS in generation 1 of 10\n"
     ]
    },
    {
     "name": "stderr",
     "output_type": "stream",
     "text": [
      "INFO:prophet:Disabling yearly seasonality. Run prophet with yearly_seasonality=True to override this.\n",
      "INFO:prophet:Disabling daily seasonality. Run prophet with daily_seasonality=True to override this.\n",
      "INFO:cmdstanpy:start chain 1\n",
      "INFO:cmdstanpy:finish chain 1\n"
     ]
    },
    {
     "name": "stdout",
     "output_type": "stream",
     "text": [
      "Model Number: 263 with model FBProphet in generation 1 of 10\n"
     ]
    },
    {
     "name": "stderr",
     "output_type": "stream",
     "text": [
      "INFO:prophet:Disabling yearly seasonality. Run prophet with yearly_seasonality=True to override this.\n",
      "INFO:prophet:Disabling daily seasonality. Run prophet with daily_seasonality=True to override this.\n",
      "INFO:cmdstanpy:start chain 1\n",
      "INFO:cmdstanpy:finish chain 1\n"
     ]
    },
    {
     "name": "stdout",
     "output_type": "stream",
     "text": [
      "Model Number: 264 with model FBProphet in generation 1 of 10\n",
      "Model Number: 265 with model LastValueNaive in generation 1 of 10\n",
      "Model Number: 266 with model UnivariateMotif in generation 1 of 10\n",
      "Model Number: 267 with model MetricMotif in generation 1 of 10\n",
      "Model Number: 268 with model FBProphet in generation 1 of 10\n",
      "No anomalies detected.\n"
     ]
    },
    {
     "name": "stderr",
     "output_type": "stream",
     "text": [
      "INFO:prophet:Disabling yearly seasonality. Run prophet with yearly_seasonality=True to override this.\n",
      "INFO:prophet:Disabling daily seasonality. Run prophet with daily_seasonality=True to override this.\n",
      "INFO:cmdstanpy:start chain 1\n",
      "INFO:cmdstanpy:finish chain 1\n"
     ]
    },
    {
     "name": "stdout",
     "output_type": "stream",
     "text": [
      "Model Number: 269 with model ARIMA in generation 1 of 10\n",
      "Model Number: 270 with model ARIMA in generation 1 of 10\n",
      "Model Number: 271 with model ETS in generation 1 of 10\n",
      "ETS error TypeError(\"__init__() got an unexpected keyword argument 'damped_trend'\")\n",
      "Model Number: 272 with model UnobservedComponents in generation 1 of 10\n",
      "Model Number: 273 with model UnobservedComponents in generation 1 of 10\n",
      "Model Number: 274 with model ETS in generation 1 of 10\n",
      "ETS error TypeError(\"__init__() got an unexpected keyword argument 'damped_trend'\")\n",
      "ETS failed on Close with ValueError('endog must be strictly positive when usingmultiplicative trend or seasonal components.')\n",
      "Model Number: 275 with model ConstantNaive in generation 1 of 10\n",
      "Model Number: 276 with model ARIMA in generation 1 of 10\n",
      "Model Number: 277 with model MultivariateRegression in generation 1 of 10\n",
      "Template Eval Error: ValueError(\"regression_type='User' but not future_regressor supplied.\") in model 277 in generation 1: MultivariateRegression\n",
      "Model Number: 278 with model ETS in generation 1 of 10\n",
      "ETS error TypeError(\"__init__() got an unexpected keyword argument 'damped_trend'\")\n",
      "ETS failed on Close with ValueError('Can only dampen the trend component')\n",
      "Model Number: 279 with model DatepartRegression in generation 1 of 10\n",
      "Template Eval Error: ValueError(\"regression_type='User' but no future_regressor passed\") in model 279 in generation 1: DatepartRegression\n",
      "Model Number: 280 with model UnobservedComponents in generation 1 of 10\n",
      "Model Number: 281 with model GLM in generation 1 of 10\n",
      "Template Eval Error: Exception('Transformer RegressionFilter failed on fit') in model 281 in generation 1: GLM\n",
      "Model Number: 282 with model SectionalMotif in generation 1 of 10\n",
      "Template Eval Error: Exception('Transformer Cointegration failed on fit') in model 282 in generation 1: SectionalMotif\n",
      "Model Number: 283 with model LastValueNaive in generation 1 of 10\n"
     ]
    },
    {
     "name": "stderr",
     "output_type": "stream",
     "text": [
      "INFO:prophet:Disabling yearly seasonality. Run prophet with yearly_seasonality=True to override this.\n",
      "INFO:prophet:Disabling daily seasonality. Run prophet with daily_seasonality=True to override this.\n"
     ]
    },
    {
     "name": "stdout",
     "output_type": "stream",
     "text": [
      "Model Number: 284 with model FBProphet in generation 1 of 10\n"
     ]
    },
    {
     "name": "stderr",
     "output_type": "stream",
     "text": [
      "INFO:cmdstanpy:start chain 1\n",
      "INFO:cmdstanpy:finish chain 1\n"
     ]
    },
    {
     "name": "stdout",
     "output_type": "stream",
     "text": [
      "Model Number: 285 with model ARIMA in generation 1 of 10\n",
      "Model Number: 286 with model SeasonalNaive in generation 1 of 10\n",
      "Model Number: 287 with model ARIMA in generation 1 of 10\n",
      "Model Number: 288 with model UnivariateMotif in generation 1 of 10\n",
      "Model Number: 289 with model ETS in generation 1 of 10\n",
      "ETS error TypeError(\"__init__() got an unexpected keyword argument 'damped_trend'\")\n",
      "ETS failed on Close with ValueError('endog must be strictly positive when usingmultiplicative trend or seasonal components.')\n",
      "Model Number: 290 with model SeasonalNaive in generation 1 of 10\n",
      "Model Number: 291 with model UnivariateRegression in generation 1 of 10\n",
      "Model Number: 292 with model GLS in generation 1 of 10\n",
      "Model Number: 293 with model ETS in generation 1 of 10\n",
      "ETS error TypeError(\"__init__() got an unexpected keyword argument 'damped_trend'\")\n",
      "Model Number: 294 with model NVAR in generation 1 of 10\n",
      "Model Number: 295 with model UnobservedComponents in generation 1 of 10\n",
      "Template Eval Error: Exception('Transformer Detrend failed on fit') in model 295 in generation 1: UnobservedComponents\n",
      "Model Number: 296 with model SectionalMotif in generation 1 of 10\n",
      "Model Number: 297 with model FBProphet in generation 1 of 10\n"
     ]
    },
    {
     "name": "stderr",
     "output_type": "stream",
     "text": [
      "INFO:prophet:Disabling yearly seasonality. Run prophet with yearly_seasonality=True to override this.\n",
      "INFO:prophet:Disabling daily seasonality. Run prophet with daily_seasonality=True to override this.\n",
      "INFO:cmdstanpy:start chain 1\n",
      "INFO:cmdstanpy:finish chain 1\n"
     ]
    },
    {
     "name": "stdout",
     "output_type": "stream",
     "text": [
      "Model Number: 298 with model GLS in generation 1 of 10\n",
      "Model Number: 299 with model GLS in generation 1 of 10\n"
     ]
    },
    {
     "name": "stderr",
     "output_type": "stream",
     "text": [
      "/usr/local/lib/python3.7/site-packages/sklearn/linear_model/_ridge.py:157: LinAlgWarning: Ill-conditioned matrix (rcond=3.81215e-25): result may not be accurate.\n",
      "  return linalg.solve(A, Xy, sym_pos=True, overwrite_a=True).T\n",
      "/home/labsuser/.local/lib/python3.7/site-packages/autots/tools/probabilistic.py:67: RuntimeWarning: invalid value encountered in true_divide\n",
      "  (prior_mu / prior_sigma**2) + ((n * data_mu) / prior_sigma**2)\n",
      "/home/labsuser/.local/lib/python3.7/site-packages/autots/tools/probabilistic.py:68: RuntimeWarning: divide by zero encountered in true_divide\n",
      "  ) / ((1 / prior_sigma**2) + (n / prior_sigma**2))\n",
      "/home/labsuser/.local/lib/python3.7/site-packages/autots/tools/probabilistic.py:67: RuntimeWarning: invalid value encountered in true_divide\n",
      "  (prior_mu / prior_sigma**2) + ((n * data_mu) / prior_sigma**2)\n",
      "/home/labsuser/.local/lib/python3.7/site-packages/autots/tools/probabilistic.py:68: RuntimeWarning: divide by zero encountered in true_divide\n",
      "  ) / ((1 / prior_sigma**2) + (n / prior_sigma**2))\n",
      "/home/labsuser/.local/lib/python3.7/site-packages/autots/tools/probabilistic.py:67: RuntimeWarning: invalid value encountered in true_divide\n",
      "  (prior_mu / prior_sigma**2) + ((n * data_mu) / prior_sigma**2)\n",
      "/home/labsuser/.local/lib/python3.7/site-packages/autots/tools/probabilistic.py:68: RuntimeWarning: divide by zero encountered in true_divide\n",
      "  ) / ((1 / prior_sigma**2) + (n / prior_sigma**2))\n",
      "/home/labsuser/.local/lib/python3.7/site-packages/autots/tools/probabilistic.py:67: RuntimeWarning: invalid value encountered in true_divide\n",
      "  (prior_mu / prior_sigma**2) + ((n * data_mu) / prior_sigma**2)\n",
      "/home/labsuser/.local/lib/python3.7/site-packages/autots/tools/probabilistic.py:68: RuntimeWarning: divide by zero encountered in true_divide\n",
      "  ) / ((1 / prior_sigma**2) + (n / prior_sigma**2))\n",
      "/home/labsuser/.local/lib/python3.7/site-packages/autots/tools/probabilistic.py:67: RuntimeWarning: invalid value encountered in true_divide\n",
      "  (prior_mu / prior_sigma**2) + ((n * data_mu) / prior_sigma**2)\n",
      "/home/labsuser/.local/lib/python3.7/site-packages/autots/tools/probabilistic.py:68: RuntimeWarning: divide by zero encountered in true_divide\n",
      "  ) / ((1 / prior_sigma**2) + (n / prior_sigma**2))\n",
      "/home/labsuser/.local/lib/python3.7/site-packages/autots/tools/probabilistic.py:67: RuntimeWarning: invalid value encountered in true_divide\n",
      "  (prior_mu / prior_sigma**2) + ((n * data_mu) / prior_sigma**2)\n",
      "/home/labsuser/.local/lib/python3.7/site-packages/autots/tools/probabilistic.py:68: RuntimeWarning: divide by zero encountered in true_divide\n",
      "  ) / ((1 / prior_sigma**2) + (n / prior_sigma**2))\n",
      "/home/labsuser/.local/lib/python3.7/site-packages/autots/tools/probabilistic.py:67: RuntimeWarning: invalid value encountered in true_divide\n",
      "  (prior_mu / prior_sigma**2) + ((n * data_mu) / prior_sigma**2)\n",
      "/home/labsuser/.local/lib/python3.7/site-packages/autots/tools/probabilistic.py:68: RuntimeWarning: divide by zero encountered in true_divide\n",
      "  ) / ((1 / prior_sigma**2) + (n / prior_sigma**2))\n",
      "/home/labsuser/.local/lib/python3.7/site-packages/autots/tools/probabilistic.py:67: RuntimeWarning: invalid value encountered in true_divide\n",
      "  (prior_mu / prior_sigma**2) + ((n * data_mu) / prior_sigma**2)\n",
      "/home/labsuser/.local/lib/python3.7/site-packages/autots/tools/probabilistic.py:68: RuntimeWarning: divide by zero encountered in true_divide\n",
      "  ) / ((1 / prior_sigma**2) + (n / prior_sigma**2))\n",
      "/home/labsuser/.local/lib/python3.7/site-packages/autots/tools/probabilistic.py:67: RuntimeWarning: invalid value encountered in true_divide\n",
      "  (prior_mu / prior_sigma**2) + ((n * data_mu) / prior_sigma**2)\n",
      "/home/labsuser/.local/lib/python3.7/site-packages/autots/tools/probabilistic.py:68: RuntimeWarning: divide by zero encountered in true_divide\n",
      "  ) / ((1 / prior_sigma**2) + (n / prior_sigma**2))\n",
      "/home/labsuser/.local/lib/python3.7/site-packages/autots/tools/probabilistic.py:67: RuntimeWarning: invalid value encountered in true_divide\n",
      "  (prior_mu / prior_sigma**2) + ((n * data_mu) / prior_sigma**2)\n",
      "/home/labsuser/.local/lib/python3.7/site-packages/autots/tools/probabilistic.py:68: RuntimeWarning: divide by zero encountered in true_divide\n",
      "  ) / ((1 / prior_sigma**2) + (n / prior_sigma**2))\n",
      "/home/labsuser/.local/lib/python3.7/site-packages/autots/tools/probabilistic.py:67: RuntimeWarning: invalid value encountered in true_divide\n",
      "  (prior_mu / prior_sigma**2) + ((n * data_mu) / prior_sigma**2)\n",
      "/home/labsuser/.local/lib/python3.7/site-packages/autots/tools/probabilistic.py:68: RuntimeWarning: divide by zero encountered in true_divide\n",
      "  ) / ((1 / prior_sigma**2) + (n / prior_sigma**2))\n",
      "/home/labsuser/.local/lib/python3.7/site-packages/autots/tools/probabilistic.py:67: RuntimeWarning: invalid value encountered in true_divide\n",
      "  (prior_mu / prior_sigma**2) + ((n * data_mu) / prior_sigma**2)\n",
      "/home/labsuser/.local/lib/python3.7/site-packages/autots/tools/probabilistic.py:68: RuntimeWarning: divide by zero encountered in true_divide\n",
      "  ) / ((1 / prior_sigma**2) + (n / prior_sigma**2))\n",
      "/home/labsuser/.local/lib/python3.7/site-packages/autots/tools/probabilistic.py:67: RuntimeWarning: invalid value encountered in true_divide\n",
      "  (prior_mu / prior_sigma**2) + ((n * data_mu) / prior_sigma**2)\n",
      "/home/labsuser/.local/lib/python3.7/site-packages/autots/tools/probabilistic.py:68: RuntimeWarning: divide by zero encountered in true_divide\n",
      "  ) / ((1 / prior_sigma**2) + (n / prior_sigma**2))\n",
      "/home/labsuser/.local/lib/python3.7/site-packages/autots/tools/probabilistic.py:67: RuntimeWarning: invalid value encountered in true_divide\n",
      "  (prior_mu / prior_sigma**2) + ((n * data_mu) / prior_sigma**2)\n",
      "/home/labsuser/.local/lib/python3.7/site-packages/autots/tools/probabilistic.py:68: RuntimeWarning: divide by zero encountered in true_divide\n",
      "  ) / ((1 / prior_sigma**2) + (n / prior_sigma**2))\n",
      "/home/labsuser/.local/lib/python3.7/site-packages/autots/tools/probabilistic.py:67: RuntimeWarning: invalid value encountered in true_divide\n",
      "  (prior_mu / prior_sigma**2) + ((n * data_mu) / prior_sigma**2)\n",
      "/home/labsuser/.local/lib/python3.7/site-packages/autots/tools/probabilistic.py:68: RuntimeWarning: divide by zero encountered in true_divide\n",
      "  ) / ((1 / prior_sigma**2) + (n / prior_sigma**2))\n",
      "/home/labsuser/.local/lib/python3.7/site-packages/autots/tools/probabilistic.py:67: RuntimeWarning: invalid value encountered in true_divide\n",
      "  (prior_mu / prior_sigma**2) + ((n * data_mu) / prior_sigma**2)\n",
      "/home/labsuser/.local/lib/python3.7/site-packages/autots/tools/probabilistic.py:68: RuntimeWarning: divide by zero encountered in true_divide\n",
      "  ) / ((1 / prior_sigma**2) + (n / prior_sigma**2))\n",
      "/home/labsuser/.local/lib/python3.7/site-packages/autots/tools/probabilistic.py:67: RuntimeWarning: invalid value encountered in true_divide\n",
      "  (prior_mu / prior_sigma**2) + ((n * data_mu) / prior_sigma**2)\n",
      "/home/labsuser/.local/lib/python3.7/site-packages/autots/tools/probabilistic.py:68: RuntimeWarning: divide by zero encountered in true_divide\n",
      "  ) / ((1 / prior_sigma**2) + (n / prior_sigma**2))\n",
      "/home/labsuser/.local/lib/python3.7/site-packages/autots/tools/probabilistic.py:67: RuntimeWarning: invalid value encountered in true_divide\n",
      "  (prior_mu / prior_sigma**2) + ((n * data_mu) / prior_sigma**2)\n",
      "/home/labsuser/.local/lib/python3.7/site-packages/autots/tools/probabilistic.py:68: RuntimeWarning: divide by zero encountered in true_divide\n",
      "  ) / ((1 / prior_sigma**2) + (n / prior_sigma**2))\n",
      "/home/labsuser/.local/lib/python3.7/site-packages/autots/tools/probabilistic.py:67: RuntimeWarning: invalid value encountered in true_divide\n",
      "  (prior_mu / prior_sigma**2) + ((n * data_mu) / prior_sigma**2)\n",
      "/home/labsuser/.local/lib/python3.7/site-packages/autots/tools/probabilistic.py:68: RuntimeWarning: divide by zero encountered in true_divide\n",
      "  ) / ((1 / prior_sigma**2) + (n / prior_sigma**2))\n",
      "/home/labsuser/.local/lib/python3.7/site-packages/autots/tools/probabilistic.py:67: RuntimeWarning: invalid value encountered in true_divide\n",
      "  (prior_mu / prior_sigma**2) + ((n * data_mu) / prior_sigma**2)\n",
      "/home/labsuser/.local/lib/python3.7/site-packages/autots/tools/probabilistic.py:68: RuntimeWarning: divide by zero encountered in true_divide\n",
      "  ) / ((1 / prior_sigma**2) + (n / prior_sigma**2))\n",
      "/home/labsuser/.local/lib/python3.7/site-packages/autots/tools/probabilistic.py:67: RuntimeWarning: invalid value encountered in true_divide\n",
      "  (prior_mu / prior_sigma**2) + ((n * data_mu) / prior_sigma**2)\n",
      "/home/labsuser/.local/lib/python3.7/site-packages/autots/tools/probabilistic.py:68: RuntimeWarning: divide by zero encountered in true_divide\n",
      "  ) / ((1 / prior_sigma**2) + (n / prior_sigma**2))\n",
      "/home/labsuser/.local/lib/python3.7/site-packages/autots/tools/probabilistic.py:67: RuntimeWarning: invalid value encountered in true_divide\n",
      "  (prior_mu / prior_sigma**2) + ((n * data_mu) / prior_sigma**2)\n",
      "/home/labsuser/.local/lib/python3.7/site-packages/autots/tools/probabilistic.py:68: RuntimeWarning: divide by zero encountered in true_divide\n",
      "  ) / ((1 / prior_sigma**2) + (n / prior_sigma**2))\n",
      "/home/labsuser/.local/lib/python3.7/site-packages/autots/tools/probabilistic.py:67: RuntimeWarning: invalid value encountered in true_divide\n",
      "  (prior_mu / prior_sigma**2) + ((n * data_mu) / prior_sigma**2)\n",
      "/home/labsuser/.local/lib/python3.7/site-packages/autots/tools/probabilistic.py:68: RuntimeWarning: divide by zero encountered in true_divide\n",
      "  ) / ((1 / prior_sigma**2) + (n / prior_sigma**2))\n",
      "/home/labsuser/.local/lib/python3.7/site-packages/autots/tools/probabilistic.py:67: RuntimeWarning: invalid value encountered in true_divide\n",
      "  (prior_mu / prior_sigma**2) + ((n * data_mu) / prior_sigma**2)\n",
      "/home/labsuser/.local/lib/python3.7/site-packages/autots/tools/probabilistic.py:68: RuntimeWarning: divide by zero encountered in true_divide\n",
      "  ) / ((1 / prior_sigma**2) + (n / prior_sigma**2))\n",
      "/home/labsuser/.local/lib/python3.7/site-packages/autots/tools/probabilistic.py:67: RuntimeWarning: invalid value encountered in true_divide\n",
      "  (prior_mu / prior_sigma**2) + ((n * data_mu) / prior_sigma**2)\n",
      "/home/labsuser/.local/lib/python3.7/site-packages/autots/tools/probabilistic.py:68: RuntimeWarning: divide by zero encountered in true_divide\n",
      "  ) / ((1 / prior_sigma**2) + (n / prior_sigma**2))\n",
      "/home/labsuser/.local/lib/python3.7/site-packages/autots/tools/probabilistic.py:67: RuntimeWarning: invalid value encountered in true_divide\n",
      "  (prior_mu / prior_sigma**2) + ((n * data_mu) / prior_sigma**2)\n",
      "/home/labsuser/.local/lib/python3.7/site-packages/autots/tools/probabilistic.py:68: RuntimeWarning: divide by zero encountered in true_divide\n",
      "  ) / ((1 / prior_sigma**2) + (n / prior_sigma**2))\n",
      "/home/labsuser/.local/lib/python3.7/site-packages/autots/tools/probabilistic.py:67: RuntimeWarning: invalid value encountered in true_divide\n",
      "  (prior_mu / prior_sigma**2) + ((n * data_mu) / prior_sigma**2)\n",
      "/home/labsuser/.local/lib/python3.7/site-packages/autots/tools/probabilistic.py:68: RuntimeWarning: divide by zero encountered in true_divide\n",
      "  ) / ((1 / prior_sigma**2) + (n / prior_sigma**2))\n",
      "/home/labsuser/.local/lib/python3.7/site-packages/autots/tools/probabilistic.py:67: RuntimeWarning: invalid value encountered in true_divide\n",
      "  (prior_mu / prior_sigma**2) + ((n * data_mu) / prior_sigma**2)\n",
      "/home/labsuser/.local/lib/python3.7/site-packages/autots/tools/probabilistic.py:68: RuntimeWarning: divide by zero encountered in true_divide\n",
      "  ) / ((1 / prior_sigma**2) + (n / prior_sigma**2))\n",
      "/home/labsuser/.local/lib/python3.7/site-packages/autots/tools/probabilistic.py:67: RuntimeWarning: invalid value encountered in true_divide\n",
      "  (prior_mu / prior_sigma**2) + ((n * data_mu) / prior_sigma**2)\n",
      "/home/labsuser/.local/lib/python3.7/site-packages/autots/tools/probabilistic.py:68: RuntimeWarning: divide by zero encountered in true_divide\n",
      "  ) / ((1 / prior_sigma**2) + (n / prior_sigma**2))\n",
      "/home/labsuser/.local/lib/python3.7/site-packages/autots/tools/probabilistic.py:67: RuntimeWarning: invalid value encountered in true_divide\n",
      "  (prior_mu / prior_sigma**2) + ((n * data_mu) / prior_sigma**2)\n",
      "/home/labsuser/.local/lib/python3.7/site-packages/autots/tools/probabilistic.py:68: RuntimeWarning: divide by zero encountered in true_divide\n",
      "  ) / ((1 / prior_sigma**2) + (n / prior_sigma**2))\n",
      "/home/labsuser/.local/lib/python3.7/site-packages/autots/tools/probabilistic.py:67: RuntimeWarning: invalid value encountered in true_divide\n",
      "  (prior_mu / prior_sigma**2) + ((n * data_mu) / prior_sigma**2)\n",
      "/home/labsuser/.local/lib/python3.7/site-packages/autots/tools/probabilistic.py:68: RuntimeWarning: divide by zero encountered in true_divide\n",
      "  ) / ((1 / prior_sigma**2) + (n / prior_sigma**2))\n",
      "/home/labsuser/.local/lib/python3.7/site-packages/autots/tools/probabilistic.py:67: RuntimeWarning: invalid value encountered in true_divide\n",
      "  (prior_mu / prior_sigma**2) + ((n * data_mu) / prior_sigma**2)\n",
      "/home/labsuser/.local/lib/python3.7/site-packages/autots/tools/probabilistic.py:68: RuntimeWarning: divide by zero encountered in true_divide\n",
      "  ) / ((1 / prior_sigma**2) + (n / prior_sigma**2))\n",
      "/home/labsuser/.local/lib/python3.7/site-packages/autots/tools/probabilistic.py:67: RuntimeWarning: invalid value encountered in true_divide\n",
      "  (prior_mu / prior_sigma**2) + ((n * data_mu) / prior_sigma**2)\n",
      "/home/labsuser/.local/lib/python3.7/site-packages/autots/tools/probabilistic.py:68: RuntimeWarning: divide by zero encountered in true_divide\n",
      "  ) / ((1 / prior_sigma**2) + (n / prior_sigma**2))\n",
      "/home/labsuser/.local/lib/python3.7/site-packages/autots/tools/probabilistic.py:67: RuntimeWarning: invalid value encountered in true_divide\n",
      "  (prior_mu / prior_sigma**2) + ((n * data_mu) / prior_sigma**2)\n",
      "/home/labsuser/.local/lib/python3.7/site-packages/autots/tools/probabilistic.py:68: RuntimeWarning: divide by zero encountered in true_divide\n",
      "  ) / ((1 / prior_sigma**2) + (n / prior_sigma**2))\n",
      "/home/labsuser/.local/lib/python3.7/site-packages/autots/tools/probabilistic.py:67: RuntimeWarning: invalid value encountered in true_divide\n",
      "  (prior_mu / prior_sigma**2) + ((n * data_mu) / prior_sigma**2)\n",
      "/home/labsuser/.local/lib/python3.7/site-packages/autots/tools/probabilistic.py:68: RuntimeWarning: divide by zero encountered in true_divide\n",
      "  ) / ((1 / prior_sigma**2) + (n / prior_sigma**2))\n",
      "/home/labsuser/.local/lib/python3.7/site-packages/autots/tools/probabilistic.py:67: RuntimeWarning: invalid value encountered in true_divide\n",
      "  (prior_mu / prior_sigma**2) + ((n * data_mu) / prior_sigma**2)\n",
      "/home/labsuser/.local/lib/python3.7/site-packages/autots/tools/probabilistic.py:68: RuntimeWarning: divide by zero encountered in true_divide\n",
      "  ) / ((1 / prior_sigma**2) + (n / prior_sigma**2))\n",
      "/home/labsuser/.local/lib/python3.7/site-packages/autots/tools/probabilistic.py:67: RuntimeWarning: invalid value encountered in true_divide\n",
      "  (prior_mu / prior_sigma**2) + ((n * data_mu) / prior_sigma**2)\n",
      "/home/labsuser/.local/lib/python3.7/site-packages/autots/tools/probabilistic.py:68: RuntimeWarning: divide by zero encountered in true_divide\n",
      "  ) / ((1 / prior_sigma**2) + (n / prior_sigma**2))\n",
      "/home/labsuser/.local/lib/python3.7/site-packages/autots/tools/probabilistic.py:67: RuntimeWarning: invalid value encountered in true_divide\n",
      "  (prior_mu / prior_sigma**2) + ((n * data_mu) / prior_sigma**2)\n",
      "/home/labsuser/.local/lib/python3.7/site-packages/autots/tools/probabilistic.py:68: RuntimeWarning: divide by zero encountered in true_divide\n",
      "  ) / ((1 / prior_sigma**2) + (n / prior_sigma**2))\n",
      "/home/labsuser/.local/lib/python3.7/site-packages/autots/tools/probabilistic.py:67: RuntimeWarning: invalid value encountered in true_divide\n",
      "  (prior_mu / prior_sigma**2) + ((n * data_mu) / prior_sigma**2)\n",
      "/home/labsuser/.local/lib/python3.7/site-packages/autots/tools/probabilistic.py:68: RuntimeWarning: divide by zero encountered in true_divide\n",
      "  ) / ((1 / prior_sigma**2) + (n / prior_sigma**2))\n",
      "/home/labsuser/.local/lib/python3.7/site-packages/autots/tools/probabilistic.py:67: RuntimeWarning: invalid value encountered in true_divide\n",
      "  (prior_mu / prior_sigma**2) + ((n * data_mu) / prior_sigma**2)\n",
      "/home/labsuser/.local/lib/python3.7/site-packages/autots/tools/probabilistic.py:68: RuntimeWarning: divide by zero encountered in true_divide\n",
      "  ) / ((1 / prior_sigma**2) + (n / prior_sigma**2))\n",
      "/home/labsuser/.local/lib/python3.7/site-packages/autots/tools/probabilistic.py:67: RuntimeWarning: invalid value encountered in true_divide\n",
      "  (prior_mu / prior_sigma**2) + ((n * data_mu) / prior_sigma**2)\n",
      "/home/labsuser/.local/lib/python3.7/site-packages/autots/tools/probabilistic.py:68: RuntimeWarning: divide by zero encountered in true_divide\n",
      "  ) / ((1 / prior_sigma**2) + (n / prior_sigma**2))\n",
      "/home/labsuser/.local/lib/python3.7/site-packages/autots/tools/probabilistic.py:67: RuntimeWarning: invalid value encountered in true_divide\n",
      "  (prior_mu / prior_sigma**2) + ((n * data_mu) / prior_sigma**2)\n",
      "/home/labsuser/.local/lib/python3.7/site-packages/autots/tools/probabilistic.py:68: RuntimeWarning: divide by zero encountered in true_divide\n",
      "  ) / ((1 / prior_sigma**2) + (n / prior_sigma**2))\n",
      "/home/labsuser/.local/lib/python3.7/site-packages/autots/tools/probabilistic.py:67: RuntimeWarning: invalid value encountered in true_divide\n",
      "  (prior_mu / prior_sigma**2) + ((n * data_mu) / prior_sigma**2)\n",
      "/home/labsuser/.local/lib/python3.7/site-packages/autots/tools/probabilistic.py:68: RuntimeWarning: divide by zero encountered in true_divide\n",
      "  ) / ((1 / prior_sigma**2) + (n / prior_sigma**2))\n",
      "/home/labsuser/.local/lib/python3.7/site-packages/autots/tools/probabilistic.py:67: RuntimeWarning: invalid value encountered in true_divide\n",
      "  (prior_mu / prior_sigma**2) + ((n * data_mu) / prior_sigma**2)\n",
      "/home/labsuser/.local/lib/python3.7/site-packages/autots/tools/probabilistic.py:68: RuntimeWarning: divide by zero encountered in true_divide\n",
      "  ) / ((1 / prior_sigma**2) + (n / prior_sigma**2))\n",
      "/home/labsuser/.local/lib/python3.7/site-packages/autots/tools/probabilistic.py:67: RuntimeWarning: invalid value encountered in true_divide\n",
      "  (prior_mu / prior_sigma**2) + ((n * data_mu) / prior_sigma**2)\n",
      "/home/labsuser/.local/lib/python3.7/site-packages/autots/tools/probabilistic.py:68: RuntimeWarning: divide by zero encountered in true_divide\n",
      "  ) / ((1 / prior_sigma**2) + (n / prior_sigma**2))\n",
      "/home/labsuser/.local/lib/python3.7/site-packages/autots/tools/probabilistic.py:67: RuntimeWarning: invalid value encountered in true_divide\n",
      "  (prior_mu / prior_sigma**2) + ((n * data_mu) / prior_sigma**2)\n",
      "/home/labsuser/.local/lib/python3.7/site-packages/autots/tools/probabilistic.py:68: RuntimeWarning: divide by zero encountered in true_divide\n",
      "  ) / ((1 / prior_sigma**2) + (n / prior_sigma**2))\n",
      "/home/labsuser/.local/lib/python3.7/site-packages/autots/tools/probabilistic.py:67: RuntimeWarning: invalid value encountered in true_divide\n",
      "  (prior_mu / prior_sigma**2) + ((n * data_mu) / prior_sigma**2)\n",
      "/home/labsuser/.local/lib/python3.7/site-packages/autots/tools/probabilistic.py:68: RuntimeWarning: divide by zero encountered in true_divide\n",
      "  ) / ((1 / prior_sigma**2) + (n / prior_sigma**2))\n",
      "/home/labsuser/.local/lib/python3.7/site-packages/autots/tools/probabilistic.py:67: RuntimeWarning: invalid value encountered in true_divide\n",
      "  (prior_mu / prior_sigma**2) + ((n * data_mu) / prior_sigma**2)\n",
      "/home/labsuser/.local/lib/python3.7/site-packages/autots/tools/probabilistic.py:68: RuntimeWarning: divide by zero encountered in true_divide\n",
      "  ) / ((1 / prior_sigma**2) + (n / prior_sigma**2))\n",
      "/home/labsuser/.local/lib/python3.7/site-packages/autots/tools/probabilistic.py:67: RuntimeWarning: invalid value encountered in true_divide\n",
      "  (prior_mu / prior_sigma**2) + ((n * data_mu) / prior_sigma**2)\n",
      "/home/labsuser/.local/lib/python3.7/site-packages/autots/tools/probabilistic.py:68: RuntimeWarning: divide by zero encountered in true_divide\n",
      "  ) / ((1 / prior_sigma**2) + (n / prior_sigma**2))\n",
      "/home/labsuser/.local/lib/python3.7/site-packages/autots/tools/probabilistic.py:67: RuntimeWarning: invalid value encountered in true_divide\n",
      "  (prior_mu / prior_sigma**2) + ((n * data_mu) / prior_sigma**2)\n",
      "/home/labsuser/.local/lib/python3.7/site-packages/autots/tools/probabilistic.py:68: RuntimeWarning: divide by zero encountered in true_divide\n",
      "  ) / ((1 / prior_sigma**2) + (n / prior_sigma**2))\n",
      "/home/labsuser/.local/lib/python3.7/site-packages/autots/tools/probabilistic.py:67: RuntimeWarning: invalid value encountered in true_divide\n",
      "  (prior_mu / prior_sigma**2) + ((n * data_mu) / prior_sigma**2)\n",
      "/home/labsuser/.local/lib/python3.7/site-packages/autots/tools/probabilistic.py:68: RuntimeWarning: divide by zero encountered in true_divide\n",
      "  ) / ((1 / prior_sigma**2) + (n / prior_sigma**2))\n",
      "/home/labsuser/.local/lib/python3.7/site-packages/autots/tools/probabilistic.py:67: RuntimeWarning: invalid value encountered in true_divide\n",
      "  (prior_mu / prior_sigma**2) + ((n * data_mu) / prior_sigma**2)\n",
      "/home/labsuser/.local/lib/python3.7/site-packages/autots/tools/probabilistic.py:68: RuntimeWarning: divide by zero encountered in true_divide\n",
      "  ) / ((1 / prior_sigma**2) + (n / prior_sigma**2))\n",
      "/home/labsuser/.local/lib/python3.7/site-packages/autots/tools/probabilistic.py:67: RuntimeWarning: invalid value encountered in true_divide\n",
      "  (prior_mu / prior_sigma**2) + ((n * data_mu) / prior_sigma**2)\n",
      "/home/labsuser/.local/lib/python3.7/site-packages/autots/tools/probabilistic.py:68: RuntimeWarning: divide by zero encountered in true_divide\n",
      "  ) / ((1 / prior_sigma**2) + (n / prior_sigma**2))\n",
      "/home/labsuser/.local/lib/python3.7/site-packages/autots/tools/probabilistic.py:67: RuntimeWarning: invalid value encountered in true_divide\n",
      "  (prior_mu / prior_sigma**2) + ((n * data_mu) / prior_sigma**2)\n",
      "/home/labsuser/.local/lib/python3.7/site-packages/autots/tools/probabilistic.py:68: RuntimeWarning: divide by zero encountered in true_divide\n",
      "  ) / ((1 / prior_sigma**2) + (n / prior_sigma**2))\n",
      "/home/labsuser/.local/lib/python3.7/site-packages/autots/tools/probabilistic.py:67: RuntimeWarning: invalid value encountered in true_divide\n",
      "  (prior_mu / prior_sigma**2) + ((n * data_mu) / prior_sigma**2)\n",
      "/home/labsuser/.local/lib/python3.7/site-packages/autots/tools/probabilistic.py:68: RuntimeWarning: divide by zero encountered in true_divide\n",
      "  ) / ((1 / prior_sigma**2) + (n / prior_sigma**2))\n",
      "/home/labsuser/.local/lib/python3.7/site-packages/autots/tools/probabilistic.py:67: RuntimeWarning: invalid value encountered in true_divide\n",
      "  (prior_mu / prior_sigma**2) + ((n * data_mu) / prior_sigma**2)\n",
      "/home/labsuser/.local/lib/python3.7/site-packages/autots/tools/probabilistic.py:68: RuntimeWarning: divide by zero encountered in true_divide\n",
      "  ) / ((1 / prior_sigma**2) + (n / prior_sigma**2))\n",
      "/home/labsuser/.local/lib/python3.7/site-packages/autots/tools/probabilistic.py:67: RuntimeWarning: invalid value encountered in true_divide\n",
      "  (prior_mu / prior_sigma**2) + ((n * data_mu) / prior_sigma**2)\n",
      "/home/labsuser/.local/lib/python3.7/site-packages/autots/tools/probabilistic.py:68: RuntimeWarning: divide by zero encountered in true_divide\n",
      "  ) / ((1 / prior_sigma**2) + (n / prior_sigma**2))\n",
      "/home/labsuser/.local/lib/python3.7/site-packages/autots/tools/probabilistic.py:67: RuntimeWarning: invalid value encountered in true_divide\n",
      "  (prior_mu / prior_sigma**2) + ((n * data_mu) / prior_sigma**2)\n",
      "/home/labsuser/.local/lib/python3.7/site-packages/autots/tools/probabilistic.py:68: RuntimeWarning: divide by zero encountered in true_divide\n",
      "  ) / ((1 / prior_sigma**2) + (n / prior_sigma**2))\n",
      "/home/labsuser/.local/lib/python3.7/site-packages/autots/tools/probabilistic.py:67: RuntimeWarning: invalid value encountered in true_divide\n",
      "  (prior_mu / prior_sigma**2) + ((n * data_mu) / prior_sigma**2)\n",
      "/home/labsuser/.local/lib/python3.7/site-packages/autots/tools/probabilistic.py:68: RuntimeWarning: divide by zero encountered in true_divide\n",
      "  ) / ((1 / prior_sigma**2) + (n / prior_sigma**2))\n",
      "/home/labsuser/.local/lib/python3.7/site-packages/autots/tools/probabilistic.py:67: RuntimeWarning: invalid value encountered in true_divide\n",
      "  (prior_mu / prior_sigma**2) + ((n * data_mu) / prior_sigma**2)\n",
      "/home/labsuser/.local/lib/python3.7/site-packages/autots/tools/probabilistic.py:68: RuntimeWarning: divide by zero encountered in true_divide\n",
      "  ) / ((1 / prior_sigma**2) + (n / prior_sigma**2))\n"
     ]
    },
    {
     "name": "stdout",
     "output_type": "stream",
     "text": [
      "Model Number: 300 with model GLM in generation 1 of 10\n",
      "Model Number: 301 with model LastValueNaive in generation 1 of 10\n",
      "Model Number: 302 with model ConstantNaive in generation 1 of 10\n",
      "Model Number: 303 with model ARIMA in generation 1 of 10\n",
      "Model Number: 304 with model UnobservedComponents in generation 1 of 10\n",
      "Template Eval Error: LinAlgError('LU decomposition error.') in model 304 in generation 1: UnobservedComponents\n",
      "Model Number: 305 with model DatepartRegression in generation 1 of 10\n",
      "Model Number: 306 with model MultivariateMotif in generation 1 of 10\n",
      "Model Number: 307 with model MultivariateMotif in generation 1 of 10\n",
      "Model Number: 308 with model ConstantNaive in generation 1 of 10\n",
      "Model Number: 309 with model SeasonalNaive in generation 1 of 10\n",
      "Model Number: 310 with model GLM in generation 1 of 10\n",
      "Model Number: 311 with model NVAR in generation 1 of 10\n"
     ]
    },
    {
     "name": "stderr",
     "output_type": "stream",
     "text": [
      "/usr/local/lib/python3.7/site-packages/statsmodels/genmod/families/links.py:188: RuntimeWarning: overflow encountered in exp\n",
      "  t = np.exp(-z)\n",
      "/usr/local/lib/python3.7/site-packages/statsmodels/genmod/families/family.py:893: RuntimeWarning: divide by zero encountered in true_divide\n",
      "  endog_mu = self._clean(endog / mu)\n"
     ]
    },
    {
     "name": "stdout",
     "output_type": "stream",
     "text": [
      "New Generation: 2 of 10\n",
      "Model Number: 312 with model UnobservedComponents in generation 2 of 10\n",
      "Model Number: 313 with model UnivariateMotif in generation 2 of 10\n",
      "Model Number: 314 with model SeasonalNaive in generation 2 of 10\n",
      "Model Number: 315 with model SectionalMotif in generation 2 of 10\n",
      "Model Number: 316 with model WindowRegression in generation 2 of 10\n",
      "Model Number: 317 with model FBProphet in generation 2 of 10\n",
      "Template Eval Error: ValueError(\"regression_type='User' but no future_regressor passed\") in model 317 in generation 2: FBProphet\n",
      "Model Number: 318 with model NVAR in generation 2 of 10\n",
      "Model Number: 319 with model ARIMA in generation 2 of 10\n",
      "Model Number: 320 with model WindowRegression in generation 2 of 10\n",
      "Model Number: 321 with model GLS in generation 2 of 10\n",
      "Model Number: 322 with model UnobservedComponents in generation 2 of 10\n",
      "Model Number: 323 with model UnobservedComponents in generation 2 of 10\n",
      "Model Number: 324 with model GLS in generation 2 of 10\n",
      "Model Number: 325 with model DatepartRegression in generation 2 of 10\n",
      "Template Eval Error: Exception('Transformer AlignLastValue failed on inverse') in model 325 in generation 2: DatepartRegression\n",
      "Model Number: 326 with model LastValueNaive in generation 2 of 10\n",
      "Model Number: 327 with model NVAR in generation 2 of 10\n",
      "Model Number: 328 with model DatepartRegression in generation 2 of 10\n",
      "Epoch 1/50\n",
      "8/8 [==============================] - 5s 84ms/step - loss: nan - val_loss: nan\n",
      "Epoch 2/50\n",
      "8/8 [==============================] - 0s 25ms/step - loss: nan - val_loss: nan\n",
      "Epoch 3/50\n",
      "8/8 [==============================] - 0s 29ms/step - loss: nan - val_loss: nan\n",
      "Epoch 4/50\n",
      "8/8 [==============================] - 0s 30ms/step - loss: nan - val_loss: nan\n",
      "Epoch 5/50\n",
      "8/8 [==============================] - 0s 28ms/step - loss: nan - val_loss: nan\n",
      "Epoch 6/50\n",
      "8/8 [==============================] - 0s 29ms/step - loss: nan - val_loss: nan\n",
      "Epoch 7/50\n",
      "8/8 [==============================] - 0s 32ms/step - loss: nan - val_loss: nan\n",
      "Epoch 8/50\n",
      "8/8 [==============================] - 0s 27ms/step - loss: nan - val_loss: nan\n",
      "Epoch 9/50\n",
      "8/8 [==============================] - 0s 29ms/step - loss: nan - val_loss: nan\n",
      "Epoch 10/50\n",
      "8/8 [==============================] - 0s 33ms/step - loss: nan - val_loss: nan\n",
      "Template Eval Error: ValueError('Model DatepartRegression returned NaN for one or more series. fail_on_forecast_nan=True') in model 328 in generation 2: DatepartRegression\n",
      "Model Number: 329 with model SeasonalNaive in generation 2 of 10\n",
      "Model Number: 330 with model ConstantNaive in generation 2 of 10\n",
      "Model Number: 331 with model GLM in generation 2 of 10\n"
     ]
    },
    {
     "name": "stderr",
     "output_type": "stream",
     "text": [
      "/usr/local/lib/python3.7/site-packages/statsmodels/genmod/generalized_linear_model.py:278: DomainWarning: The inverse_power link function does not respect the domain of the Gamma family.\n",
      "  DomainWarning)\n"
     ]
    },
    {
     "name": "stdout",
     "output_type": "stream",
     "text": [
      "Model Number: 332 with model WindowRegression in generation 2 of 10\n",
      "Model Number: 333 with model ConstantNaive in generation 2 of 10\n",
      "Model Number: 334 with model DatepartRegression in generation 2 of 10\n",
      "Template Eval Error: ValueError(\"regression_type='User' but no future_regressor passed\") in model 334 in generation 2: DatepartRegression\n",
      "Model Number: 335 with model ETS in generation 2 of 10\n",
      "ETS error TypeError(\"__init__() got an unexpected keyword argument 'damped_trend'\")\n",
      "ETS failed on Close with ValueError('endog must be strictly positive when usingmultiplicative trend or seasonal components.')\n",
      "Model Number: 336 with model UnobservedComponents in generation 2 of 10\n",
      "Model Number: 337 with model FBProphet in generation 2 of 10\n"
     ]
    },
    {
     "name": "stderr",
     "output_type": "stream",
     "text": [
      "/usr/local/lib/python3.7/site-packages/sklearn/linear_model/_ridge.py:157: LinAlgWarning: Ill-conditioned matrix (rcond=3.81215e-25): result may not be accurate.\n",
      "  return linalg.solve(A, Xy, sym_pos=True, overwrite_a=True).T\n",
      "INFO:prophet:Disabling yearly seasonality. Run prophet with yearly_seasonality=True to override this.\n",
      "INFO:prophet:Disabling daily seasonality. Run prophet with daily_seasonality=True to override this.\n",
      "INFO:cmdstanpy:start chain 1\n",
      "INFO:cmdstanpy:finish chain 1\n"
     ]
    },
    {
     "name": "stdout",
     "output_type": "stream",
     "text": [
      "Model Number: 338 with model ARIMA in generation 2 of 10\n",
      "Model Number: 339 with model ETS in generation 2 of 10\n",
      "ETS error TypeError(\"__init__() got an unexpected keyword argument 'damped_trend'\")\n",
      "ETS failed on Close with ValueError('endog must be strictly positive when usingmultiplicative trend or seasonal components.')\n",
      "Model Number: 340 with model ETS in generation 2 of 10\n",
      "ETS error TypeError(\"__init__() got an unexpected keyword argument 'damped_trend'\")\n",
      "ETS failed on Close with ValueError('Can only dampen the trend component')\n",
      "Model Number: 341 with model MultivariateRegression in generation 2 of 10\n",
      "Template Eval Error: ModuleNotFoundError(\"No module named 'lightgbm'\") in model 341 in generation 2: MultivariateRegression\n",
      "Model Number: 342 with model UnobservedComponents in generation 2 of 10\n",
      "Model Number: 343 with model GLS in generation 2 of 10\n"
     ]
    },
    {
     "name": "stderr",
     "output_type": "stream",
     "text": [
      "INFO:prophet:Disabling yearly seasonality. Run prophet with yearly_seasonality=True to override this.\n",
      "INFO:prophet:Disabling daily seasonality. Run prophet with daily_seasonality=True to override this.\n",
      "INFO:cmdstanpy:start chain 1\n",
      "INFO:cmdstanpy:finish chain 1\n"
     ]
    },
    {
     "name": "stdout",
     "output_type": "stream",
     "text": [
      "Model Number: 344 with model FBProphet in generation 2 of 10\n",
      "No anomalies detected.\n",
      "Model Number: 345 with model NVAR in generation 2 of 10\n",
      "Model Number: 346 with model GLS in generation 2 of 10\n",
      "Template Eval Error: Exception('Transformer AlignLastValue failed on inverse') in model 346 in generation 2: GLS\n",
      "Model Number: 347 with model LastValueNaive in generation 2 of 10\n",
      "Model Number: 348 with model GLM in generation 2 of 10\n",
      "Model Number: 349 with model GLS in generation 2 of 10\n",
      "Model Number: 350 with model AverageValueNaive in generation 2 of 10\n",
      "Model Number: 351 with model ConstantNaive in generation 2 of 10\n",
      "Model Number: 352 with model GLS in generation 2 of 10\n",
      "Model Number: 353 with model ARIMA in generation 2 of 10\n",
      "Model Number: 354 with model SectionalMotif in generation 2 of 10\n",
      "Model Number: 355 with model MetricMotif in generation 2 of 10\n",
      "Model Number: 356 with model ARIMA in generation 2 of 10\n",
      "Model Number: 357 with model MultivariateRegression in generation 2 of 10\n",
      "Model Number: 358 with model UnivariateMotif in generation 2 of 10\n",
      "Model Number: 359 with model FBProphet in generation 2 of 10\n",
      "Template Eval Error: ValueError(\"regression_type='User' but no future_regressor passed\") in model 359 in generation 2: FBProphet\n",
      "Model Number: 360 with model SectionalMotif in generation 2 of 10\n",
      "Model Number: 361 with model MultivariateMotif in generation 2 of 10\n",
      "Model Number: 362 with model SeasonalNaive in generation 2 of 10\n",
      "Template Eval Error: Exception('Transformer AlignLastValue failed on inverse') in model 362 in generation 2: SeasonalNaive\n",
      "Model Number: 363 with model GLS in generation 2 of 10\n",
      "Template Eval Error: Exception('Transformer AlignLastValue failed on inverse') in model 363 in generation 2: GLS\n",
      "Model Number: 364 with model NVAR in generation 2 of 10\n",
      "Model Number: 365 with model UnobservedComponents in generation 2 of 10\n",
      "Model Number: 366 with model NVAR in generation 2 of 10\n"
     ]
    },
    {
     "name": "stderr",
     "output_type": "stream",
     "text": [
      "/usr/local/lib/python3.7/site-packages/sklearn/neural_network/_multilayer_perceptron.py:696: ConvergenceWarning: Stochastic Optimizer: Maximum iterations (250) reached and the optimization hasn't converged yet.\n",
      "  ConvergenceWarning,\n",
      "INFO:prophet:Disabling yearly seasonality. Run prophet with yearly_seasonality=True to override this.\n",
      "INFO:prophet:Disabling daily seasonality. Run prophet with daily_seasonality=True to override this.\n",
      "INFO:cmdstanpy:start chain 1\n"
     ]
    },
    {
     "name": "stdout",
     "output_type": "stream",
     "text": [
      "Model Number: 367 with model FBProphet in generation 2 of 10\n"
     ]
    },
    {
     "name": "stderr",
     "output_type": "stream",
     "text": [
      "INFO:cmdstanpy:finish chain 1\n"
     ]
    },
    {
     "name": "stdout",
     "output_type": "stream",
     "text": [
      "Model Number: 368 with model SeasonalNaive in generation 2 of 10\n",
      "Model Number: 369 with model UnivariateMotif in generation 2 of 10\n",
      "Model Number: 370 with model LastValueNaive in generation 2 of 10\n",
      "Model Number: 371 with model UnivariateRegression in generation 2 of 10\n",
      "Model Number: 372 with model NVAR in generation 2 of 10\n",
      "Template Eval Error: Exception('Transformer BTCD failed on fit') in model 372 in generation 2: NVAR\n",
      "Model Number: 373 with model MultivariateRegression in generation 2 of 10\n",
      "Model Number: 374 with model ETS in generation 2 of 10\n",
      "ETS error TypeError(\"__init__() got an unexpected keyword argument 'damped_trend'\")\n",
      "Model Number: 375 with model FBProphet in generation 2 of 10\n",
      "Template Eval Error: ValueError(\"regression_type='User' but no future_regressor passed\") in model 375 in generation 2: FBProphet\n",
      "Model Number: 376 with model LastValueNaive in generation 2 of 10\n",
      "Model Number: 377 with model ETS in generation 2 of 10\n",
      "ETS error TypeError(\"__init__() got an unexpected keyword argument 'damped_trend'\")\n",
      "Model Number: 378 with model ETS in generation 2 of 10\n",
      "ETS error TypeError(\"__init__() got an unexpected keyword argument 'damped_trend'\")\n",
      "Model Number: 379 with model ConstantNaive in generation 2 of 10\n",
      "Model Number: 380 with model FBProphet in generation 2 of 10\n",
      "No anomalies detected.\n"
     ]
    },
    {
     "name": "stderr",
     "output_type": "stream",
     "text": [
      "INFO:prophet:Disabling yearly seasonality. Run prophet with yearly_seasonality=True to override this.\n",
      "INFO:prophet:Disabling daily seasonality. Run prophet with daily_seasonality=True to override this.\n",
      "INFO:cmdstanpy:start chain 1\n",
      "INFO:cmdstanpy:finish chain 1\n"
     ]
    },
    {
     "name": "stdout",
     "output_type": "stream",
     "text": [
      "Model Number: 381 with model UnobservedComponents in generation 2 of 10\n",
      "Model Number: 382 with model SectionalMotif in generation 2 of 10\n",
      "Model Number: 383 with model GLM in generation 2 of 10\n"
     ]
    },
    {
     "name": "stderr",
     "output_type": "stream",
     "text": [
      "/usr/local/lib/python3.7/site-packages/statsmodels/genmod/families/family.py:1230: RuntimeWarning: invalid value encountered in log\n",
      "  resid_dev -= endog_alpha * np.log(endog_alpha / mu_alpha)\n",
      "/usr/local/lib/python3.7/site-packages/statsmodels/genmod/families/links.py:517: RuntimeWarning: overflow encountered in exp\n",
      "  return np.exp(z)\n",
      "/usr/local/lib/python3.7/site-packages/statsmodels/genmod/families/family.py:1230: RuntimeWarning: divide by zero encountered in log\n",
      "  resid_dev -= endog_alpha * np.log(endog_alpha / mu_alpha)\n",
      "/usr/local/lib/python3.7/site-packages/numpy/core/fromnumeric.py:86: RuntimeWarning: invalid value encountered in reduce\n",
      "  return ufunc.reduce(obj, axis, dtype, out, **passkwargs)\n",
      "/usr/local/lib/python3.7/site-packages/statsmodels/genmod/families/family.py:134: RuntimeWarning: invalid value encountered in multiply\n",
      "  return 1. / (self.link.deriv(mu)**2 * self.variance(mu))\n",
      "/usr/local/lib/python3.7/site-packages/statsmodels/genmod/generalized_linear_model.py:1162: RuntimeWarning: invalid value encountered in multiply\n",
      "  - self._offset_exposure)\n"
     ]
    },
    {
     "name": "stdout",
     "output_type": "stream",
     "text": [
      "Template Eval Error: ValueError('NaN, inf or invalid value detected in weights, estimation infeasible.') in model 383 in generation 2: GLM\n",
      "Model Number: 384 with model GLS in generation 2 of 10\n",
      "Model Number: 385 with model MultivariateRegression in generation 2 of 10\n",
      "Model Number: 386 with model ConstantNaive in generation 2 of 10\n",
      "Model Number: 387 with model LastValueNaive in generation 2 of 10\n",
      "Model Number: 388 with model WindowRegression in generation 2 of 10\n",
      "Model Number: 389 with model SeasonalNaive in generation 2 of 10\n"
     ]
    },
    {
     "name": "stderr",
     "output_type": "stream",
     "text": [
      "INFO:prophet:Disabling yearly seasonality. Run prophet with yearly_seasonality=True to override this.\n",
      "INFO:prophet:Disabling daily seasonality. Run prophet with daily_seasonality=True to override this.\n",
      "INFO:cmdstanpy:start chain 1\n",
      "INFO:cmdstanpy:finish chain 1\n"
     ]
    },
    {
     "name": "stdout",
     "output_type": "stream",
     "text": [
      "Model Number: 390 with model FBProphet in generation 2 of 10\n",
      "Model Number: 391 with model AverageValueNaive in generation 2 of 10\n",
      "Model Number: 392 with model MetricMotif in generation 2 of 10\n",
      "Template Eval Error: Exception('Transformer BTCD failed on fit') in model 392 in generation 2: MetricMotif\n",
      "Model Number: 393 with model GLS in generation 2 of 10\n",
      "Model Number: 394 with model UnobservedComponents in generation 2 of 10\n",
      "Model Number: 395 with model UnobservedComponents in generation 2 of 10\n",
      "Model Number: 396 with model NVAR in generation 2 of 10\n",
      "Model Number: 397 with model UnobservedComponents in generation 2 of 10\n",
      "Model Number: 398 with model WindowRegression in generation 2 of 10\n"
     ]
    },
    {
     "name": "stderr",
     "output_type": "stream",
     "text": [
      "/usr/local/lib/python3.7/site-packages/sklearn/neural_network/_multilayer_perceptron.py:549: ConvergenceWarning: lbfgs failed to converge (status=1):\n",
      "STOP: TOTAL NO. of ITERATIONS REACHED LIMIT.\n",
      "\n",
      "Increase the number of iterations (max_iter) or scale the data as shown in:\n",
      "    https://scikit-learn.org/stable/modules/preprocessing.html\n",
      "  self.n_iter_ = _check_optimize_result(\"lbfgs\", opt_res, self.max_iter)\n"
     ]
    },
    {
     "name": "stdout",
     "output_type": "stream",
     "text": [
      "Model Number: 399 with model DatepartRegression in generation 2 of 10\n",
      "Model Number: 400 with model ETS in generation 2 of 10\n",
      "ETS error TypeError(\"__init__() got an unexpected keyword argument 'damped_trend'\")\n",
      "Model Number: 401 with model ConstantNaive in generation 2 of 10\n",
      "Model Number: 402 with model ARIMA in generation 2 of 10\n",
      "Template Eval Error: Exception('Transformer Cointegration failed on fit') in model 402 in generation 2: ARIMA\n",
      "Model Number: 403 with model MultivariateMotif in generation 2 of 10\n",
      "Model Number: 404 with model MultivariateMotif in generation 2 of 10\n",
      "Model Number: 405 with model ARIMA in generation 2 of 10\n",
      "Model Number: 406 with model SeasonalNaive in generation 2 of 10\n",
      "Model Number: 407 with model MetricMotif in generation 2 of 10\n",
      "Model Number: 408 with model NVAR in generation 2 of 10\n",
      "Model Number: 409 with model ETS in generation 2 of 10\n",
      "ETS error TypeError(\"__init__() got an unexpected keyword argument 'damped_trend'\")\n",
      "Model Number: 410 with model NVAR in generation 2 of 10\n",
      "Model Number: 411 with model NVAR in generation 2 of 10\n",
      "Model Number: 412 with model MultivariateMotif in generation 2 of 10\n",
      "Model Number: 413 with model ETS in generation 2 of 10\n",
      "ETS error TypeError(\"__init__() got an unexpected keyword argument 'damped_trend'\")\n",
      "Model Number: 414 with model UnivariateMotif in generation 2 of 10\n"
     ]
    },
    {
     "name": "stderr",
     "output_type": "stream",
     "text": [
      "INFO:prophet:Disabling yearly seasonality. Run prophet with yearly_seasonality=True to override this.\n",
      "INFO:prophet:Disabling daily seasonality. Run prophet with daily_seasonality=True to override this.\n"
     ]
    },
    {
     "name": "stdout",
     "output_type": "stream",
     "text": [
      "Model Number: 415 with model FBProphet in generation 2 of 10\n",
      "No anomalies detected.\n"
     ]
    },
    {
     "name": "stderr",
     "output_type": "stream",
     "text": [
      "INFO:cmdstanpy:start chain 1\n",
      "INFO:cmdstanpy:finish chain 1\n",
      "/usr/local/lib/python3.7/site-packages/sklearn/svm/_base.py:1208: ConvergenceWarning: Liblinear failed to converge, increase the number of iterations.\n",
      "  ConvergenceWarning,\n"
     ]
    },
    {
     "name": "stdout",
     "output_type": "stream",
     "text": [
      "Model Number: 416 with model AverageValueNaive in generation 2 of 10\n",
      "Model Number: 417 with model AverageValueNaive in generation 2 of 10\n",
      "Model Number: 418 with model WindowRegression in generation 2 of 10\n",
      "Template Eval Error: ModuleNotFoundError(\"No module named 'lightgbm'\") in model 418 in generation 2: WindowRegression\n",
      "Model Number: 419 with model MultivariateMotif in generation 2 of 10\n",
      "Model Number: 420 with model UnobservedComponents in generation 2 of 10\n",
      "Model Number: 421 with model LastValueNaive in generation 2 of 10\n",
      "Model Number: 422 with model UnivariateMotif in generation 2 of 10\n",
      "Template Eval Error: ValueError('Model UnivariateMotif returned NaN for one or more series. fail_on_forecast_nan=True') in model 422 in generation 2: UnivariateMotif\n",
      "Model Number: 423 with model UnobservedComponents in generation 2 of 10\n",
      "Model Number: 424 with model MetricMotif in generation 2 of 10\n",
      "Model Number: 425 with model SectionalMotif in generation 2 of 10\n"
     ]
    },
    {
     "name": "stderr",
     "output_type": "stream",
     "text": [
      "/usr/local/lib/python3.7/site-packages/numpy/core/_methods.py:48: RuntimeWarning: invalid value encountered in reduce\n",
      "  return umr_sum(a, axis, dtype, out, keepdims, initial, where)\n",
      "INFO:prophet:Disabling yearly seasonality. Run prophet with yearly_seasonality=True to override this.\n",
      "INFO:prophet:Disabling daily seasonality. Run prophet with daily_seasonality=True to override this.\n"
     ]
    },
    {
     "name": "stdout",
     "output_type": "stream",
     "text": [
      "Model Number: 426 with model FBProphet in generation 2 of 10\n",
      "No anomalies detected.\n"
     ]
    },
    {
     "name": "stderr",
     "output_type": "stream",
     "text": [
      "INFO:cmdstanpy:start chain 1\n",
      "INFO:cmdstanpy:finish chain 1\n"
     ]
    },
    {
     "name": "stdout",
     "output_type": "stream",
     "text": [
      "Model Number: 427 with model WindowRegression in generation 2 of 10\n",
      "Model Number: 428 with model ARIMA in generation 2 of 10\n",
      "Model Number: 429 with model UnivariateMotif in generation 2 of 10\n",
      "Model Number: 430 with model ConstantNaive in generation 2 of 10\n",
      "Model Number: 431 with model GLM in generation 2 of 10\n",
      "Model Number: 432 with model FBProphet in generation 2 of 10\n",
      "Template Eval Error: ValueError(\"regression_type='User' but no future_regressor passed\") in model 432 in generation 2: FBProphet\n",
      "Model Number: 433 with model ETS in generation 2 of 10\n",
      "ETS error TypeError(\"__init__() got an unexpected keyword argument 'damped_trend'\")\n",
      "Model Number: 434 with model SeasonalNaive in generation 2 of 10\n",
      "Model Number: 435 with model ARIMA in generation 2 of 10\n",
      "Model Number: 436 with model SeasonalNaive in generation 2 of 10\n",
      "New Generation: 3 of 10\n",
      "Model Number: 437 with model GLS in generation 3 of 10\n",
      "Model Number: 438 with model DatepartRegression in generation 3 of 10\n"
     ]
    },
    {
     "name": "stderr",
     "output_type": "stream",
     "text": [
      "/usr/local/lib/python3.7/site-packages/sklearn/svm/_base.py:1208: ConvergenceWarning: Liblinear failed to converge, increase the number of iterations.\n",
      "  ConvergenceWarning,\n"
     ]
    },
    {
     "name": "stdout",
     "output_type": "stream",
     "text": [
      "Model Number: 439 with model UnobservedComponents in generation 3 of 10\n",
      "Model Number: 440 with model AverageValueNaive in generation 3 of 10\n",
      "Model Number: 441 with model MetricMotif in generation 3 of 10\n",
      "Model Number: 442 with model ETS in generation 3 of 10\n",
      "ETS error TypeError(\"__init__() got an unexpected keyword argument 'damped_trend'\")\n",
      "Model Number: 443 with model ETS in generation 3 of 10\n",
      "ETS error TypeError(\"__init__() got an unexpected keyword argument 'damped_trend'\")\n",
      "ETS failed on Close with ValueError('endog must be strictly positive when usingmultiplicative trend or seasonal components.')\n",
      "Model Number: 444 with model ARIMA in generation 3 of 10\n",
      "Model Number: 445 with model WindowRegression in generation 3 of 10\n",
      "Template Eval Error: Exception('Transformer Detrend failed on fit') in model 445 in generation 3: WindowRegression\n",
      "Model Number: 446 with model ARIMA in generation 3 of 10\n",
      "Model Number: 447 with model ETS in generation 3 of 10\n",
      "ETS error TypeError(\"__init__() got an unexpected keyword argument 'damped_trend'\")\n",
      "ETS failed on Close with ValueError('Can only dampen the trend component')\n",
      "Model Number: 448 with model ConstantNaive in generation 3 of 10\n",
      "Model Number: 449 with model GLS in generation 3 of 10\n",
      "Model Number: 450 with model AverageValueNaive in generation 3 of 10\n",
      "Model Number: 451 with model GLS in generation 3 of 10\n",
      "Model Number: 452 with model ARIMA in generation 3 of 10\n",
      "Model Number: 453 with model WindowRegression in generation 3 of 10\n"
     ]
    },
    {
     "name": "stderr",
     "output_type": "stream",
     "text": [
      "/usr/local/lib/python3.7/site-packages/sklearn/neural_network/_multilayer_perceptron.py:549: ConvergenceWarning: lbfgs failed to converge (status=1):\n",
      "STOP: TOTAL NO. of ITERATIONS REACHED LIMIT.\n",
      "\n",
      "Increase the number of iterations (max_iter) or scale the data as shown in:\n",
      "    https://scikit-learn.org/stable/modules/preprocessing.html\n",
      "  self.n_iter_ = _check_optimize_result(\"lbfgs\", opt_res, self.max_iter)\n"
     ]
    },
    {
     "name": "stdout",
     "output_type": "stream",
     "text": [
      "Model Number: 454 with model MultivariateRegression in generation 3 of 10\n",
      "Model Number: 455 with model GLM in generation 3 of 10\n"
     ]
    },
    {
     "name": "stderr",
     "output_type": "stream",
     "text": [
      "/usr/local/lib/python3.7/site-packages/statsmodels/genmod/families/links.py:188: RuntimeWarning: overflow encountered in exp\n",
      "  t = np.exp(-z)\n",
      "/usr/local/lib/python3.7/site-packages/statsmodels/genmod/families/family.py:893: RuntimeWarning: divide by zero encountered in true_divide\n",
      "  endog_mu = self._clean(endog / mu)\n"
     ]
    },
    {
     "name": "stdout",
     "output_type": "stream",
     "text": [
      "Model Number: 456 with model UnobservedComponents in generation 3 of 10\n",
      "Model Number: 457 with model DatepartRegression in generation 3 of 10\n",
      "Model Number: 458 with model SectionalMotif in generation 3 of 10\n",
      "Model Number: 459 with model LastValueNaive in generation 3 of 10\n",
      "Model Number: 460 with model UnobservedComponents in generation 3 of 10\n",
      "Model Number: 461 with model SeasonalNaive in generation 3 of 10\n",
      "Model Number: 462 with model MultivariateRegression in generation 3 of 10\n",
      "Template Eval Error: ValueError(\"regression_type='User' but not future_regressor supplied.\") in model 462 in generation 3: MultivariateRegression\n",
      "Model Number: 463 with model AverageValueNaive in generation 3 of 10\n",
      "Model Number: 464 with model GLS in generation 3 of 10\n",
      "Model Number: 465 with model ConstantNaive in generation 3 of 10\n",
      "Model Number: 466 with model NVAR in generation 3 of 10\n",
      "Model Number: 467 with model UnivariateMotif in generation 3 of 10\n",
      "Model Number: 468 with model GLS in generation 3 of 10\n",
      "Model Number: 469 with model FBProphet in generation 3 of 10\n"
     ]
    },
    {
     "name": "stderr",
     "output_type": "stream",
     "text": [
      "/usr/local/lib/python3.7/site-packages/sklearn/linear_model/_ridge.py:157: LinAlgWarning: Ill-conditioned matrix (rcond=3.81215e-25): result may not be accurate.\n",
      "  return linalg.solve(A, Xy, sym_pos=True, overwrite_a=True).T\n",
      "INFO:prophet:Disabling yearly seasonality. Run prophet with yearly_seasonality=True to override this.\n",
      "INFO:prophet:Disabling daily seasonality. Run prophet with daily_seasonality=True to override this.\n",
      "INFO:cmdstanpy:start chain 1\n",
      "INFO:cmdstanpy:finish chain 1\n"
     ]
    },
    {
     "name": "stdout",
     "output_type": "stream",
     "text": [
      "Model Number: 470 with model AverageValueNaive in generation 3 of 10\n",
      "Model Number: 471 with model WindowRegression in generation 3 of 10\n",
      "Model Number: 472 with model ConstantNaive in generation 3 of 10\n",
      "Model Number: 473 with model SectionalMotif in generation 3 of 10\n",
      "Template Eval Error: ValueError('kth(=20) out of bounds (16)') in model 473 in generation 3: SectionalMotif\n",
      "Model Number: 474 with model LastValueNaive in generation 3 of 10\n",
      "Model Number: 475 with model ConstantNaive in generation 3 of 10\n",
      "Model Number: 476 with model LastValueNaive in generation 3 of 10\n",
      "Model Number: 477 with model FBProphet in generation 3 of 10\n"
     ]
    },
    {
     "name": "stderr",
     "output_type": "stream",
     "text": [
      "INFO:prophet:Disabling yearly seasonality. Run prophet with yearly_seasonality=True to override this.\n",
      "INFO:prophet:Disabling daily seasonality. Run prophet with daily_seasonality=True to override this.\n",
      "INFO:cmdstanpy:start chain 1\n",
      "INFO:cmdstanpy:finish chain 1\n"
     ]
    },
    {
     "name": "stdout",
     "output_type": "stream",
     "text": [
      "Model Number: 478 with model MultivariateMotif in generation 3 of 10\n",
      "Model Number: 479 with model LastValueNaive in generation 3 of 10\n",
      "Model Number: 480 with model NVAR in generation 3 of 10\n",
      "Model Number: 481 with model UnobservedComponents in generation 3 of 10\n",
      "Model Number: 482 with model SeasonalNaive in generation 3 of 10\n",
      "Model Number: 483 with model MetricMotif in generation 3 of 10\n",
      "Model Number: 484 with model ETS in generation 3 of 10\n",
      "ETS error TypeError(\"__init__() got an unexpected keyword argument 'damped_trend'\")\n",
      "ETS failed on Close with ValueError('endog must be strictly positive when usingmultiplicative trend or seasonal components.')\n",
      "Model Number: 485 with model MultivariateRegression in generation 3 of 10\n",
      "Model Number: 486 with model NVAR in generation 3 of 10\n",
      "Template Eval Error: Exception('Transformer AlignLastValue failed on inverse') in model 486 in generation 3: NVAR\n",
      "Model Number: 487 with model AverageValueNaive in generation 3 of 10\n",
      "Model Number: 488 with model DatepartRegression in generation 3 of 10\n",
      "Template Eval Error: ValueError(\"regression_type='User' but no future_regressor passed\") in model 488 in generation 3: DatepartRegression\n",
      "Model Number: 489 with model NVAR in generation 3 of 10\n",
      "Model Number: 490 with model UnivariateMotif in generation 3 of 10\n",
      "Model Number: 491 with model DatepartRegression in generation 3 of 10\n",
      "Model Number: 492 with model MetricMotif in generation 3 of 10\n",
      "Model Number: 493 with model MultivariateRegression in generation 3 of 10\n",
      "Model Number: 494 with model NVAR in generation 3 of 10\n",
      "Model Number: 495 with model SectionalMotif in generation 3 of 10\n",
      "Model Number: 496 with model MultivariateMotif in generation 3 of 10\n",
      "Model Number: 497 with model SectionalMotif in generation 3 of 10\n",
      "Model Number: 498 with model LastValueNaive in generation 3 of 10\n",
      "Model Number: 499 with model GLM in generation 3 of 10\n",
      "Template Eval Error: ValueError('The first guess on the deviance function returned a nan.  This could be a boundary  problem and should be reported.') in model 499 in generation 3: GLM\n",
      "Model Number: 500 with model NVAR in generation 3 of 10\n",
      "Model Number: 501 with model NVAR in generation 3 of 10\n",
      "Model Number: 502 with model AverageValueNaive in generation 3 of 10\n",
      "Model Number: 503 with model GLS in generation 3 of 10\n"
     ]
    },
    {
     "name": "stderr",
     "output_type": "stream",
     "text": [
      "/usr/local/lib/python3.7/site-packages/statsmodels/genmod/families/family.py:1230: RuntimeWarning: invalid value encountered in log\n",
      "  resid_dev -= endog_alpha * np.log(endog_alpha / mu_alpha)\n"
     ]
    },
    {
     "name": "stdout",
     "output_type": "stream",
     "text": [
      "Model Number: 504 with model UnobservedComponents in generation 3 of 10\n",
      "Model Number: 505 with model GLS in generation 3 of 10\n",
      "Model Number: 506 with model UnivariateMotif in generation 3 of 10\n",
      "Model Number: 507 with model ConstantNaive in generation 3 of 10\n",
      "Model Number: 508 with model ETS in generation 3 of 10\n",
      "ETS error TypeError(\"__init__() got an unexpected keyword argument 'damped_trend'\")\n",
      "ETS failed on Close with ValueError('endog must be strictly positive when usingmultiplicative trend or seasonal components.')\n",
      "Model Number: 509 with model ETS in generation 3 of 10\n",
      "ETS error TypeError(\"__init__() got an unexpected keyword argument 'damped_trend'\")\n",
      "ETS failed on Close with ValueError('endog must be strictly positive when usingmultiplicative trend or seasonal components.')\n"
     ]
    },
    {
     "name": "stderr",
     "output_type": "stream",
     "text": [
      "INFO:prophet:Disabling yearly seasonality. Run prophet with yearly_seasonality=True to override this.\n",
      "INFO:prophet:Disabling daily seasonality. Run prophet with daily_seasonality=True to override this.\n",
      "INFO:cmdstanpy:start chain 1\n",
      "INFO:cmdstanpy:finish chain 1\n"
     ]
    },
    {
     "name": "stdout",
     "output_type": "stream",
     "text": [
      "Model Number: 510 with model FBProphet in generation 3 of 10\n",
      "Model Number: 511 with model GLM in generation 3 of 10\n"
     ]
    },
    {
     "name": "stderr",
     "output_type": "stream",
     "text": [
      "/usr/local/lib/python3.7/site-packages/statsmodels/genmod/families/family.py:1230: RuntimeWarning: invalid value encountered in log\n",
      "  resid_dev -= endog_alpha * np.log(endog_alpha / mu_alpha)\n"
     ]
    },
    {
     "name": "stdout",
     "output_type": "stream",
     "text": [
      "Template Eval Error: ValueError('The first guess on the deviance function returned a nan.  This could be a boundary  problem and should be reported.') in model 511 in generation 3: GLM\n",
      "Model Number: 512 with model ConstantNaive in generation 3 of 10\n"
     ]
    },
    {
     "name": "stderr",
     "output_type": "stream",
     "text": [
      "INFO:prophet:Disabling yearly seasonality. Run prophet with yearly_seasonality=True to override this.\n",
      "INFO:prophet:Disabling daily seasonality. Run prophet with daily_seasonality=True to override this.\n",
      "INFO:cmdstanpy:start chain 1\n",
      "INFO:cmdstanpy:finish chain 1\n"
     ]
    },
    {
     "name": "stdout",
     "output_type": "stream",
     "text": [
      "Model Number: 513 with model FBProphet in generation 3 of 10\n",
      "No anomalies detected.\n",
      "Model Number: 514 with model LastValueNaive in generation 3 of 10\n",
      "Model Number: 515 with model NVAR in generation 3 of 10\n",
      "Model Number: 516 with model ConstantNaive in generation 3 of 10\n",
      "Template Eval Error: ValueError(\"Model returned NaN due to a preprocessing transformer {'fillna': 'ffill', 'transformations': {'0': 'AlignLastValue', '1': 'AlignLastValue', '2': 'AlignLastValue', '3': 'bkfilter'}, 'transformation_params': {'0': {'rows': 1, 'lag': 1, 'method': 'additive', 'strength': 0.9, 'first_value_only': False}, '1': {'rows': 1, 'lag': 1, 'method': 'additive', 'strength': 0.2, 'first_value_only': False}, '2': {'rows': 1, 'lag': 1, 'method': 'multiplicative', 'strength': 0.5, 'first_value_only': False}, '3': {}}}. fail_on_forecast_nan=True\") in model 516 in generation 3: ConstantNaive\n",
      "Model Number: 517 with model WindowRegression in generation 3 of 10\n",
      "Template Eval Error: ValueError('Some value(s) of y are out of the valid range for family PoissonDistribution') in model 517 in generation 3: WindowRegression\n",
      "Model Number: 518 with model WindowRegression in generation 3 of 10\n"
     ]
    },
    {
     "name": "stderr",
     "output_type": "stream",
     "text": [
      "/usr/local/lib/python3.7/site-packages/sklearn/neural_network/_multilayer_perceptron.py:549: ConvergenceWarning: lbfgs failed to converge (status=1):\n",
      "STOP: TOTAL NO. of ITERATIONS REACHED LIMIT.\n",
      "\n",
      "Increase the number of iterations (max_iter) or scale the data as shown in:\n",
      "    https://scikit-learn.org/stable/modules/preprocessing.html\n",
      "  self.n_iter_ = _check_optimize_result(\"lbfgs\", opt_res, self.max_iter)\n"
     ]
    },
    {
     "name": "stdout",
     "output_type": "stream",
     "text": [
      "Model Number: 519 with model ConstantNaive in generation 3 of 10\n",
      "Model Number: 520 with model NVAR in generation 3 of 10\n",
      "Model Number: 521 with model DatepartRegression in generation 3 of 10\n",
      "Model Number: 522 with model AverageValueNaive in generation 3 of 10\n",
      "Model Number: 523 with model SectionalMotif in generation 3 of 10\n",
      "Model Number: 524 with model ConstantNaive in generation 3 of 10\n",
      "Model Number: 525 with model UnivariateMotif in generation 3 of 10\n",
      "Model Number: 526 with model LastValueNaive in generation 3 of 10\n",
      "Model Number: 527 with model MultivariateRegression in generation 3 of 10\n"
     ]
    },
    {
     "name": "stderr",
     "output_type": "stream",
     "text": [
      "INFO:prophet:Disabling yearly seasonality. Run prophet with yearly_seasonality=True to override this.\n",
      "INFO:prophet:Disabling daily seasonality. Run prophet with daily_seasonality=True to override this.\n",
      "INFO:cmdstanpy:start chain 1\n"
     ]
    },
    {
     "name": "stdout",
     "output_type": "stream",
     "text": [
      "Model Number: 528 with model FBProphet in generation 3 of 10\n"
     ]
    },
    {
     "name": "stderr",
     "output_type": "stream",
     "text": [
      "INFO:cmdstanpy:finish chain 1\n"
     ]
    },
    {
     "name": "stdout",
     "output_type": "stream",
     "text": [
      "Model Number: 529 with model UnobservedComponents in generation 3 of 10\n",
      "Template Eval Error: LinAlgError('LU decomposition error.') in model 529 in generation 3: UnobservedComponents\n",
      "Model Number: 530 with model ETS in generation 3 of 10\n",
      "Template Eval Error: Exception('Transformer Cointegration failed on fit') in model 530 in generation 3: ETS\n",
      "Model Number: 531 with model GLS in generation 3 of 10\n",
      "Model Number: 532 with model ARIMA in generation 3 of 10\n",
      "Model Number: 533 with model ARIMA in generation 3 of 10\n",
      "Model Number: 534 with model UnobservedComponents in generation 3 of 10\n",
      "Template Eval Error: Exception('Transformer BTCD failed on fit') in model 534 in generation 3: UnobservedComponents\n",
      "Model Number: 535 with model SeasonalNaive in generation 3 of 10\n"
     ]
    },
    {
     "name": "stderr",
     "output_type": "stream",
     "text": [
      "INFO:prophet:Disabling yearly seasonality. Run prophet with yearly_seasonality=True to override this.\n",
      "INFO:prophet:Disabling daily seasonality. Run prophet with daily_seasonality=True to override this.\n",
      "INFO:cmdstanpy:start chain 1\n",
      "INFO:cmdstanpy:finish chain 1\n"
     ]
    },
    {
     "name": "stdout",
     "output_type": "stream",
     "text": [
      "Model Number: 536 with model FBProphet in generation 3 of 10\n",
      "Model Number: 537 with model FBProphet in generation 3 of 10\n",
      "Template Eval Error: ValueError(\"regression_type='User' but no future_regressor passed\") in model 537 in generation 3: FBProphet\n",
      "Model Number: 538 with model MultivariateMotif in generation 3 of 10\n",
      "Model Number: 539 with model GLM in generation 3 of 10\n",
      "Template Eval Error: ValueError('The first guess on the deviance function returned a nan.  This could be a boundary  problem and should be reported.') in model 539 in generation 3: GLM\n",
      "Model Number: 540 with model MultivariateMotif in generation 3 of 10\n",
      "Model Number: 541 with model UnivariateRegression in generation 3 of 10\n",
      "Template Eval Error: ValueError(\"regression_type='User' but not future_regressor supplied.\") in model 541 in generation 3: UnivariateRegression\n",
      "Model Number: 542 with model SeasonalNaive in generation 3 of 10\n"
     ]
    },
    {
     "name": "stderr",
     "output_type": "stream",
     "text": [
      "/usr/local/lib/python3.7/site-packages/statsmodels/genmod/families/family.py:1443: RuntimeWarning: invalid value encountered in log\n",
      "  endog * np.log(endog / mu) + (mu - endog))\n"
     ]
    },
    {
     "name": "stdout",
     "output_type": "stream",
     "text": [
      "Model Number: 543 with model MultivariateMotif in generation 3 of 10\n",
      "Model Number: 544 with model UnobservedComponents in generation 3 of 10\n",
      "Model Number: 545 with model LastValueNaive in generation 3 of 10\n",
      "Model Number: 546 with model AverageValueNaive in generation 3 of 10\n",
      "Model Number: 547 with model MetricMotif in generation 3 of 10\n",
      "Model Number: 548 with model LastValueNaive in generation 3 of 10\n",
      "Model Number: 549 with model NVAR in generation 3 of 10\n",
      "Model Number: 550 with model WindowRegression in generation 3 of 10\n",
      "Model Number: 551 with model MetricMotif in generation 3 of 10\n",
      "Model Number: 552 with model GLS in generation 3 of 10\n",
      "Model Number: 553 with model UnobservedComponents in generation 3 of 10\n",
      "Model Number: 554 with model MultivariateRegression in generation 3 of 10\n",
      "Template Eval Error: ValueError(\"regression_type='User' but not future_regressor supplied.\") in model 554 in generation 3: MultivariateRegression\n",
      "Model Number: 555 with model UnobservedComponents in generation 3 of 10\n",
      "Model Number: 556 with model SeasonalNaive in generation 3 of 10\n",
      "Model Number: 557 with model ARIMA in generation 3 of 10\n"
     ]
    },
    {
     "name": "stderr",
     "output_type": "stream",
     "text": [
      "/home/labsuser/.local/lib/python3.7/site-packages/autots/tools/transform.py:764: RuntimeWarning: overflow encountered in exp\n",
      "  df = pd.DataFrame(np.exp(df))\n"
     ]
    },
    {
     "name": "stdout",
     "output_type": "stream",
     "text": [
      "Model Number: 558 with model UnivariateRegression in generation 3 of 10\n",
      "Model Number: 559 with model SeasonalNaive in generation 3 of 10\n",
      "Model Number: 560 with model MultivariateRegression in generation 3 of 10\n",
      "Model Number: 561 with model ETS in generation 3 of 10\n",
      "ETS error TypeError(\"__init__() got an unexpected keyword argument 'damped_trend'\")\n",
      "ETS failed on Close with ValueError('endog must be strictly positive when usingmultiplicative trend or seasonal components.')\n",
      "New Generation: 4 of 10\n",
      "Model Number: 562 with model ETS in generation 4 of 10\n",
      "ETS error TypeError(\"__init__() got an unexpected keyword argument 'damped_trend'\")\n",
      "Model Number: 563 with model LastValueNaive in generation 4 of 10\n",
      "Model Number: 564 with model SectionalMotif in generation 4 of 10\n"
     ]
    },
    {
     "name": "stderr",
     "output_type": "stream",
     "text": [
      "INFO:prophet:Disabling yearly seasonality. Run prophet with yearly_seasonality=True to override this.\n",
      "INFO:prophet:Disabling daily seasonality. Run prophet with daily_seasonality=True to override this.\n"
     ]
    },
    {
     "name": "stdout",
     "output_type": "stream",
     "text": [
      "Model Number: 565 with model WindowRegression in generation 4 of 10\n",
      "Template Eval Error: ValueError('Some value(s) of y are out of the valid range for family PoissonDistribution') in model 565 in generation 4: WindowRegression\n",
      "Model Number: 566 with model FBProphet in generation 4 of 10\n",
      "No anomalies detected.\n"
     ]
    },
    {
     "name": "stderr",
     "output_type": "stream",
     "text": [
      "INFO:cmdstanpy:start chain 1\n",
      "INFO:cmdstanpy:finish chain 1\n"
     ]
    },
    {
     "name": "stdout",
     "output_type": "stream",
     "text": [
      "Template Eval Error: Exception('Transformer AlignLastValue failed on inverse') in model 566 in generation 4: FBProphet\n",
      "Model Number: 567 with model MetricMotif in generation 4 of 10\n",
      "Model Number: 568 with model WindowRegression in generation 4 of 10\n",
      "Model Number: 569 with model WindowRegression in generation 4 of 10\n"
     ]
    },
    {
     "name": "stderr",
     "output_type": "stream",
     "text": [
      "/usr/local/lib/python3.7/site-packages/sklearn/experimental/enable_hist_gradient_boosting.py:17: UserWarning: Since version 1.0, it is not needed to import enable_hist_gradient_boosting anymore. HistGradientBoostingClassifier and HistGradientBoostingRegressor are now stable and can be normally imported from sklearn.ensemble.\n",
      "  \"Since version 1.0, \"\n"
     ]
    },
    {
     "name": "stdout",
     "output_type": "stream",
     "text": [
      "Model Number: 570 with model NVAR in generation 4 of 10\n",
      "Model Number: 571 with model ETS in generation 4 of 10\n",
      "ETS error TypeError(\"__init__() got an unexpected keyword argument 'damped_trend'\")\n",
      "ETS failed on Close with ValueError('endog must be strictly positive when usingmultiplicative trend or seasonal components.')\n",
      "Model Number: 572 with model NVAR in generation 4 of 10\n",
      "Model Number: 573 with model LastValueNaive in generation 4 of 10\n",
      "Model Number: 574 with model LastValueNaive in generation 4 of 10\n"
     ]
    },
    {
     "name": "stderr",
     "output_type": "stream",
     "text": [
      "INFO:prophet:Disabling yearly seasonality. Run prophet with yearly_seasonality=True to override this.\n",
      "INFO:prophet:Disabling daily seasonality. Run prophet with daily_seasonality=True to override this.\n",
      "INFO:cmdstanpy:start chain 1\n",
      "INFO:cmdstanpy:finish chain 1\n"
     ]
    },
    {
     "name": "stdout",
     "output_type": "stream",
     "text": [
      "Model Number: 575 with model FBProphet in generation 4 of 10\n",
      "No anomalies detected.\n",
      "Model Number: 576 with model ARIMA in generation 4 of 10\n",
      "Model Number: 577 with model MetricMotif in generation 4 of 10\n",
      "Model Number: 578 with model UnobservedComponents in generation 4 of 10\n",
      "Model Number: 579 with model MetricMotif in generation 4 of 10\n",
      "Model Number: 580 with model SectionalMotif in generation 4 of 10\n",
      "Template Eval Error: Exception('Transformer Detrend failed on fit') in model 580 in generation 4: SectionalMotif\n",
      "Model Number: 581 with model ConstantNaive in generation 4 of 10\n",
      "Model Number: 582 with model LastValueNaive in generation 4 of 10\n",
      "Model Number: 583 with model ETS in generation 4 of 10\n",
      "ETS error TypeError(\"__init__() got an unexpected keyword argument 'damped_trend'\")\n",
      "ETS failed on Close with ValueError('endog must be strictly positive when usingmultiplicative trend or seasonal components.')\n",
      "Model Number: 584 with model MultivariateMotif in generation 4 of 10\n"
     ]
    },
    {
     "name": "stderr",
     "output_type": "stream",
     "text": [
      "/usr/local/lib/python3.7/site-packages/sklearn/base.py:451: UserWarning: X does not have valid feature names, but MLPRegressor was fitted with feature names\n",
      "  \"X does not have valid feature names, but\"\n",
      "/usr/local/lib/python3.7/site-packages/sklearn/base.py:451: UserWarning: X does not have valid feature names, but MLPRegressor was fitted with feature names\n",
      "  \"X does not have valid feature names, but\"\n",
      "/usr/local/lib/python3.7/site-packages/sklearn/base.py:451: UserWarning: X does not have valid feature names, but MLPRegressor was fitted with feature names\n",
      "  \"X does not have valid feature names, but\"\n",
      "/usr/local/lib/python3.7/site-packages/sklearn/base.py:451: UserWarning: X does not have valid feature names, but MLPRegressor was fitted with feature names\n",
      "  \"X does not have valid feature names, but\"\n",
      "/usr/local/lib/python3.7/site-packages/sklearn/base.py:451: UserWarning: X does not have valid feature names, but MLPRegressor was fitted with feature names\n",
      "  \"X does not have valid feature names, but\"\n",
      "/usr/local/lib/python3.7/site-packages/sklearn/base.py:451: UserWarning: X does not have valid feature names, but MLPRegressor was fitted with feature names\n",
      "  \"X does not have valid feature names, but\"\n",
      "/usr/local/lib/python3.7/site-packages/sklearn/base.py:451: UserWarning: X does not have valid feature names, but MLPRegressor was fitted with feature names\n",
      "  \"X does not have valid feature names, but\"\n",
      "/usr/local/lib/python3.7/site-packages/sklearn/base.py:451: UserWarning: X does not have valid feature names, but MLPRegressor was fitted with feature names\n",
      "  \"X does not have valid feature names, but\"\n",
      "/usr/local/lib/python3.7/site-packages/sklearn/base.py:451: UserWarning: X does not have valid feature names, but MLPRegressor was fitted with feature names\n",
      "  \"X does not have valid feature names, but\"\n",
      "/usr/local/lib/python3.7/site-packages/sklearn/base.py:451: UserWarning: X does not have valid feature names, but MLPRegressor was fitted with feature names\n",
      "  \"X does not have valid feature names, but\"\n",
      "/usr/local/lib/python3.7/site-packages/sklearn/base.py:451: UserWarning: X does not have valid feature names, but MLPRegressor was fitted with feature names\n",
      "  \"X does not have valid feature names, but\"\n",
      "/usr/local/lib/python3.7/site-packages/sklearn/base.py:451: UserWarning: X does not have valid feature names, but MLPRegressor was fitted with feature names\n",
      "  \"X does not have valid feature names, but\"\n",
      "/usr/local/lib/python3.7/site-packages/sklearn/base.py:451: UserWarning: X does not have valid feature names, but MLPRegressor was fitted with feature names\n",
      "  \"X does not have valid feature names, but\"\n",
      "/usr/local/lib/python3.7/site-packages/sklearn/base.py:451: UserWarning: X does not have valid feature names, but MLPRegressor was fitted with feature names\n",
      "  \"X does not have valid feature names, but\"\n",
      "/usr/local/lib/python3.7/site-packages/sklearn/base.py:451: UserWarning: X does not have valid feature names, but MLPRegressor was fitted with feature names\n",
      "  \"X does not have valid feature names, but\"\n",
      "/usr/local/lib/python3.7/site-packages/sklearn/base.py:451: UserWarning: X does not have valid feature names, but MLPRegressor was fitted with feature names\n",
      "  \"X does not have valid feature names, but\"\n",
      "/usr/local/lib/python3.7/site-packages/sklearn/base.py:451: UserWarning: X does not have valid feature names, but MLPRegressor was fitted with feature names\n",
      "  \"X does not have valid feature names, but\"\n",
      "/usr/local/lib/python3.7/site-packages/sklearn/base.py:451: UserWarning: X does not have valid feature names, but MLPRegressor was fitted with feature names\n",
      "  \"X does not have valid feature names, but\"\n",
      "/usr/local/lib/python3.7/site-packages/sklearn/base.py:451: UserWarning: X does not have valid feature names, but MLPRegressor was fitted with feature names\n",
      "  \"X does not have valid feature names, but\"\n",
      "/usr/local/lib/python3.7/site-packages/sklearn/base.py:451: UserWarning: X does not have valid feature names, but MLPRegressor was fitted with feature names\n",
      "  \"X does not have valid feature names, but\"\n",
      "/usr/local/lib/python3.7/site-packages/sklearn/base.py:451: UserWarning: X does not have valid feature names, but MLPRegressor was fitted with feature names\n",
      "  \"X does not have valid feature names, but\"\n",
      "/usr/local/lib/python3.7/site-packages/sklearn/base.py:451: UserWarning: X does not have valid feature names, but MLPRegressor was fitted with feature names\n",
      "  \"X does not have valid feature names, but\"\n",
      "/usr/local/lib/python3.7/site-packages/sklearn/base.py:451: UserWarning: X does not have valid feature names, but MLPRegressor was fitted with feature names\n",
      "  \"X does not have valid feature names, but\"\n",
      "/usr/local/lib/python3.7/site-packages/sklearn/base.py:451: UserWarning: X does not have valid feature names, but MLPRegressor was fitted with feature names\n",
      "  \"X does not have valid feature names, but\"\n",
      "/usr/local/lib/python3.7/site-packages/sklearn/base.py:451: UserWarning: X does not have valid feature names, but MLPRegressor was fitted with feature names\n",
      "  \"X does not have valid feature names, but\"\n",
      "/usr/local/lib/python3.7/site-packages/sklearn/base.py:451: UserWarning: X does not have valid feature names, but MLPRegressor was fitted with feature names\n",
      "  \"X does not have valid feature names, but\"\n",
      "/usr/local/lib/python3.7/site-packages/sklearn/base.py:451: UserWarning: X does not have valid feature names, but MLPRegressor was fitted with feature names\n",
      "  \"X does not have valid feature names, but\"\n",
      "/usr/local/lib/python3.7/site-packages/sklearn/base.py:451: UserWarning: X does not have valid feature names, but MLPRegressor was fitted with feature names\n",
      "  \"X does not have valid feature names, but\"\n",
      "/usr/local/lib/python3.7/site-packages/sklearn/base.py:451: UserWarning: X does not have valid feature names, but MLPRegressor was fitted with feature names\n",
      "  \"X does not have valid feature names, but\"\n",
      "/usr/local/lib/python3.7/site-packages/sklearn/base.py:451: UserWarning: X does not have valid feature names, but MLPRegressor was fitted with feature names\n",
      "  \"X does not have valid feature names, but\"\n",
      "/usr/local/lib/python3.7/site-packages/sklearn/base.py:451: UserWarning: X does not have valid feature names, but MLPRegressor was fitted with feature names\n",
      "  \"X does not have valid feature names, but\"\n",
      "/usr/local/lib/python3.7/site-packages/sklearn/base.py:451: UserWarning: X does not have valid feature names, but MLPRegressor was fitted with feature names\n",
      "  \"X does not have valid feature names, but\"\n",
      "/usr/local/lib/python3.7/site-packages/sklearn/base.py:451: UserWarning: X does not have valid feature names, but MLPRegressor was fitted with feature names\n",
      "  \"X does not have valid feature names, but\"\n",
      "/usr/local/lib/python3.7/site-packages/sklearn/base.py:451: UserWarning: X does not have valid feature names, but MLPRegressor was fitted with feature names\n",
      "  \"X does not have valid feature names, but\"\n",
      "/usr/local/lib/python3.7/site-packages/sklearn/base.py:451: UserWarning: X does not have valid feature names, but MLPRegressor was fitted with feature names\n",
      "  \"X does not have valid feature names, but\"\n",
      "/usr/local/lib/python3.7/site-packages/sklearn/base.py:451: UserWarning: X does not have valid feature names, but MLPRegressor was fitted with feature names\n",
      "  \"X does not have valid feature names, but\"\n",
      "/usr/local/lib/python3.7/site-packages/sklearn/base.py:451: UserWarning: X does not have valid feature names, but MLPRegressor was fitted with feature names\n",
      "  \"X does not have valid feature names, but\"\n",
      "/usr/local/lib/python3.7/site-packages/sklearn/base.py:451: UserWarning: X does not have valid feature names, but MLPRegressor was fitted with feature names\n",
      "  \"X does not have valid feature names, but\"\n",
      "/usr/local/lib/python3.7/site-packages/sklearn/base.py:451: UserWarning: X does not have valid feature names, but MLPRegressor was fitted with feature names\n",
      "  \"X does not have valid feature names, but\"\n",
      "/usr/local/lib/python3.7/site-packages/sklearn/base.py:451: UserWarning: X does not have valid feature names, but MLPRegressor was fitted with feature names\n",
      "  \"X does not have valid feature names, but\"\n",
      "/usr/local/lib/python3.7/site-packages/sklearn/base.py:451: UserWarning: X does not have valid feature names, but MLPRegressor was fitted with feature names\n",
      "  \"X does not have valid feature names, but\"\n",
      "/usr/local/lib/python3.7/site-packages/sklearn/base.py:451: UserWarning: X does not have valid feature names, but MLPRegressor was fitted with feature names\n",
      "  \"X does not have valid feature names, but\"\n",
      "/usr/local/lib/python3.7/site-packages/sklearn/base.py:451: UserWarning: X does not have valid feature names, but MLPRegressor was fitted with feature names\n",
      "  \"X does not have valid feature names, but\"\n",
      "/usr/local/lib/python3.7/site-packages/sklearn/base.py:451: UserWarning: X does not have valid feature names, but MLPRegressor was fitted with feature names\n",
      "  \"X does not have valid feature names, but\"\n",
      "/usr/local/lib/python3.7/site-packages/sklearn/base.py:451: UserWarning: X does not have valid feature names, but MLPRegressor was fitted with feature names\n",
      "  \"X does not have valid feature names, but\"\n",
      "/usr/local/lib/python3.7/site-packages/sklearn/base.py:451: UserWarning: X does not have valid feature names, but MLPRegressor was fitted with feature names\n",
      "  \"X does not have valid feature names, but\"\n"
     ]
    },
    {
     "name": "stdout",
     "output_type": "stream",
     "text": [
      "Model Number: 585 with model GLS in generation 4 of 10\n",
      "Model Number: 586 with model SeasonalNaive in generation 4 of 10\n",
      "Model Number: 587 with model ConstantNaive in generation 4 of 10\n",
      "Model Number: 588 with model MultivariateRegression in generation 4 of 10\n",
      "Model Number: 589 with model MultivariateRegression in generation 4 of 10\n",
      "Model Number: 590 with model ConstantNaive in generation 4 of 10\n",
      "Model Number: 591 with model MetricMotif in generation 4 of 10\n",
      "Model Number: 592 with model NVAR in generation 4 of 10\n",
      "Model Number: 593 with model UnobservedComponents in generation 4 of 10\n",
      "Model Number: 594 with model FBProphet in generation 4 of 10\n"
     ]
    },
    {
     "name": "stderr",
     "output_type": "stream",
     "text": [
      "/usr/local/lib/python3.7/site-packages/sklearn/linear_model/_ridge.py:157: LinAlgWarning: Ill-conditioned matrix (rcond=3.81215e-25): result may not be accurate.\n",
      "  return linalg.solve(A, Xy, sym_pos=True, overwrite_a=True).T\n",
      "INFO:prophet:Disabling yearly seasonality. Run prophet with yearly_seasonality=True to override this.\n",
      "INFO:prophet:Disabling daily seasonality. Run prophet with daily_seasonality=True to override this.\n",
      "INFO:cmdstanpy:start chain 1\n",
      "INFO:cmdstanpy:finish chain 1\n"
     ]
    },
    {
     "name": "stdout",
     "output_type": "stream",
     "text": [
      "Model Number: 595 with model SeasonalNaive in generation 4 of 10\n",
      "Model Number: 596 with model NVAR in generation 4 of 10\n",
      "Model Number: 597 with model SeasonalNaive in generation 4 of 10\n",
      "Model Number: 598 with model AverageValueNaive in generation 4 of 10\n",
      "Model Number: 599 with model MultivariateMotif in generation 4 of 10\n",
      "Model Number: 600 with model AverageValueNaive in generation 4 of 10\n",
      "Model Number: 601 with model SectionalMotif in generation 4 of 10\n",
      "Model Number: 602 with model AverageValueNaive in generation 4 of 10\n",
      "Model Number: 603 with model UnobservedComponents in generation 4 of 10\n",
      "Model Number: 604 with model NVAR in generation 4 of 10\n",
      "Model Number: 605 with model AverageValueNaive in generation 4 of 10\n",
      "Model Number: 606 with model NVAR in generation 4 of 10\n",
      "Model Number: 607 with model SectionalMotif in generation 4 of 10\n",
      "Model Number: 608 with model FBProphet in generation 4 of 10\n",
      "No anomalies detected.\n"
     ]
    },
    {
     "name": "stderr",
     "output_type": "stream",
     "text": [
      "INFO:prophet:Disabling yearly seasonality. Run prophet with yearly_seasonality=True to override this.\n",
      "INFO:prophet:Disabling daily seasonality. Run prophet with daily_seasonality=True to override this.\n",
      "INFO:cmdstanpy:start chain 1\n",
      "INFO:cmdstanpy:finish chain 1\n"
     ]
    },
    {
     "name": "stdout",
     "output_type": "stream",
     "text": [
      "Model Number: 609 with model AverageValueNaive in generation 4 of 10\n"
     ]
    },
    {
     "name": "stderr",
     "output_type": "stream",
     "text": [
      "/usr/local/lib/python3.7/site-packages/statsmodels/genmod/generalized_linear_model.py:278: DomainWarning: The inverse_power link function does not respect the domain of the Gamma family.\n",
      "  DomainWarning)\n"
     ]
    },
    {
     "name": "stdout",
     "output_type": "stream",
     "text": [
      "Model Number: 610 with model GLM in generation 4 of 10\n",
      "Model Number: 611 with model UnobservedComponents in generation 4 of 10\n",
      "Model Number: 612 with model AverageValueNaive in generation 4 of 10\n",
      "Model Number: 613 with model ETS in generation 4 of 10\n",
      "ETS error TypeError(\"__init__() got an unexpected keyword argument 'damped_trend'\")\n",
      "Model Number: 614 with model DatepartRegression in generation 4 of 10\n"
     ]
    },
    {
     "name": "stderr",
     "output_type": "stream",
     "text": [
      "/usr/local/lib/python3.7/site-packages/sklearn/base.py:451: UserWarning: X does not have valid feature names, but MLPRegressor was fitted with feature names\n",
      "  \"X does not have valid feature names, but\"\n",
      "/usr/local/lib/python3.7/site-packages/sklearn/base.py:451: UserWarning: X does not have valid feature names, but MLPRegressor was fitted with feature names\n",
      "  \"X does not have valid feature names, but\"\n",
      "/usr/local/lib/python3.7/site-packages/sklearn/base.py:451: UserWarning: X does not have valid feature names, but MLPRegressor was fitted with feature names\n",
      "  \"X does not have valid feature names, but\"\n",
      "/usr/local/lib/python3.7/site-packages/sklearn/base.py:451: UserWarning: X does not have valid feature names, but MLPRegressor was fitted with feature names\n",
      "  \"X does not have valid feature names, but\"\n",
      "/usr/local/lib/python3.7/site-packages/sklearn/base.py:451: UserWarning: X does not have valid feature names, but MLPRegressor was fitted with feature names\n",
      "  \"X does not have valid feature names, but\"\n",
      "/usr/local/lib/python3.7/site-packages/sklearn/base.py:451: UserWarning: X does not have valid feature names, but MLPRegressor was fitted with feature names\n",
      "  \"X does not have valid feature names, but\"\n",
      "/usr/local/lib/python3.7/site-packages/sklearn/base.py:451: UserWarning: X does not have valid feature names, but MLPRegressor was fitted with feature names\n",
      "  \"X does not have valid feature names, but\"\n",
      "/usr/local/lib/python3.7/site-packages/sklearn/base.py:451: UserWarning: X does not have valid feature names, but MLPRegressor was fitted with feature names\n",
      "  \"X does not have valid feature names, but\"\n",
      "/usr/local/lib/python3.7/site-packages/sklearn/base.py:451: UserWarning: X does not have valid feature names, but MLPRegressor was fitted with feature names\n",
      "  \"X does not have valid feature names, but\"\n",
      "/usr/local/lib/python3.7/site-packages/sklearn/base.py:451: UserWarning: X does not have valid feature names, but MLPRegressor was fitted with feature names\n",
      "  \"X does not have valid feature names, but\"\n",
      "/usr/local/lib/python3.7/site-packages/sklearn/base.py:451: UserWarning: X does not have valid feature names, but MLPRegressor was fitted with feature names\n",
      "  \"X does not have valid feature names, but\"\n",
      "/usr/local/lib/python3.7/site-packages/sklearn/base.py:451: UserWarning: X does not have valid feature names, but MLPRegressor was fitted with feature names\n",
      "  \"X does not have valid feature names, but\"\n",
      "/usr/local/lib/python3.7/site-packages/sklearn/base.py:451: UserWarning: X does not have valid feature names, but MLPRegressor was fitted with feature names\n",
      "  \"X does not have valid feature names, but\"\n",
      "/usr/local/lib/python3.7/site-packages/sklearn/base.py:451: UserWarning: X does not have valid feature names, but MLPRegressor was fitted with feature names\n",
      "  \"X does not have valid feature names, but\"\n",
      "/usr/local/lib/python3.7/site-packages/sklearn/base.py:451: UserWarning: X does not have valid feature names, but MLPRegressor was fitted with feature names\n",
      "  \"X does not have valid feature names, but\"\n",
      "/usr/local/lib/python3.7/site-packages/sklearn/base.py:451: UserWarning: X does not have valid feature names, but MLPRegressor was fitted with feature names\n",
      "  \"X does not have valid feature names, but\"\n",
      "/usr/local/lib/python3.7/site-packages/sklearn/base.py:451: UserWarning: X does not have valid feature names, but MLPRegressor was fitted with feature names\n",
      "  \"X does not have valid feature names, but\"\n",
      "/usr/local/lib/python3.7/site-packages/sklearn/base.py:451: UserWarning: X does not have valid feature names, but MLPRegressor was fitted with feature names\n",
      "  \"X does not have valid feature names, but\"\n",
      "/usr/local/lib/python3.7/site-packages/sklearn/base.py:451: UserWarning: X does not have valid feature names, but MLPRegressor was fitted with feature names\n",
      "  \"X does not have valid feature names, but\"\n",
      "/usr/local/lib/python3.7/site-packages/sklearn/base.py:451: UserWarning: X does not have valid feature names, but MLPRegressor was fitted with feature names\n",
      "  \"X does not have valid feature names, but\"\n",
      "/usr/local/lib/python3.7/site-packages/sklearn/base.py:451: UserWarning: X does not have valid feature names, but MLPRegressor was fitted with feature names\n",
      "  \"X does not have valid feature names, but\"\n"
     ]
    },
    {
     "name": "stdout",
     "output_type": "stream",
     "text": [
      "Model Number: 615 with model UnobservedComponents in generation 4 of 10\n",
      "Template Eval Error: LinAlgError('Non-positive-definite forecast error covariance matrix encountered at period 1') in model 615 in generation 4: UnobservedComponents\n",
      "Model Number: 616 with model ARIMA in generation 4 of 10\n",
      "Model Number: 617 with model ETS in generation 4 of 10\n",
      "ETS error TypeError(\"__init__() got an unexpected keyword argument 'damped_trend'\")\n",
      "Model Number: 618 with model ConstantNaive in generation 4 of 10\n",
      "Model Number: 619 with model GLS in generation 4 of 10\n"
     ]
    },
    {
     "name": "stderr",
     "output_type": "stream",
     "text": [
      "INFO:prophet:Disabling yearly seasonality. Run prophet with yearly_seasonality=True to override this.\n",
      "INFO:prophet:Disabling daily seasonality. Run prophet with daily_seasonality=True to override this.\n",
      "INFO:cmdstanpy:start chain 1\n",
      "INFO:cmdstanpy:finish chain 1\n"
     ]
    },
    {
     "name": "stdout",
     "output_type": "stream",
     "text": [
      "Model Number: 620 with model FBProphet in generation 4 of 10\n",
      "Model Number: 621 with model ETS in generation 4 of 10\n",
      "ETS error TypeError(\"__init__() got an unexpected keyword argument 'damped_trend'\")\n",
      "Model Number: 622 with model NVAR in generation 4 of 10\n",
      "Model Number: 623 with model UnobservedComponents in generation 4 of 10\n",
      "Model Number: 624 with model LastValueNaive in generation 4 of 10\n",
      "Model Number: 625 with model MultivariateMotif in generation 4 of 10\n",
      "Template Eval Error: Exception('Transformer AlignLastValue failed on inverse') in model 625 in generation 4: MultivariateMotif\n",
      "Model Number: 626 with model MetricMotif in generation 4 of 10\n",
      "Model Number: 627 with model UnivariateRegression in generation 4 of 10\n"
     ]
    },
    {
     "name": "stderr",
     "output_type": "stream",
     "text": [
      "/usr/local/lib/python3.7/site-packages/sklearn/linear_model/_ridge.py:157: LinAlgWarning: Ill-conditioned matrix (rcond=5.12004e-26): result may not be accurate.\n",
      "  return linalg.solve(A, Xy, sym_pos=True, overwrite_a=True).T\n"
     ]
    },
    {
     "name": "stdout",
     "output_type": "stream",
     "text": [
      "Model Number: 628 with model FBProphet in generation 4 of 10\n"
     ]
    },
    {
     "name": "stderr",
     "output_type": "stream",
     "text": [
      "/usr/local/lib/python3.7/site-packages/sklearn/linear_model/_ridge.py:157: LinAlgWarning: Ill-conditioned matrix (rcond=3.81215e-25): result may not be accurate.\n",
      "  return linalg.solve(A, Xy, sym_pos=True, overwrite_a=True).T\n",
      "INFO:prophet:Disabling yearly seasonality. Run prophet with yearly_seasonality=True to override this.\n",
      "INFO:prophet:Disabling daily seasonality. Run prophet with daily_seasonality=True to override this.\n",
      "INFO:cmdstanpy:start chain 1\n",
      "INFO:cmdstanpy:finish chain 1\n"
     ]
    },
    {
     "name": "stdout",
     "output_type": "stream",
     "text": [
      "Model Number: 629 with model MetricMotif in generation 4 of 10\n",
      "Template Eval Error: Exception('Transformer AlignLastValue failed on inverse') in model 629 in generation 4: MetricMotif\n",
      "Model Number: 630 with model WindowRegression in generation 4 of 10\n",
      "Template Eval Error: ModuleNotFoundError(\"No module named 'lightgbm'\") in model 630 in generation 4: WindowRegression\n",
      "Model Number: 631 with model WindowRegression in generation 4 of 10\n",
      "Model Number: 632 with model SectionalMotif in generation 4 of 10\n",
      "Model Number: 633 with model AverageValueNaive in generation 4 of 10\n",
      "Model Number: 634 with model NVAR in generation 4 of 10\n",
      "Model Number: 635 with model AverageValueNaive in generation 4 of 10\n",
      "Model Number: 636 with model MultivariateRegression in generation 4 of 10\n",
      "Model Number: 637 with model AverageValueNaive in generation 4 of 10\n",
      "Model Number: 638 with model GLM in generation 4 of 10\n",
      "Template Eval Error: ValueError('NaN, inf or invalid value detected in weights, estimation infeasible.') in model 638 in generation 4: GLM\n",
      "Model Number: 639 with model SeasonalNaive in generation 4 of 10\n"
     ]
    },
    {
     "name": "stderr",
     "output_type": "stream",
     "text": [
      "/usr/local/lib/python3.7/site-packages/statsmodels/genmod/families/family.py:1443: RuntimeWarning: invalid value encountered in log\n",
      "  endog * np.log(endog / mu) + (mu - endog))\n",
      "/usr/local/lib/python3.7/site-packages/statsmodels/genmod/families/family.py:1443: RuntimeWarning: divide by zero encountered in true_divide\n",
      "  endog * np.log(endog / mu) + (mu - endog))\n",
      "/usr/local/lib/python3.7/site-packages/statsmodels/genmod/generalized_linear_model.py:774: RuntimeWarning: divide by zero encountered in true_divide\n",
      "  return np.sum(resid / self.family.variance(mu)) / self.df_resid\n",
      "/usr/local/lib/python3.7/site-packages/statsmodels/genmod/families/family.py:134: RuntimeWarning: divide by zero encountered in true_divide\n",
      "  return 1. / (self.link.deriv(mu)**2 * self.variance(mu))\n"
     ]
    },
    {
     "name": "stdout",
     "output_type": "stream",
     "text": [
      "Model Number: 640 with model MultivariateRegression in generation 4 of 10\n",
      "Model Number: 641 with model WindowRegression in generation 4 of 10\n"
     ]
    },
    {
     "name": "stderr",
     "output_type": "stream",
     "text": [
      "/usr/local/lib/python3.7/site-packages/sklearn/neural_network/_multilayer_perceptron.py:549: ConvergenceWarning: lbfgs failed to converge (status=1):\n",
      "STOP: TOTAL NO. of ITERATIONS REACHED LIMIT.\n",
      "\n",
      "Increase the number of iterations (max_iter) or scale the data as shown in:\n",
      "    https://scikit-learn.org/stable/modules/preprocessing.html\n",
      "  self.n_iter_ = _check_optimize_result(\"lbfgs\", opt_res, self.max_iter)\n"
     ]
    },
    {
     "name": "stdout",
     "output_type": "stream",
     "text": [
      "Model Number: 642 with model UnobservedComponents in generation 4 of 10\n",
      "Model Number: 643 with model ConstantNaive in generation 4 of 10\n",
      "Model Number: 644 with model NVAR in generation 4 of 10\n",
      "Model Number: 645 with model NVAR in generation 4 of 10\n",
      "Model Number: 646 with model SeasonalNaive in generation 4 of 10\n",
      "Model Number: 647 with model UnobservedComponents in generation 4 of 10\n",
      "Model Number: 648 with model UnivariateMotif in generation 4 of 10\n",
      "Model Number: 649 with model GLS in generation 4 of 10\n",
      "Model Number: 650 with model MetricMotif in generation 4 of 10\n",
      "Model Number: 651 with model ETS in generation 4 of 10\n",
      "ETS error TypeError(\"__init__() got an unexpected keyword argument 'damped_trend'\")\n",
      "Model Number: 652 with model GLS in generation 4 of 10\n",
      "Model Number: 653 with model UnobservedComponents in generation 4 of 10\n",
      "Model Number: 654 with model ARIMA in generation 4 of 10\n",
      "Model Number: 655 with model AverageValueNaive in generation 4 of 10\n",
      "Model Number: 656 with model UnivariateMotif in generation 4 of 10\n",
      "Model Number: 657 with model NVAR in generation 4 of 10\n",
      "Model Number: 658 with model LastValueNaive in generation 4 of 10\n",
      "Model Number: 659 with model LastValueNaive in generation 4 of 10\n",
      "Model Number: 660 with model NVAR in generation 4 of 10\n",
      "Model Number: 661 with model GLM in generation 4 of 10\n"
     ]
    },
    {
     "name": "stderr",
     "output_type": "stream",
     "text": [
      "/usr/local/lib/python3.7/site-packages/statsmodels/genmod/generalized_linear_model.py:278: DomainWarning: The inverse_power link function does not respect the domain of the Gamma family.\n",
      "  DomainWarning)\n"
     ]
    },
    {
     "name": "stdout",
     "output_type": "stream",
     "text": [
      "Model Number: 662 with model DatepartRegression in generation 4 of 10\n"
     ]
    },
    {
     "name": "stderr",
     "output_type": "stream",
     "text": [
      "/usr/local/lib/python3.7/site-packages/sklearn/svm/_base.py:1208: ConvergenceWarning: Liblinear failed to converge, increase the number of iterations.\n",
      "  ConvergenceWarning,\n"
     ]
    },
    {
     "name": "stdout",
     "output_type": "stream",
     "text": [
      "Model Number: 663 with model ConstantNaive in generation 4 of 10\n",
      "Model Number: 664 with model GLS in generation 4 of 10\n",
      "Model Number: 665 with model GLS in generation 4 of 10\n",
      "Model Number: 666 with model SeasonalNaive in generation 4 of 10\n",
      "Model Number: 667 with model ConstantNaive in generation 4 of 10\n",
      "Model Number: 668 with model SectionalMotif in generation 4 of 10\n",
      "Model Number: 669 with model SectionalMotif in generation 4 of 10\n",
      "Model Number: 670 with model SectionalMotif in generation 4 of 10\n",
      "Template Eval Error: Exception('Transformer Detrend failed on fit') in model 670 in generation 4: SectionalMotif\n",
      "Model Number: 671 with model ARIMA in generation 4 of 10\n",
      "Model Number: 672 with model NVAR in generation 4 of 10\n",
      "Model Number: 673 with model LastValueNaive in generation 4 of 10\n",
      "Model Number: 674 with model LastValueNaive in generation 4 of 10\n",
      "Template Eval Error: Exception('Transformer BTCD failed on fit') in model 674 in generation 4: LastValueNaive\n",
      "Model Number: 675 with model NVAR in generation 4 of 10\n",
      "Template Eval Error: Exception('Transformer AlignLastValue failed on inverse') in model 675 in generation 4: NVAR\n",
      "Model Number: 676 with model SectionalMotif in generation 4 of 10\n",
      "Model Number: 677 with model MultivariateMotif in generation 4 of 10\n",
      "Template Eval Error: Exception('Transformer Cointegration failed on fit') in model 677 in generation 4: MultivariateMotif\n",
      "Model Number: 678 with model FBProphet in generation 4 of 10\n"
     ]
    },
    {
     "name": "stderr",
     "output_type": "stream",
     "text": [
      "/usr/local/lib/python3.7/site-packages/sklearn/linear_model/_ridge.py:157: LinAlgWarning: Ill-conditioned matrix (rcond=3.81215e-25): result may not be accurate.\n",
      "  return linalg.solve(A, Xy, sym_pos=True, overwrite_a=True).T\n",
      "INFO:prophet:Disabling yearly seasonality. Run prophet with yearly_seasonality=True to override this.\n",
      "INFO:prophet:Disabling daily seasonality. Run prophet with daily_seasonality=True to override this.\n",
      "INFO:cmdstanpy:start chain 1\n",
      "INFO:cmdstanpy:finish chain 1\n",
      "INFO:prophet:Disabling yearly seasonality. Run prophet with yearly_seasonality=True to override this.\n",
      "INFO:prophet:Disabling daily seasonality. Run prophet with daily_seasonality=True to override this.\n",
      "INFO:cmdstanpy:start chain 1\n",
      "INFO:cmdstanpy:finish chain 1\n"
     ]
    },
    {
     "name": "stdout",
     "output_type": "stream",
     "text": [
      "Model Number: 679 with model FBProphet in generation 4 of 10\n",
      "Model Number: 680 with model ETS in generation 4 of 10\n",
      "ETS error TypeError(\"__init__() got an unexpected keyword argument 'damped_trend'\")\n",
      "Model Number: 681 with model AverageValueNaive in generation 4 of 10\n",
      "Model Number: 682 with model DatepartRegression in generation 4 of 10\n"
     ]
    },
    {
     "name": "stderr",
     "output_type": "stream",
     "text": [
      "/usr/local/lib/python3.7/site-packages/sklearn/svm/_base.py:1208: ConvergenceWarning: Liblinear failed to converge, increase the number of iterations.\n",
      "  ConvergenceWarning,\n"
     ]
    },
    {
     "name": "stdout",
     "output_type": "stream",
     "text": [
      "Model Number: 683 with model ConstantNaive in generation 4 of 10\n",
      "Model Number: 684 with model AverageValueNaive in generation 4 of 10\n"
     ]
    },
    {
     "name": "stderr",
     "output_type": "stream",
     "text": [
      "INFO:prophet:Disabling yearly seasonality. Run prophet with yearly_seasonality=True to override this.\n",
      "INFO:prophet:Disabling daily seasonality. Run prophet with daily_seasonality=True to override this.\n",
      "INFO:cmdstanpy:start chain 1\n"
     ]
    },
    {
     "name": "stdout",
     "output_type": "stream",
     "text": [
      "Model Number: 685 with model FBProphet in generation 4 of 10\n"
     ]
    },
    {
     "name": "stderr",
     "output_type": "stream",
     "text": [
      "INFO:cmdstanpy:finish chain 1\n"
     ]
    },
    {
     "name": "stdout",
     "output_type": "stream",
     "text": [
      "Model Number: 686 with model DatepartRegression in generation 4 of 10\n",
      "Template Eval Error: ValueError(\"regression_type='User' but no future_regressor passed\") in model 686 in generation 4: DatepartRegression\n",
      "New Generation: 5 of 10\n",
      "Model Number: 687 with model ETS in generation 5 of 10\n",
      "ETS error TypeError(\"__init__() got an unexpected keyword argument 'damped_trend'\")\n",
      "ETS failed on Close with ValueError('endog must be strictly positive when usingmultiplicative trend or seasonal components.')\n",
      "Model Number: 688 with model ARIMA in generation 5 of 10\n",
      "Model Number: 689 with model SeasonalNaive in generation 5 of 10\n",
      "Model Number: 690 with model NVAR in generation 5 of 10\n",
      "Model Number: 691 with model MetricMotif in generation 5 of 10\n",
      "Model Number: 692 with model NVAR in generation 5 of 10\n",
      "Template Eval Error: Exception('Transformer AlignLastValue failed on inverse') in model 692 in generation 5: NVAR\n",
      "Model Number: 693 with model ConstantNaive in generation 5 of 10\n",
      "Model Number: 694 with model LastValueNaive in generation 5 of 10\n",
      "Model Number: 695 with model NVAR in generation 5 of 10\n",
      "Model Number: 696 with model GLM in generation 5 of 10\n"
     ]
    },
    {
     "name": "stderr",
     "output_type": "stream",
     "text": [
      "/usr/local/lib/python3.7/site-packages/statsmodels/genmod/generalized_linear_model.py:278: DomainWarning: The inverse_power link function does not respect the domain of the Gamma family.\n",
      "  DomainWarning)\n"
     ]
    },
    {
     "name": "stdout",
     "output_type": "stream",
     "text": [
      "Model Number: 697 with model WindowRegression in generation 5 of 10\n",
      "Model Number: 698 with model MultivariateRegression in generation 5 of 10\n",
      "Template Eval Error: Exception('Transformer BTCD failed on fit') in model 698 in generation 5: MultivariateRegression\n",
      "Model Number: 699 with model ConstantNaive in generation 5 of 10\n",
      "Model Number: 700 with model LastValueNaive in generation 5 of 10\n",
      "Model Number: 701 with model GLM in generation 5 of 10\n",
      "Model Number: 702 with model AverageValueNaive in generation 5 of 10\n",
      "Template Eval Error: Exception('Transformer AlignLastValue failed on inverse') in model 702 in generation 5: AverageValueNaive\n",
      "Model Number: 703 with model NVAR in generation 5 of 10\n",
      "Model Number: 704 with model UnobservedComponents in generation 5 of 10\n",
      "Model Number: 705 with model ARIMA in generation 5 of 10\n",
      "Model Number: 706 with model SectionalMotif in generation 5 of 10\n",
      "Template Eval Error: ValueError(\"Model returned NaN due to a preprocessing transformer {'fillna': 'mean', 'transformations': {'0': 'DifferencedTransformer', '1': 'Log', '2': 'CumSumTransformer', '3': 'Detrend'}, 'transformation_params': {'0': {}, '1': {}, '2': {}, '3': {'model': 'Linear', 'phi': 1, 'window': None, 'transform_dict': None}}}. fail_on_forecast_nan=True\") in model 706 in generation 5: SectionalMotif\n",
      "Model Number: 707 with model ETS in generation 5 of 10\n",
      "Template Eval Error: Exception('Transformer RegressionFilter failed on fit') in model 707 in generation 5: ETS\n",
      "Model Number: 708 with model ConstantNaive in generation 5 of 10\n",
      "Model Number: 709 with model NVAR in generation 5 of 10\n"
     ]
    },
    {
     "name": "stderr",
     "output_type": "stream",
     "text": [
      "/home/labsuser/.local/lib/python3.7/site-packages/autots/tools/transform.py:764: RuntimeWarning: overflow encountered in exp\n",
      "  df = pd.DataFrame(np.exp(df))\n",
      "/home/labsuser/.local/lib/python3.7/site-packages/autots/tools/transform.py:764: RuntimeWarning: overflow encountered in exp\n",
      "  df = pd.DataFrame(np.exp(df))\n",
      "/home/labsuser/.local/lib/python3.7/site-packages/autots/tools/transform.py:764: RuntimeWarning: overflow encountered in exp\n",
      "  df = pd.DataFrame(np.exp(df))\n"
     ]
    },
    {
     "name": "stdout",
     "output_type": "stream",
     "text": [
      "Model Number: 710 with model MetricMotif in generation 5 of 10\n",
      "Model Number: 711 with model SectionalMotif in generation 5 of 10\n",
      "Model Number: 712 with model AverageValueNaive in generation 5 of 10\n",
      "Model Number: 713 with model GLS in generation 5 of 10\n",
      "Model Number: 714 with model NVAR in generation 5 of 10\n",
      "Model Number: 715 with model UnobservedComponents in generation 5 of 10\n",
      "Model Number: 716 with model LastValueNaive in generation 5 of 10\n",
      "Model Number: 717 with model LastValueNaive in generation 5 of 10\n",
      "Model Number: 718 with model UnobservedComponents in generation 5 of 10\n",
      "Template Eval Error: ValueError(\"regression_type='User' but no future_regressor supplied\") in model 718 in generation 5: UnobservedComponents\n",
      "Model Number: 719 with model ARIMA in generation 5 of 10\n",
      "Model Number: 720 with model DatepartRegression in generation 5 of 10\n"
     ]
    },
    {
     "name": "stderr",
     "output_type": "stream",
     "text": [
      "/usr/local/lib/python3.7/site-packages/sklearn/svm/_base.py:1208: ConvergenceWarning: Liblinear failed to converge, increase the number of iterations.\n",
      "  ConvergenceWarning,\n"
     ]
    },
    {
     "name": "stdout",
     "output_type": "stream",
     "text": [
      "Model Number: 721 with model ETS in generation 5 of 10\n",
      "ETS error TypeError(\"__init__() got an unexpected keyword argument 'damped_trend'\")\n",
      "Model Number: 722 with model WindowRegression in generation 5 of 10\n"
     ]
    },
    {
     "name": "stderr",
     "output_type": "stream",
     "text": [
      "/usr/local/lib/python3.7/site-packages/sklearn/neural_network/_multilayer_perceptron.py:549: ConvergenceWarning: lbfgs failed to converge (status=1):\n",
      "STOP: TOTAL NO. of ITERATIONS REACHED LIMIT.\n",
      "\n",
      "Increase the number of iterations (max_iter) or scale the data as shown in:\n",
      "    https://scikit-learn.org/stable/modules/preprocessing.html\n",
      "  self.n_iter_ = _check_optimize_result(\"lbfgs\", opt_res, self.max_iter)\n"
     ]
    },
    {
     "name": "stdout",
     "output_type": "stream",
     "text": [
      "Model Number: 723 with model MetricMotif in generation 5 of 10\n"
     ]
    },
    {
     "name": "stderr",
     "output_type": "stream",
     "text": [
      "INFO:prophet:Disabling yearly seasonality. Run prophet with yearly_seasonality=True to override this.\n",
      "INFO:prophet:Disabling daily seasonality. Run prophet with daily_seasonality=True to override this.\n",
      "INFO:cmdstanpy:start chain 1\n",
      "INFO:cmdstanpy:finish chain 1\n"
     ]
    },
    {
     "name": "stdout",
     "output_type": "stream",
     "text": [
      "Model Number: 724 with model FBProphet in generation 5 of 10\n",
      "Model Number: 725 with model GLS in generation 5 of 10\n",
      "Model Number: 726 with model UnivariateMotif in generation 5 of 10\n",
      "Template Eval Error: Exception('Transformer BTCD failed on fit') in model 726 in generation 5: UnivariateMotif\n",
      "Model Number: 727 with model SeasonalNaive in generation 5 of 10\n",
      "Model Number: 728 with model UnobservedComponents in generation 5 of 10\n",
      "Model Number: 729 with model MultivariateMotif in generation 5 of 10\n",
      "Model Number: 730 with model UnobservedComponents in generation 5 of 10\n",
      "Model Number: 731 with model LastValueNaive in generation 5 of 10\n",
      "Model Number: 732 with model SectionalMotif in generation 5 of 10\n",
      "Model Number: 733 with model NVAR in generation 5 of 10\n",
      "Model Number: 734 with model SeasonalNaive in generation 5 of 10\n",
      "Model Number: 735 with model UnivariateMotif in generation 5 of 10\n",
      "Model Number: 736 with model ConstantNaive in generation 5 of 10\n",
      "Model Number: 737 with model ETS in generation 5 of 10\n",
      "ETS error TypeError(\"__init__() got an unexpected keyword argument 'damped_trend'\")\n",
      "ETS failed on Close with ValueError('endog must be strictly positive when usingmultiplicative trend or seasonal components.')\n"
     ]
    },
    {
     "name": "stderr",
     "output_type": "stream",
     "text": [
      "/usr/local/lib/python3.7/site-packages/sklearn/svm/_base.py:1208: ConvergenceWarning: Liblinear failed to converge, increase the number of iterations.\n",
      "  ConvergenceWarning,\n"
     ]
    },
    {
     "name": "stdout",
     "output_type": "stream",
     "text": [
      "Model Number: 738 with model SeasonalNaive in generation 5 of 10\n",
      "Model Number: 739 with model MultivariateRegression in generation 5 of 10\n",
      "Model Number: 740 with model SeasonalNaive in generation 5 of 10\n",
      "Model Number: 741 with model LastValueNaive in generation 5 of 10\n",
      "Model Number: 742 with model AverageValueNaive in generation 5 of 10\n",
      "Model Number: 743 with model ARIMA in generation 5 of 10\n",
      "Model Number: 744 with model AverageValueNaive in generation 5 of 10\n",
      "Model Number: 745 with model SeasonalNaive in generation 5 of 10\n",
      "Model Number: 746 with model FBProphet in generation 5 of 10\n"
     ]
    },
    {
     "name": "stderr",
     "output_type": "stream",
     "text": [
      "/usr/local/lib/python3.7/site-packages/sklearn/linear_model/_ridge.py:157: LinAlgWarning: Ill-conditioned matrix (rcond=3.81215e-25): result may not be accurate.\n",
      "  return linalg.solve(A, Xy, sym_pos=True, overwrite_a=True).T\n",
      "INFO:prophet:Disabling yearly seasonality. Run prophet with yearly_seasonality=True to override this.\n",
      "INFO:prophet:Disabling daily seasonality. Run prophet with daily_seasonality=True to override this.\n",
      "INFO:cmdstanpy:start chain 1\n",
      "INFO:cmdstanpy:finish chain 1\n"
     ]
    },
    {
     "name": "stdout",
     "output_type": "stream",
     "text": [
      "Model Number: 747 with model ETS in generation 5 of 10\n",
      "ETS error TypeError(\"__init__() got an unexpected keyword argument 'damped_trend'\")\n",
      "ETS failed on Close with ValueError('endog must be strictly positive when usingmultiplicative trend or seasonal components.')\n",
      "Model Number: 748 with model SectionalMotif in generation 5 of 10\n",
      "Model Number: 749 with model MultivariateMotif in generation 5 of 10\n",
      "Model Number: 750 with model DatepartRegression in generation 5 of 10\n"
     ]
    },
    {
     "name": "stderr",
     "output_type": "stream",
     "text": [
      "/usr/local/lib/python3.7/site-packages/sklearn/svm/_base.py:1208: ConvergenceWarning: Liblinear failed to converge, increase the number of iterations.\n",
      "  ConvergenceWarning,\n"
     ]
    },
    {
     "name": "stdout",
     "output_type": "stream",
     "text": [
      "Model Number: 751 with model GLS in generation 5 of 10\n",
      "Model Number: 752 with model AverageValueNaive in generation 5 of 10\n"
     ]
    },
    {
     "name": "stderr",
     "output_type": "stream",
     "text": [
      "INFO:prophet:Disabling yearly seasonality. Run prophet with yearly_seasonality=True to override this.\n",
      "INFO:prophet:Disabling daily seasonality. Run prophet with daily_seasonality=True to override this.\n",
      "INFO:cmdstanpy:start chain 1\n",
      "INFO:cmdstanpy:finish chain 1\n"
     ]
    },
    {
     "name": "stdout",
     "output_type": "stream",
     "text": [
      "Model Number: 753 with model FBProphet in generation 5 of 10\n",
      "No anomalies detected.\n",
      "Model Number: 754 with model SeasonalNaive in generation 5 of 10\n",
      "Model Number: 755 with model UnobservedComponents in generation 5 of 10\n",
      "Model Number: 756 with model MetricMotif in generation 5 of 10\n"
     ]
    },
    {
     "name": "stderr",
     "output_type": "stream",
     "text": [
      "INFO:prophet:Disabling yearly seasonality. Run prophet with yearly_seasonality=True to override this.\n",
      "INFO:prophet:Disabling daily seasonality. Run prophet with daily_seasonality=True to override this.\n",
      "INFO:cmdstanpy:start chain 1\n"
     ]
    },
    {
     "name": "stdout",
     "output_type": "stream",
     "text": [
      "Model Number: 757 with model FBProphet in generation 5 of 10\n"
     ]
    },
    {
     "name": "stderr",
     "output_type": "stream",
     "text": [
      "INFO:cmdstanpy:finish chain 1\n"
     ]
    },
    {
     "name": "stdout",
     "output_type": "stream",
     "text": [
      "Model Number: 758 with model SeasonalNaive in generation 5 of 10\n",
      "Model Number: 759 with model ConstantNaive in generation 5 of 10\n",
      "Model Number: 760 with model AverageValueNaive in generation 5 of 10\n"
     ]
    },
    {
     "name": "stderr",
     "output_type": "stream",
     "text": [
      "INFO:prophet:Disabling yearly seasonality. Run prophet with yearly_seasonality=True to override this.\n",
      "INFO:prophet:Disabling daily seasonality. Run prophet with daily_seasonality=True to override this.\n",
      "INFO:cmdstanpy:start chain 1\n",
      "INFO:cmdstanpy:finish chain 1\n"
     ]
    },
    {
     "name": "stdout",
     "output_type": "stream",
     "text": [
      "Model Number: 761 with model FBProphet in generation 5 of 10\n",
      "Model Number: 762 with model WindowRegression in generation 5 of 10\n",
      "Model Number: 763 with model ETS in generation 5 of 10\n",
      "ETS error TypeError(\"__init__() got an unexpected keyword argument 'damped_trend'\")\n",
      "ETS failed on Close with ValueError('endog must be strictly positive when usingmultiplicative trend or seasonal components.')\n",
      "Model Number: 764 with model FBProphet in generation 5 of 10\n"
     ]
    },
    {
     "name": "stderr",
     "output_type": "stream",
     "text": [
      "/usr/local/lib/python3.7/site-packages/sklearn/linear_model/_ridge.py:157: LinAlgWarning: Ill-conditioned matrix (rcond=3.81215e-25): result may not be accurate.\n",
      "  return linalg.solve(A, Xy, sym_pos=True, overwrite_a=True).T\n",
      "INFO:prophet:Disabling yearly seasonality. Run prophet with yearly_seasonality=True to override this.\n",
      "INFO:prophet:Disabling daily seasonality. Run prophet with daily_seasonality=True to override this.\n",
      "INFO:cmdstanpy:start chain 1\n",
      "INFO:cmdstanpy:finish chain 1\n"
     ]
    },
    {
     "name": "stdout",
     "output_type": "stream",
     "text": [
      "Model Number: 765 with model LastValueNaive in generation 5 of 10\n",
      "Model Number: 766 with model SectionalMotif in generation 5 of 10\n",
      "Model Number: 767 with model LastValueNaive in generation 5 of 10\n",
      "Model Number: 768 with model GLS in generation 5 of 10\n",
      "Model Number: 769 with model NVAR in generation 5 of 10\n",
      "Model Number: 770 with model FBProphet in generation 5 of 10\n",
      "No anomalies detected.\n",
      "Template Eval Error: Exception(\"unrecognized dates: Index([], dtype='object', name='date')\") in model 770 in generation 5: FBProphet\n",
      "Model Number: 771 with model WindowRegression in generation 5 of 10\n",
      "Model Number: 772 with model SectionalMotif in generation 5 of 10\n"
     ]
    },
    {
     "name": "stderr",
     "output_type": "stream",
     "text": [
      "/usr/local/lib/python3.7/site-packages/sklearn/linear_model/_ridge.py:157: LinAlgWarning: Ill-conditioned matrix (rcond=3.81215e-25): result may not be accurate.\n",
      "  return linalg.solve(A, Xy, sym_pos=True, overwrite_a=True).T\n",
      "/usr/local/lib/python3.7/site-packages/sklearn/linear_model/_coordinate_descent.py:648: ConvergenceWarning: Objective did not converge. You might want to increase the number of iterations, check the scale of the features or consider increasing regularisation. Duality gap: 3.706e+09, tolerance: 2.387e+06\n",
      "  coef_, l1_reg, l2_reg, X, y, max_iter, tol, rng, random, positive\n"
     ]
    },
    {
     "name": "stdout",
     "output_type": "stream",
     "text": [
      "Model Number: 773 with model ConstantNaive in generation 5 of 10\n",
      "Model Number: 774 with model WindowRegression in generation 5 of 10\n"
     ]
    },
    {
     "name": "stderr",
     "output_type": "stream",
     "text": [
      "/usr/local/lib/python3.7/site-packages/sklearn/neural_network/_multilayer_perceptron.py:549: ConvergenceWarning: lbfgs failed to converge (status=1):\n",
      "STOP: TOTAL NO. of ITERATIONS REACHED LIMIT.\n",
      "\n",
      "Increase the number of iterations (max_iter) or scale the data as shown in:\n",
      "    https://scikit-learn.org/stable/modules/preprocessing.html\n",
      "  self.n_iter_ = _check_optimize_result(\"lbfgs\", opt_res, self.max_iter)\n"
     ]
    },
    {
     "name": "stdout",
     "output_type": "stream",
     "text": [
      "Model Number: 775 with model GLS in generation 5 of 10\n",
      "Model Number: 776 with model GLS in generation 5 of 10\n",
      "Model Number: 777 with model WindowRegression in generation 5 of 10\n",
      "Model Number: 778 with model ARIMA in generation 5 of 10\n",
      "Model Number: 779 with model DatepartRegression in generation 5 of 10\n",
      "Template Eval Error: Exception('Transformer BTCD failed on fit') in model 779 in generation 5: DatepartRegression\n",
      "Model Number: 780 with model AverageValueNaive in generation 5 of 10\n",
      "Model Number: 781 with model DatepartRegression in generation 5 of 10\n",
      "Template Eval Error: Exception('Transformer BTCD failed on fit') in model 781 in generation 5: DatepartRegression\n",
      "Model Number: 782 with model MultivariateMotif in generation 5 of 10\n",
      "Model Number: 783 with model UnivariateRegression in generation 5 of 10\n",
      "Model Number: 784 with model MetricMotif in generation 5 of 10\n",
      "Model Number: 785 with model DatepartRegression in generation 5 of 10\n",
      "Model Number: 786 with model WindowRegression in generation 5 of 10\n"
     ]
    },
    {
     "name": "stderr",
     "output_type": "stream",
     "text": [
      "/usr/local/lib/python3.7/site-packages/sklearn/neural_network/_multilayer_perceptron.py:549: ConvergenceWarning: lbfgs failed to converge (status=1):\n",
      "STOP: TOTAL NO. of ITERATIONS REACHED LIMIT.\n",
      "\n",
      "Increase the number of iterations (max_iter) or scale the data as shown in:\n",
      "    https://scikit-learn.org/stable/modules/preprocessing.html\n",
      "  self.n_iter_ = _check_optimize_result(\"lbfgs\", opt_res, self.max_iter)\n"
     ]
    },
    {
     "name": "stdout",
     "output_type": "stream",
     "text": [
      "New Generation: 6 of 10\n",
      "Model Number: 787 with model NVAR in generation 6 of 10\n",
      "Model Number: 788 with model MultivariateMotif in generation 6 of 10\n",
      "Model Number: 789 with model LastValueNaive in generation 6 of 10\n",
      "Model Number: 790 with model DatepartRegression in generation 6 of 10\n",
      "Model Number: 791 with model LastValueNaive in generation 6 of 10\n",
      "Model Number: 792 with model SeasonalNaive in generation 6 of 10\n"
     ]
    },
    {
     "name": "stderr",
     "output_type": "stream",
     "text": [
      "INFO:prophet:Disabling yearly seasonality. Run prophet with yearly_seasonality=True to override this.\n",
      "INFO:prophet:Disabling daily seasonality. Run prophet with daily_seasonality=True to override this.\n",
      "INFO:cmdstanpy:start chain 1\n",
      "INFO:cmdstanpy:finish chain 1\n"
     ]
    },
    {
     "name": "stdout",
     "output_type": "stream",
     "text": [
      "Model Number: 793 with model FBProphet in generation 6 of 10\n",
      "Model Number: 794 with model SectionalMotif in generation 6 of 10\n"
     ]
    },
    {
     "name": "stderr",
     "output_type": "stream",
     "text": [
      "/usr/local/lib/python3.7/site-packages/sklearn/linear_model/_ridge.py:157: LinAlgWarning: Ill-conditioned matrix (rcond=3.81215e-25): result may not be accurate.\n",
      "  return linalg.solve(A, Xy, sym_pos=True, overwrite_a=True).T\n"
     ]
    },
    {
     "name": "stdout",
     "output_type": "stream",
     "text": [
      "Model Number: 795 with model ConstantNaive in generation 6 of 10\n",
      "Model Number: 796 with model SeasonalNaive in generation 6 of 10\n",
      "Model Number: 797 with model SectionalMotif in generation 6 of 10\n",
      "Template Eval Error: Exception('Transformer AlignLastValue failed on inverse') in model 797 in generation 6: SectionalMotif\n",
      "Model Number: 798 with model MetricMotif in generation 6 of 10\n",
      "Model Number: 799 with model AverageValueNaive in generation 6 of 10\n",
      "Model Number: 800 with model UnivariateMotif in generation 6 of 10\n",
      "Model Number: 801 with model UnivariateMotif in generation 6 of 10\n",
      "Model Number: 802 with model FBProphet in generation 6 of 10\n"
     ]
    },
    {
     "name": "stderr",
     "output_type": "stream",
     "text": [
      "/usr/local/lib/python3.7/site-packages/sklearn/linear_model/_ridge.py:157: LinAlgWarning: Ill-conditioned matrix (rcond=3.81215e-25): result may not be accurate.\n",
      "  return linalg.solve(A, Xy, sym_pos=True, overwrite_a=True).T\n",
      "INFO:prophet:Disabling yearly seasonality. Run prophet with yearly_seasonality=True to override this.\n",
      "INFO:prophet:Disabling daily seasonality. Run prophet with daily_seasonality=True to override this.\n",
      "INFO:cmdstanpy:start chain 1\n",
      "INFO:cmdstanpy:finish chain 1\n"
     ]
    },
    {
     "name": "stdout",
     "output_type": "stream",
     "text": [
      "Model Number: 803 with model MultivariateRegression in generation 6 of 10\n",
      "Model Number: 804 with model SeasonalNaive in generation 6 of 10\n",
      "Model Number: 805 with model NVAR in generation 6 of 10\n",
      "Model Number: 806 with model LastValueNaive in generation 6 of 10\n",
      "Model Number: 807 with model GLS in generation 6 of 10\n",
      "Template Eval Error: Exception('Transformer BTCD failed on fit') in model 807 in generation 6: GLS\n",
      "Model Number: 808 with model WindowRegression in generation 6 of 10\n",
      "Model Number: 809 with model UnobservedComponents in generation 6 of 10\n",
      "Model Number: 810 with model MultivariateRegression in generation 6 of 10\n",
      "Model Number: 811 with model UnobservedComponents in generation 6 of 10\n",
      "Model Number: 812 with model SectionalMotif in generation 6 of 10\n",
      "Model Number: 813 with model GLS in generation 6 of 10\n",
      "Model Number: 814 with model GLM in generation 6 of 10\n",
      "Model Number: 815 with model NVAR in generation 6 of 10\n",
      "Model Number: 816 with model AverageValueNaive in generation 6 of 10\n",
      "Model Number: 817 with model ETS in generation 6 of 10\n",
      "ETS error TypeError(\"__init__() got an unexpected keyword argument 'damped_trend'\")\n",
      "Model Number: 818 with model FBProphet in generation 6 of 10\n"
     ]
    },
    {
     "name": "stderr",
     "output_type": "stream",
     "text": [
      "/usr/local/lib/python3.7/site-packages/sklearn/linear_model/_ridge.py:157: LinAlgWarning: Ill-conditioned matrix (rcond=3.81215e-25): result may not be accurate.\n",
      "  return linalg.solve(A, Xy, sym_pos=True, overwrite_a=True).T\n",
      "INFO:prophet:Disabling yearly seasonality. Run prophet with yearly_seasonality=True to override this.\n",
      "INFO:prophet:Disabling daily seasonality. Run prophet with daily_seasonality=True to override this.\n",
      "INFO:cmdstanpy:start chain 1\n",
      "INFO:cmdstanpy:finish chain 1\n"
     ]
    },
    {
     "name": "stdout",
     "output_type": "stream",
     "text": [
      "Model Number: 819 with model AverageValueNaive in generation 6 of 10\n",
      "Model Number: 820 with model DatepartRegression in generation 6 of 10\n"
     ]
    },
    {
     "name": "stderr",
     "output_type": "stream",
     "text": [
      "/usr/local/lib/python3.7/site-packages/sklearn/svm/_base.py:1208: ConvergenceWarning: Liblinear failed to converge, increase the number of iterations.\n",
      "  ConvergenceWarning,\n"
     ]
    },
    {
     "name": "stdout",
     "output_type": "stream",
     "text": [
      "Model Number: 821 with model GLM in generation 6 of 10\n",
      "Model Number: 822 with model MetricMotif in generation 6 of 10\n",
      "Model Number: 823 with model AverageValueNaive in generation 6 of 10\n",
      "Model Number: 824 with model MultivariateMotif in generation 6 of 10\n",
      "Model Number: 825 with model UnobservedComponents in generation 6 of 10\n",
      "Model Number: 826 with model GLS in generation 6 of 10\n",
      "Model Number: 827 with model MultivariateMotif in generation 6 of 10\n",
      "Model Number: 828 with model GLS in generation 6 of 10\n",
      "Model Number: 829 with model ETS in generation 6 of 10\n",
      "ETS error TypeError(\"__init__() got an unexpected keyword argument 'damped_trend'\")\n"
     ]
    },
    {
     "name": "stderr",
     "output_type": "stream",
     "text": [
      "INFO:prophet:Disabling yearly seasonality. Run prophet with yearly_seasonality=True to override this.\n",
      "INFO:prophet:Disabling daily seasonality. Run prophet with daily_seasonality=True to override this.\n",
      "INFO:cmdstanpy:start chain 1\n",
      "INFO:cmdstanpy:finish chain 1\n"
     ]
    },
    {
     "name": "stdout",
     "output_type": "stream",
     "text": [
      "Model Number: 830 with model FBProphet in generation 6 of 10\n",
      "No anomalies detected.\n",
      "Model Number: 831 with model ConstantNaive in generation 6 of 10\n",
      "Model Number: 832 with model AverageValueNaive in generation 6 of 10\n",
      "Model Number: 833 with model LastValueNaive in generation 6 of 10\n",
      "Model Number: 834 with model WindowRegression in generation 6 of 10\n"
     ]
    },
    {
     "name": "stderr",
     "output_type": "stream",
     "text": [
      "/usr/local/lib/python3.7/site-packages/sklearn/neural_network/_multilayer_perceptron.py:549: ConvergenceWarning: lbfgs failed to converge (status=2):\n",
      "ABNORMAL_TERMINATION_IN_LNSRCH.\n",
      "\n",
      "Increase the number of iterations (max_iter) or scale the data as shown in:\n",
      "    https://scikit-learn.org/stable/modules/preprocessing.html\n",
      "  self.n_iter_ = _check_optimize_result(\"lbfgs\", opt_res, self.max_iter)\n"
     ]
    },
    {
     "name": "stdout",
     "output_type": "stream",
     "text": [
      "Model Number: 835 with model GLS in generation 6 of 10\n",
      "Model Number: 836 with model MetricMotif in generation 6 of 10\n",
      "Model Number: 837 with model UnivariateRegression in generation 6 of 10\n",
      "Model Number: 838 with model SectionalMotif in generation 6 of 10\n",
      "Model Number: 839 with model FBProphet in generation 6 of 10\n"
     ]
    },
    {
     "name": "stderr",
     "output_type": "stream",
     "text": [
      "INFO:prophet:Disabling yearly seasonality. Run prophet with yearly_seasonality=True to override this.\n",
      "INFO:prophet:Disabling daily seasonality. Run prophet with daily_seasonality=True to override this.\n",
      "INFO:cmdstanpy:start chain 1\n"
     ]
    },
    {
     "name": "stdout",
     "output_type": "stream",
     "text": [
      "No anomalies detected.\n"
     ]
    },
    {
     "name": "stderr",
     "output_type": "stream",
     "text": [
      "INFO:cmdstanpy:finish chain 1\n"
     ]
    },
    {
     "name": "stdout",
     "output_type": "stream",
     "text": [
      "Model Number: 840 with model SeasonalNaive in generation 6 of 10\n",
      "Model Number: 841 with model MetricMotif in generation 6 of 10\n",
      "Model Number: 842 with model SeasonalNaive in generation 6 of 10\n",
      "Model Number: 843 with model SeasonalNaive in generation 6 of 10\n"
     ]
    },
    {
     "name": "stderr",
     "output_type": "stream",
     "text": [
      "/usr/local/lib/python3.7/site-packages/sklearn/linear_model/_ridge.py:157: LinAlgWarning: Ill-conditioned matrix (rcond=3.81215e-25): result may not be accurate.\n",
      "  return linalg.solve(A, Xy, sym_pos=True, overwrite_a=True).T\n"
     ]
    },
    {
     "name": "stdout",
     "output_type": "stream",
     "text": [
      "Model Number: 844 with model LastValueNaive in generation 6 of 10\n",
      "Model Number: 845 with model ARIMA in generation 6 of 10\n",
      "Model Number: 846 with model ETS in generation 6 of 10\n",
      "ETS error TypeError(\"__init__() got an unexpected keyword argument 'damped_trend'\")\n",
      "Model Number: 847 with model UnivariateRegression in generation 6 of 10\n",
      "Model Number: 848 with model ETS in generation 6 of 10\n",
      "ETS error TypeError(\"__init__() got an unexpected keyword argument 'damped_trend'\")\n",
      "Model Number: 849 with model SeasonalNaive in generation 6 of 10\n",
      "Model Number: 850 with model MultivariateMotif in generation 6 of 10\n",
      "Template Eval Error: Exception('Transformer RegressionFilter failed on fit') in model 850 in generation 6: MultivariateMotif\n",
      "Model Number: 851 with model UnobservedComponents in generation 6 of 10\n"
     ]
    },
    {
     "name": "stderr",
     "output_type": "stream",
     "text": [
      "/usr/local/lib/python3.7/site-packages/sklearn/base.py:451: UserWarning: X does not have valid feature names, but MLPRegressor was fitted with feature names\n",
      "  \"X does not have valid feature names, but\"\n",
      "/usr/local/lib/python3.7/site-packages/sklearn/metrics/_regression.py:805: RuntimeWarning: overflow encountered in square\n",
      "  numerator = (weight * (y_true - y_pred) ** 2).sum(axis=0, dtype=np.float64)\n",
      "/usr/local/lib/python3.7/site-packages/sklearn/neural_network/_base.py:174: RuntimeWarning: overflow encountered in square\n",
      "  return ((y_true - y_pred) ** 2).mean() / 2\n",
      "/usr/local/lib/python3.7/site-packages/sklearn/utils/extmath.py:153: RuntimeWarning: overflow encountered in matmul\n",
      "  ret = a @ b\n",
      "/usr/local/lib/python3.7/site-packages/sklearn/utils/extmath.py:153: RuntimeWarning: invalid value encountered in matmul\n",
      "  ret = a @ b\n",
      "/usr/local/lib/python3.7/site-packages/sklearn/base.py:451: UserWarning: X does not have valid feature names, but MLPRegressor was fitted with feature names\n",
      "  \"X does not have valid feature names, but\"\n"
     ]
    },
    {
     "name": "stdout",
     "output_type": "stream",
     "text": [
      "Model Number: 852 with model WindowRegression in generation 6 of 10\n",
      "Template Eval Error: Exception('Transformer Cointegration failed on fit') in model 852 in generation 6: WindowRegression\n",
      "Model Number: 853 with model ETS in generation 6 of 10\n",
      "ETS error TypeError(\"__init__() got an unexpected keyword argument 'damped_trend'\")\n",
      "Model Number: 854 with model MetricMotif in generation 6 of 10\n",
      "Model Number: 855 with model FBProphet in generation 6 of 10\n"
     ]
    },
    {
     "name": "stderr",
     "output_type": "stream",
     "text": [
      "/usr/local/lib/python3.7/site-packages/sklearn/linear_model/_ridge.py:157: LinAlgWarning: Ill-conditioned matrix (rcond=3.81215e-25): result may not be accurate.\n",
      "  return linalg.solve(A, Xy, sym_pos=True, overwrite_a=True).T\n",
      "INFO:prophet:Disabling yearly seasonality. Run prophet with yearly_seasonality=True to override this.\n",
      "INFO:prophet:Disabling daily seasonality. Run prophet with daily_seasonality=True to override this.\n",
      "INFO:cmdstanpy:start chain 1\n",
      "INFO:cmdstanpy:finish chain 1\n"
     ]
    },
    {
     "name": "stdout",
     "output_type": "stream",
     "text": [
      "Model Number: 856 with model AverageValueNaive in generation 6 of 10\n",
      "Model Number: 857 with model SeasonalNaive in generation 6 of 10\n",
      "Model Number: 858 with model MetricMotif in generation 6 of 10\n",
      "Model Number: 859 with model ETS in generation 6 of 10\n",
      "ETS error TypeError(\"__init__() got an unexpected keyword argument 'damped_trend'\")\n",
      "Model Number: 860 with model MultivariateRegression in generation 6 of 10\n",
      "Template Eval Error: TypeError(\"__init__() got an unexpected keyword argument 'estimator'\") in model 860 in generation 6: MultivariateRegression\n",
      "Model Number: 861 with model DatepartRegression in generation 6 of 10\n"
     ]
    },
    {
     "name": "stderr",
     "output_type": "stream",
     "text": [
      "/usr/local/lib/python3.7/site-packages/sklearn/svm/_base.py:1208: ConvergenceWarning: Liblinear failed to converge, increase the number of iterations.\n",
      "  ConvergenceWarning,\n"
     ]
    },
    {
     "name": "stdout",
     "output_type": "stream",
     "text": [
      "Model Number: 862 with model AverageValueNaive in generation 6 of 10\n",
      "Model Number: 863 with model GLS in generation 6 of 10\n",
      "Model Number: 864 with model UnobservedComponents in generation 6 of 10\n",
      "Model Number: 865 with model NVAR in generation 6 of 10\n",
      "Model Number: 866 with model GLM in generation 6 of 10\n"
     ]
    },
    {
     "name": "stderr",
     "output_type": "stream",
     "text": [
      "/usr/local/lib/python3.7/site-packages/statsmodels/genmod/generalized_linear_model.py:278: DomainWarning: The inverse_power link function does not respect the domain of the Gamma family.\n",
      "  DomainWarning)\n"
     ]
    },
    {
     "name": "stdout",
     "output_type": "stream",
     "text": [
      "Model Number: 867 with model FBProphet in generation 6 of 10\n"
     ]
    },
    {
     "name": "stderr",
     "output_type": "stream",
     "text": [
      "/usr/local/lib/python3.7/site-packages/sklearn/linear_model/_ridge.py:157: LinAlgWarning: Ill-conditioned matrix (rcond=3.81215e-25): result may not be accurate.\n",
      "  return linalg.solve(A, Xy, sym_pos=True, overwrite_a=True).T\n",
      "INFO:prophet:Disabling yearly seasonality. Run prophet with yearly_seasonality=True to override this.\n",
      "INFO:prophet:Disabling daily seasonality. Run prophet with daily_seasonality=True to override this.\n",
      "INFO:cmdstanpy:start chain 1\n",
      "INFO:cmdstanpy:finish chain 1\n"
     ]
    },
    {
     "name": "stdout",
     "output_type": "stream",
     "text": [
      "Model Number: 868 with model GLS in generation 6 of 10\n",
      "Template Eval Error: Exception('Transformer AlignLastValue failed on inverse') in model 868 in generation 6: GLS\n",
      "Model Number: 869 with model SectionalMotif in generation 6 of 10\n",
      "Model Number: 870 with model SectionalMotif in generation 6 of 10\n",
      "Model Number: 871 with model UnivariateMotif in generation 6 of 10\n",
      "Model Number: 872 with model DatepartRegression in generation 6 of 10\n",
      "Epoch 1/200\n",
      "16/16 [==============================] - 1s 15ms/step - loss: 1.3554 - val_loss: 0.9035\n",
      "Epoch 2/200\n",
      "16/16 [==============================] - 0s 4ms/step - loss: 1.1822 - val_loss: 0.9296\n",
      "Epoch 3/200\n",
      "16/16 [==============================] - 0s 4ms/step - loss: 1.2016 - val_loss: 0.9430\n",
      "Epoch 4/200\n",
      "16/16 [==============================] - 0s 5ms/step - loss: 1.2456 - val_loss: 0.9644\n",
      "Epoch 5/200\n",
      "16/16 [==============================] - 0s 5ms/step - loss: 1.2430 - val_loss: 0.9472\n",
      "Epoch 6/200\n",
      "16/16 [==============================] - 0s 4ms/step - loss: 1.2893 - val_loss: 0.9253\n",
      "Epoch 7/200\n",
      "16/16 [==============================] - 0s 5ms/step - loss: 1.1766 - val_loss: 0.9430\n",
      "Epoch 8/200\n",
      "16/16 [==============================] - 0s 4ms/step - loss: 1.1888 - val_loss: 0.9613\n",
      "Epoch 9/200\n",
      "16/16 [==============================] - 0s 4ms/step - loss: 1.1531 - val_loss: 0.9589\n",
      "Epoch 10/200\n",
      "16/16 [==============================] - 0s 4ms/step - loss: 1.1628 - val_loss: 0.9365\n",
      "Epoch 11/200\n",
      "16/16 [==============================] - 0s 5ms/step - loss: 1.1368 - val_loss: 0.9394\n",
      "Template Eval Error: ValueError('Model DatepartRegression returned NaN for one or more series. fail_on_forecast_nan=True') in model 872 in generation 6: DatepartRegression\n",
      "Model Number: 873 with model GLM in generation 6 of 10\n",
      "Template Eval Error: ValueError('regression_type=user and no future_regressor passed') in model 873 in generation 6: GLM\n",
      "Model Number: 874 with model GLS in generation 6 of 10\n",
      "Template Eval Error: Exception('Transformer AlignLastValue failed on inverse') in model 874 in generation 6: GLS\n",
      "Model Number: 875 with model SectionalMotif in generation 6 of 10\n",
      "Model Number: 876 with model ConstantNaive in generation 6 of 10\n",
      "Model Number: 877 with model MetricMotif in generation 6 of 10\n",
      "Model Number: 878 with model FBProphet in generation 6 of 10\n"
     ]
    },
    {
     "name": "stderr",
     "output_type": "stream",
     "text": [
      "/usr/local/lib/python3.7/site-packages/sklearn/linear_model/_ridge.py:157: LinAlgWarning: Ill-conditioned matrix (rcond=3.81215e-25): result may not be accurate.\n",
      "  return linalg.solve(A, Xy, sym_pos=True, overwrite_a=True).T\n",
      "INFO:prophet:Disabling yearly seasonality. Run prophet with yearly_seasonality=True to override this.\n",
      "INFO:prophet:Disabling daily seasonality. Run prophet with daily_seasonality=True to override this.\n",
      "INFO:cmdstanpy:start chain 1\n",
      "INFO:cmdstanpy:finish chain 1\n"
     ]
    },
    {
     "name": "stdout",
     "output_type": "stream",
     "text": [
      "Model Number: 879 with model ARIMA in generation 6 of 10\n",
      "Model Number: 880 with model UnivariateMotif in generation 6 of 10\n",
      "Model Number: 881 with model LastValueNaive in generation 6 of 10\n",
      "Model Number: 882 with model SeasonalNaive in generation 6 of 10\n",
      "Model Number: 883 with model MultivariateRegression in generation 6 of 10\n",
      "Model Number: 884 with model DatepartRegression in generation 6 of 10\n",
      "Model Number: 885 with model AverageValueNaive in generation 6 of 10\n",
      "Model Number: 886 with model WindowRegression in generation 6 of 10\n",
      "Template Eval Error: ValueError(\"regression_type='User' but no future_regressor passed\") in model 886 in generation 6: WindowRegression\n",
      "New Generation: 7 of 10\n",
      "Model Number: 887 with model MetricMotif in generation 7 of 10\n",
      "Model Number: 888 with model AverageValueNaive in generation 7 of 10\n",
      "Model Number: 889 with model FBProphet in generation 7 of 10\n"
     ]
    },
    {
     "name": "stderr",
     "output_type": "stream",
     "text": [
      "/usr/local/lib/python3.7/site-packages/sklearn/linear_model/_ridge.py:157: LinAlgWarning: Ill-conditioned matrix (rcond=3.81215e-25): result may not be accurate.\n",
      "  return linalg.solve(A, Xy, sym_pos=True, overwrite_a=True).T\n",
      "INFO:prophet:Disabling yearly seasonality. Run prophet with yearly_seasonality=True to override this.\n",
      "INFO:prophet:Disabling daily seasonality. Run prophet with daily_seasonality=True to override this.\n",
      "INFO:cmdstanpy:start chain 1\n",
      "INFO:cmdstanpy:finish chain 1\n"
     ]
    },
    {
     "name": "stdout",
     "output_type": "stream",
     "text": [
      "Model Number: 890 with model UnivariateMotif in generation 7 of 10\n",
      "Model Number: 891 with model SeasonalNaive in generation 7 of 10\n",
      "Model Number: 892 with model LastValueNaive in generation 7 of 10\n",
      "Model Number: 893 with model LastValueNaive in generation 7 of 10\n",
      "Model Number: 894 with model ETS in generation 7 of 10\n",
      "ETS error TypeError(\"__init__() got an unexpected keyword argument 'damped_trend'\")\n",
      "Model Number: 895 with model SectionalMotif in generation 7 of 10\n",
      "Model Number: 896 with model AverageValueNaive in generation 7 of 10\n",
      "Model Number: 897 with model UnobservedComponents in generation 7 of 10\n",
      "Model Number: 898 with model ConstantNaive in generation 7 of 10\n",
      "Model Number: 899 with model LastValueNaive in generation 7 of 10\n",
      "Model Number: 900 with model ARIMA in generation 7 of 10\n",
      "Model Number: 901 with model DatepartRegression in generation 7 of 10\n",
      "Model Number: 902 with model NVAR in generation 7 of 10\n",
      "Model Number: 903 with model DatepartRegression in generation 7 of 10\n",
      "Model Number: 904 with model ETS in generation 7 of 10\n",
      "ETS error TypeError(\"__init__() got an unexpected keyword argument 'damped_trend'\")\n",
      "Model Number: 905 with model DatepartRegression in generation 7 of 10\n"
     ]
    },
    {
     "name": "stderr",
     "output_type": "stream",
     "text": [
      "/usr/local/lib/python3.7/site-packages/sklearn/svm/_base.py:1208: ConvergenceWarning: Liblinear failed to converge, increase the number of iterations.\n",
      "  ConvergenceWarning,\n"
     ]
    },
    {
     "name": "stdout",
     "output_type": "stream",
     "text": [
      "Model Number: 906 with model SeasonalNaive in generation 7 of 10\n"
     ]
    },
    {
     "name": "stderr",
     "output_type": "stream",
     "text": [
      "/usr/local/lib/python3.7/site-packages/sklearn/decomposition/_fastica.py:513: UserWarning: Ignoring n_components with whiten=False.\n",
      "  warnings.warn(\"Ignoring n_components with whiten=False.\")\n"
     ]
    },
    {
     "name": "stdout",
     "output_type": "stream",
     "text": [
      "Model Number: 907 with model MultivariateMotif in generation 7 of 10\n",
      "Model Number: 908 with model GLS in generation 7 of 10\n",
      "Model Number: 909 with model WindowRegression in generation 7 of 10\n",
      "Model Number: 910 with model SectionalMotif in generation 7 of 10\n",
      "Model Number: 911 with model ARIMA in generation 7 of 10\n",
      "Model Number: 912 with model LastValueNaive in generation 7 of 10\n",
      "Template Eval Error: Exception('Transformer FastICA failed on fit') in model 912 in generation 7: LastValueNaive\n",
      "Model Number: 913 with model SectionalMotif in generation 7 of 10\n",
      "Model Number: 914 with model SeasonalNaive in generation 7 of 10\n"
     ]
    },
    {
     "name": "stderr",
     "output_type": "stream",
     "text": [
      "/usr/local/lib/python3.7/site-packages/sklearn/decomposition/_fastica.py:513: UserWarning: Ignoring n_components with whiten=False.\n",
      "  warnings.warn(\"Ignoring n_components with whiten=False.\")\n",
      "/usr/local/lib/python3.7/site-packages/sklearn/decomposition/_fastica.py:84: RuntimeWarning: invalid value encountered in true_divide\n",
      "  w1 /= np.sqrt((w1 ** 2).sum())\n"
     ]
    },
    {
     "name": "stdout",
     "output_type": "stream",
     "text": [
      "Model Number: 915 with model LastValueNaive in generation 7 of 10\n",
      "Model Number: 916 with model SectionalMotif in generation 7 of 10\n",
      "Model Number: 917 with model ConstantNaive in generation 7 of 10\n",
      "Model Number: 918 with model GLS in generation 7 of 10\n",
      "Model Number: 919 with model GLS in generation 7 of 10\n",
      "Model Number: 920 with model NVAR in generation 7 of 10\n",
      "Model Number: 921 with model MetricMotif in generation 7 of 10\n",
      "Model Number: 922 with model GLM in generation 7 of 10\n"
     ]
    },
    {
     "name": "stderr",
     "output_type": "stream",
     "text": [
      "/usr/local/lib/python3.7/site-packages/statsmodels/genmod/generalized_linear_model.py:278: DomainWarning: The inverse_power link function does not respect the domain of the Gamma family.\n",
      "  DomainWarning)\n"
     ]
    },
    {
     "name": "stdout",
     "output_type": "stream",
     "text": [
      "Model Number: 923 with model UnivariateRegression in generation 7 of 10\n",
      "Template Eval Error: ValueError(\"Input contains NaN, infinity or a value too large for dtype('float32').\") in model 923 in generation 7: UnivariateRegression\n",
      "Model Number: 924 with model NVAR in generation 7 of 10\n",
      "Model Number: 925 with model MultivariateRegression in generation 7 of 10\n",
      "Model Number: 926 with model MetricMotif in generation 7 of 10\n",
      "Model Number: 927 with model NVAR in generation 7 of 10\n",
      "Model Number: 928 with model UnivariateMotif in generation 7 of 10\n",
      "Model Number: 929 with model LastValueNaive in generation 7 of 10\n",
      "Template Eval Error: ValueError(\"Model returned NaN due to a preprocessing transformer {'fillna': 'ffill_mean_biased', 'transformations': {'0': 'PowerTransformer', '1': 'Detrend', '2': 'SeasonalDifference', '3': 'AlignLastValue'}, 'transformation_params': {'0': {}, '1': {'model': 'Linear', 'phi': 1, 'window': 90, 'transform_dict': None}, '2': {'lag_1': 12, 'method': 'LastValue'}, '3': {'rows': 2, 'lag': 1, 'method': 'multiplicative', 'strength': 1.0, 'first_value_only': False}}}. fail_on_forecast_nan=True\") in model 929 in generation 7: LastValueNaive\n",
      "Model Number: 930 with model GLS in generation 7 of 10\n",
      "Model Number: 931 with model MultivariateMotif in generation 7 of 10\n",
      "Model Number: 932 with model LastValueNaive in generation 7 of 10\n",
      "Model Number: 933 with model AverageValueNaive in generation 7 of 10\n",
      "Model Number: 934 with model ARIMA in generation 7 of 10\n",
      "Model Number: 935 with model SectionalMotif in generation 7 of 10\n",
      "Model Number: 936 with model SectionalMotif in generation 7 of 10\n",
      "Model Number: 937 with model SeasonalNaive in generation 7 of 10\n",
      "Model Number: 938 with model MultivariateRegression in generation 7 of 10\n",
      "Model Number: 939 with model GLM in generation 7 of 10\n",
      "Template Eval Error: Exception('Transformer AlignLastValue failed on inverse') in model 939 in generation 7: GLM\n",
      "Model Number: 940 with model SectionalMotif in generation 7 of 10\n",
      "Model Number: 941 with model NVAR in generation 7 of 10\n",
      "Model Number: 942 with model AverageValueNaive in generation 7 of 10\n",
      "Template Eval Error: Exception('Transformer RegressionFilter failed on fit') in model 942 in generation 7: AverageValueNaive\n",
      "Model Number: 943 with model SeasonalNaive in generation 7 of 10\n",
      "Model Number: 944 with model ARIMA in generation 7 of 10\n",
      "Model Number: 945 with model WindowRegression in generation 7 of 10\n",
      "Template Eval Error: Exception('Transformer BTCD failed on fit') in model 945 in generation 7: WindowRegression\n",
      "Model Number: 946 with model MultivariateMotif in generation 7 of 10\n",
      "Model Number: 947 with model FBProphet in generation 7 of 10\n"
     ]
    },
    {
     "name": "stderr",
     "output_type": "stream",
     "text": [
      "/usr/local/lib/python3.7/site-packages/sklearn/linear_model/_ridge.py:157: LinAlgWarning: Ill-conditioned matrix (rcond=3.81215e-25): result may not be accurate.\n",
      "  return linalg.solve(A, Xy, sym_pos=True, overwrite_a=True).T\n",
      "INFO:prophet:Disabling yearly seasonality. Run prophet with yearly_seasonality=True to override this.\n",
      "INFO:prophet:Disabling daily seasonality. Run prophet with daily_seasonality=True to override this.\n",
      "INFO:cmdstanpy:start chain 1\n",
      "INFO:cmdstanpy:finish chain 1\n"
     ]
    },
    {
     "name": "stdout",
     "output_type": "stream",
     "text": [
      "Model Number: 948 with model SectionalMotif in generation 7 of 10\n",
      "Model Number: 949 with model MultivariateMotif in generation 7 of 10\n"
     ]
    },
    {
     "name": "stderr",
     "output_type": "stream",
     "text": [
      "INFO:prophet:Disabling yearly seasonality. Run prophet with yearly_seasonality=True to override this.\n",
      "INFO:prophet:Disabling daily seasonality. Run prophet with daily_seasonality=True to override this.\n",
      "INFO:cmdstanpy:start chain 1\n",
      "INFO:cmdstanpy:finish chain 1\n"
     ]
    },
    {
     "name": "stdout",
     "output_type": "stream",
     "text": [
      "Model Number: 950 with model FBProphet in generation 7 of 10\n",
      "No anomalies detected.\n",
      "Model Number: 951 with model SeasonalNaive in generation 7 of 10\n",
      "Model Number: 952 with model MetricMotif in generation 7 of 10\n",
      "Model Number: 953 with model UnobservedComponents in generation 7 of 10\n",
      "Model Number: 954 with model UnobservedComponents in generation 7 of 10\n",
      "Model Number: 955 with model ARIMA in generation 7 of 10\n",
      "Model Number: 956 with model UnobservedComponents in generation 7 of 10\n",
      "Model Number: 957 with model SectionalMotif in generation 7 of 10\n",
      "Model Number: 958 with model SeasonalNaive in generation 7 of 10\n",
      "Model Number: 959 with model SeasonalNaive in generation 7 of 10\n",
      "Model Number: 960 with model UnivariateMotif in generation 7 of 10\n",
      "Model Number: 961 with model ETS in generation 7 of 10\n",
      "ETS error TypeError(\"__init__() got an unexpected keyword argument 'damped_trend'\")\n",
      "ETS failed on Close with ValueError('endog must be strictly positive when usingmultiplicative trend or seasonal components.')\n",
      "Model Number: 962 with model LastValueNaive in generation 7 of 10\n",
      "Model Number: 963 with model NVAR in generation 7 of 10\n",
      "Model Number: 964 with model UnobservedComponents in generation 7 of 10\n",
      "Model Number: 965 with model MetricMotif in generation 7 of 10\n",
      "Model Number: 966 with model DatepartRegression in generation 7 of 10\n",
      "Model Number: 967 with model UnivariateRegression in generation 7 of 10\n",
      "Model Number: 968 with model UnobservedComponents in generation 7 of 10\n",
      "Model Number: 969 with model GLS in generation 7 of 10\n",
      "Model Number: 970 with model AverageValueNaive in generation 7 of 10\n",
      "Model Number: 971 with model NVAR in generation 7 of 10\n",
      "Model Number: 972 with model ConstantNaive in generation 7 of 10\n",
      "Template Eval Error: Exception('Transformer Cointegration failed on fit') in model 972 in generation 7: ConstantNaive\n",
      "Model Number: 973 with model GLS in generation 7 of 10\n",
      "Model Number: 974 with model ConstantNaive in generation 7 of 10\n",
      "Model Number: 975 with model SeasonalNaive in generation 7 of 10\n"
     ]
    },
    {
     "name": "stderr",
     "output_type": "stream",
     "text": [
      "INFO:prophet:Disabling yearly seasonality. Run prophet with yearly_seasonality=True to override this.\n",
      "INFO:prophet:Disabling daily seasonality. Run prophet with daily_seasonality=True to override this.\n",
      "INFO:cmdstanpy:start chain 1\n",
      "INFO:cmdstanpy:finish chain 1\n"
     ]
    },
    {
     "name": "stdout",
     "output_type": "stream",
     "text": [
      "Model Number: 976 with model FBProphet in generation 7 of 10\n",
      "Model Number: 977 with model ARIMA in generation 7 of 10\n",
      "Model Number: 978 with model MultivariateMotif in generation 7 of 10\n",
      "Model Number: 979 with model GLS in generation 7 of 10\n",
      "Model Number: 980 with model UnobservedComponents in generation 7 of 10\n",
      "Model Number: 981 with model GLS in generation 7 of 10\n",
      "Model Number: 982 with model LastValueNaive in generation 7 of 10\n",
      "Model Number: 983 with model LastValueNaive in generation 7 of 10\n"
     ]
    },
    {
     "name": "stderr",
     "output_type": "stream",
     "text": [
      "INFO:prophet:Disabling yearly seasonality. Run prophet with yearly_seasonality=True to override this.\n",
      "INFO:prophet:Disabling daily seasonality. Run prophet with daily_seasonality=True to override this.\n"
     ]
    },
    {
     "name": "stdout",
     "output_type": "stream",
     "text": [
      "Model Number: 984 with model FBProphet in generation 7 of 10\n"
     ]
    },
    {
     "name": "stderr",
     "output_type": "stream",
     "text": [
      "INFO:cmdstanpy:start chain 1\n",
      "INFO:cmdstanpy:finish chain 1\n"
     ]
    },
    {
     "name": "stdout",
     "output_type": "stream",
     "text": [
      "Model Number: 985 with model SectionalMotif in generation 7 of 10\n",
      "Model Number: 986 with model ConstantNaive in generation 7 of 10\n",
      "New Generation: 8 of 10\n",
      "Model Number: 987 with model DatepartRegression in generation 8 of 10\n"
     ]
    },
    {
     "name": "stderr",
     "output_type": "stream",
     "text": [
      "/usr/local/lib/python3.7/site-packages/sklearn/svm/_base.py:1208: ConvergenceWarning: Liblinear failed to converge, increase the number of iterations.\n",
      "  ConvergenceWarning,\n"
     ]
    },
    {
     "name": "stdout",
     "output_type": "stream",
     "text": [
      "Model Number: 988 with model NVAR in generation 8 of 10\n",
      "Model Number: 989 with model DatepartRegression in generation 8 of 10\n",
      "Model Number: 990 with model SectionalMotif in generation 8 of 10\n",
      "Model Number: 991 with model GLM in generation 8 of 10\n"
     ]
    },
    {
     "name": "stderr",
     "output_type": "stream",
     "text": [
      "/usr/local/lib/python3.7/site-packages/statsmodels/genmod/generalized_linear_model.py:278: DomainWarning: The inverse_power link function does not respect the domain of the Gamma family.\n",
      "  DomainWarning)\n"
     ]
    },
    {
     "name": "stdout",
     "output_type": "stream",
     "text": [
      "Model Number: 992 with model DatepartRegression in generation 8 of 10\n"
     ]
    },
    {
     "name": "stderr",
     "output_type": "stream",
     "text": [
      "/usr/local/lib/python3.7/site-packages/sklearn/neighbors/_regression.py:470: UserWarning: One or more samples have no neighbors within specified radius; predicting NaN.\n",
      "  warnings.warn(empty_warning_msg)\n"
     ]
    },
    {
     "name": "stdout",
     "output_type": "stream",
     "text": [
      "Template Eval Error: ValueError('Model DatepartRegression returned NaN for one or more series. fail_on_forecast_nan=True') in model 992 in generation 8: DatepartRegression\n",
      "Model Number: 993 with model MetricMotif in generation 8 of 10\n",
      "Model Number: 994 with model GLM in generation 8 of 10\n",
      "Model Number: 995 with model MultivariateRegression in generation 8 of 10\n",
      "Model Number: 996 with model ETS in generation 8 of 10\n",
      "ETS error TypeError(\"__init__() got an unexpected keyword argument 'damped_trend'\")\n",
      "Model Number: 997 with model GLM in generation 8 of 10\n"
     ]
    },
    {
     "name": "stderr",
     "output_type": "stream",
     "text": [
      "/usr/local/lib/python3.7/site-packages/statsmodels/genmod/generalized_linear_model.py:278: DomainWarning: The inverse_power link function does not respect the domain of the Gamma family.\n",
      "  DomainWarning)\n"
     ]
    },
    {
     "name": "stdout",
     "output_type": "stream",
     "text": [
      "Model Number: 998 with model ETS in generation 8 of 10\n",
      "ETS error TypeError(\"__init__() got an unexpected keyword argument 'damped_trend'\")\n",
      "ETS failed on Close with ValueError('endog must be strictly positive when usingmultiplicative trend or seasonal components.')\n",
      "Model Number: 999 with model AverageValueNaive in generation 8 of 10\n",
      "Model Number: 1000 with model MultivariateMotif in generation 8 of 10\n",
      "Model Number: 1001 with model MultivariateRegression in generation 8 of 10\n",
      "Template Eval Error: ModuleNotFoundError(\"No module named 'lightgbm'\") in model 1001 in generation 8: MultivariateRegression\n",
      "Model Number: 1002 with model AverageValueNaive in generation 8 of 10\n",
      "Model Number: 1003 with model MetricMotif in generation 8 of 10\n",
      "Model Number: 1004 with model UnivariateMotif in generation 8 of 10\n",
      "Model Number: 1005 with model SectionalMotif in generation 8 of 10\n",
      "Model Number: 1006 with model SectionalMotif in generation 8 of 10\n",
      "Model Number: 1007 with model DatepartRegression in generation 8 of 10\n",
      "Template Eval Error: ValueError(\"regression_type='User' but no future_regressor passed\") in model 1007 in generation 8: DatepartRegression\n",
      "Model Number: 1008 with model FBProphet in generation 8 of 10\n"
     ]
    },
    {
     "name": "stderr",
     "output_type": "stream",
     "text": [
      "/usr/local/lib/python3.7/site-packages/sklearn/linear_model/_ridge.py:157: LinAlgWarning: Ill-conditioned matrix (rcond=3.81215e-25): result may not be accurate.\n",
      "  return linalg.solve(A, Xy, sym_pos=True, overwrite_a=True).T\n",
      "INFO:prophet:Disabling yearly seasonality. Run prophet with yearly_seasonality=True to override this.\n",
      "INFO:prophet:Disabling daily seasonality. Run prophet with daily_seasonality=True to override this.\n",
      "INFO:cmdstanpy:start chain 1\n",
      "INFO:cmdstanpy:finish chain 1\n",
      "INFO:prophet:Disabling yearly seasonality. Run prophet with yearly_seasonality=True to override this.\n",
      "INFO:prophet:Disabling daily seasonality. Run prophet with daily_seasonality=True to override this.\n",
      "INFO:cmdstanpy:start chain 1\n",
      "INFO:cmdstanpy:finish chain 1\n"
     ]
    },
    {
     "name": "stdout",
     "output_type": "stream",
     "text": [
      "Model Number: 1009 with model FBProphet in generation 8 of 10\n",
      "Model Number: 1010 with model ETS in generation 8 of 10\n",
      "ETS error TypeError(\"__init__() got an unexpected keyword argument 'damped_trend'\")\n",
      "ETS failed on Close with ValueError('endog must be strictly positive when usingmultiplicative trend or seasonal components.')\n",
      "Model Number: 1011 with model AverageValueNaive in generation 8 of 10\n",
      "Model Number: 1012 with model GLS in generation 8 of 10\n",
      "Model Number: 1013 with model NVAR in generation 8 of 10\n",
      "Model Number: 1014 with model LastValueNaive in generation 8 of 10\n",
      "Model Number: 1015 with model SectionalMotif in generation 8 of 10\n",
      "Model Number: 1016 with model SeasonalNaive in generation 8 of 10\n",
      "Model Number: 1017 with model GLM in generation 8 of 10\n",
      "Model Number: 1018 with model UnobservedComponents in generation 8 of 10\n",
      "Model Number: 1019 with model AverageValueNaive in generation 8 of 10\n",
      "Model Number: 1020 with model MultivariateRegression in generation 8 of 10\n",
      "Model Number: 1021 with model MultivariateMotif in generation 8 of 10\n",
      "Model Number: 1022 with model DatepartRegression in generation 8 of 10\n",
      "Model Number: 1023 with model UnobservedComponents in generation 8 of 10\n",
      "Template Eval Error: ValueError('Model UnobservedComponents returned NaN for one or more series. fail_on_forecast_nan=True') in model 1023 in generation 8: UnobservedComponents\n",
      "Model Number: 1024 with model SeasonalNaive in generation 8 of 10\n",
      "Model Number: 1025 with model UnivariateRegression in generation 8 of 10\n",
      "Template Eval Error: Exception('Transformer Cointegration failed on fit') in model 1025 in generation 8: UnivariateRegression\n",
      "Model Number: 1026 with model GLM in generation 8 of 10\n",
      "Model Number: 1027 with model AverageValueNaive in generation 8 of 10\n",
      "Model Number: 1028 with model LastValueNaive in generation 8 of 10\n",
      "Model Number: 1029 with model UnobservedComponents in generation 8 of 10\n",
      "Model Number: 1030 with model DatepartRegression in generation 8 of 10\n",
      "Model Number: 1031 with model ARIMA in generation 8 of 10\n",
      "Model Number: 1032 with model SectionalMotif in generation 8 of 10\n",
      "Template Eval Error: LinAlgError('Singular matrix') in model 1032 in generation 8: SectionalMotif\n",
      "Model Number: 1033 with model ARIMA in generation 8 of 10\n",
      "Model Number: 1034 with model GLS in generation 8 of 10\n",
      "Model Number: 1035 with model MetricMotif in generation 8 of 10\n",
      "Model Number: 1036 with model ConstantNaive in generation 8 of 10\n",
      "Model Number: 1037 with model LastValueNaive in generation 8 of 10\n"
     ]
    },
    {
     "name": "stderr",
     "output_type": "stream",
     "text": [
      "INFO:prophet:Disabling yearly seasonality. Run prophet with yearly_seasonality=True to override this.\n",
      "INFO:prophet:Disabling daily seasonality. Run prophet with daily_seasonality=True to override this.\n",
      "INFO:cmdstanpy:start chain 1\n",
      "INFO:cmdstanpy:finish chain 1\n"
     ]
    },
    {
     "name": "stdout",
     "output_type": "stream",
     "text": [
      "Model Number: 1038 with model FBProphet in generation 8 of 10\n",
      "No anomalies detected.\n",
      "Model Number: 1039 with model UnivariateRegression in generation 8 of 10\n",
      "Model Number: 1040 with model ETS in generation 8 of 10\n",
      "ETS error TypeError(\"__init__() got an unexpected keyword argument 'damped_trend'\")\n",
      "Model Number: 1041 with model MetricMotif in generation 8 of 10\n",
      "Model Number: 1042 with model SectionalMotif in generation 8 of 10\n",
      "Model Number: 1043 with model SeasonalNaive in generation 8 of 10\n",
      "Template Eval Error: Exception('Transformer Cointegration failed on fit') in model 1043 in generation 8: SeasonalNaive\n",
      "Model Number: 1044 with model DatepartRegression in generation 8 of 10\n",
      "Template Eval Error: ValueError(\"Model returned NaN due to a preprocessing transformer {'fillna': 'ffill', 'transformations': {'0': 'DifferencedTransformer', '1': 'Log', '2': 'Detrend', '3': 'SeasonalDifference', '4': 'PctChangeTransformer'}, 'transformation_params': {'0': {}, '1': {}, '2': {'model': 'Linear', 'phi': 1, 'window': 90, 'transform_dict': None}, '3': {'lag_1': 29, 'method': 'Median'}, '4': {}}}. fail_on_forecast_nan=True\") in model 1044 in generation 8: DatepartRegression\n",
      "Model Number: 1045 with model NVAR in generation 8 of 10\n"
     ]
    },
    {
     "name": "stderr",
     "output_type": "stream",
     "text": [
      "/home/labsuser/.local/lib/python3.7/site-packages/autots/tools/transform.py:764: RuntimeWarning: overflow encountered in exp\n",
      "  df = pd.DataFrame(np.exp(df))\n",
      "/home/labsuser/.local/lib/python3.7/site-packages/autots/tools/transform.py:764: RuntimeWarning: overflow encountered in exp\n",
      "  df = pd.DataFrame(np.exp(df))\n",
      "/home/labsuser/.local/lib/python3.7/site-packages/autots/tools/transform.py:764: RuntimeWarning: overflow encountered in exp\n",
      "  df = pd.DataFrame(np.exp(df))\n"
     ]
    },
    {
     "name": "stdout",
     "output_type": "stream",
     "text": [
      "Model Number: 1046 with model UnobservedComponents in generation 8 of 10\n",
      "Model Number: 1047 with model NVAR in generation 8 of 10\n",
      "Model Number: 1048 with model MultivariateRegression in generation 8 of 10\n",
      "Model Number: 1049 with model SeasonalNaive in generation 8 of 10\n",
      "Template Eval Error: Exception('Transformer BTCD failed on fit') in model 1049 in generation 8: SeasonalNaive\n",
      "Model Number: 1050 with model SectionalMotif in generation 8 of 10\n",
      "Model Number: 1051 with model SeasonalNaive in generation 8 of 10\n",
      "Model Number: 1052 with model WindowRegression in generation 8 of 10\n",
      "Template Eval Error: Exception('Transformer BTCD failed on fit') in model 1052 in generation 8: WindowRegression\n",
      "Model Number: 1053 with model SeasonalNaive in generation 8 of 10\n",
      "Model Number: 1054 with model ETS in generation 8 of 10\n",
      "ETS error TypeError(\"__init__() got an unexpected keyword argument 'damped_trend'\")\n",
      "Model Number: 1055 with model FBProphet in generation 8 of 10\n",
      "Template Eval Error: Exception('Transformer Detrend failed on fit') in model 1055 in generation 8: FBProphet\n",
      "Model Number: 1056 with model FBProphet in generation 8 of 10\n"
     ]
    },
    {
     "name": "stderr",
     "output_type": "stream",
     "text": [
      "/usr/local/lib/python3.7/site-packages/sklearn/linear_model/_ridge.py:157: LinAlgWarning: Ill-conditioned matrix (rcond=3.81215e-25): result may not be accurate.\n",
      "  return linalg.solve(A, Xy, sym_pos=True, overwrite_a=True).T\n",
      "INFO:prophet:Disabling yearly seasonality. Run prophet with yearly_seasonality=True to override this.\n",
      "INFO:prophet:Disabling daily seasonality. Run prophet with daily_seasonality=True to override this.\n",
      "INFO:cmdstanpy:start chain 1\n",
      "INFO:cmdstanpy:finish chain 1\n"
     ]
    },
    {
     "name": "stdout",
     "output_type": "stream",
     "text": [
      "Model Number: 1057 with model MultivariateRegression in generation 8 of 10\n"
     ]
    },
    {
     "name": "stderr",
     "output_type": "stream",
     "text": [
      "/home/labsuser/.local/lib/python3.7/site-packages/autots/tools/probabilistic.py:67: RuntimeWarning: divide by zero encountered in true_divide\n",
      "  (prior_mu / prior_sigma**2) + ((n * data_mu) / prior_sigma**2)\n",
      "/home/labsuser/.local/lib/python3.7/site-packages/autots/tools/probabilistic.py:68: RuntimeWarning: divide by zero encountered in true_divide\n",
      "  ) / ((1 / prior_sigma**2) + (n / prior_sigma**2))\n",
      "/home/labsuser/.local/lib/python3.7/site-packages/autots/tools/probabilistic.py:68: RuntimeWarning: invalid value encountered in true_divide\n",
      "  ) / ((1 / prior_sigma**2) + (n / prior_sigma**2))\n",
      "/home/labsuser/.local/lib/python3.7/site-packages/autots/tools/probabilistic.py:67: RuntimeWarning: divide by zero encountered in true_divide\n",
      "  (prior_mu / prior_sigma**2) + ((n * data_mu) / prior_sigma**2)\n",
      "/home/labsuser/.local/lib/python3.7/site-packages/autots/tools/probabilistic.py:68: RuntimeWarning: divide by zero encountered in true_divide\n",
      "  ) / ((1 / prior_sigma**2) + (n / prior_sigma**2))\n",
      "/home/labsuser/.local/lib/python3.7/site-packages/autots/tools/probabilistic.py:68: RuntimeWarning: invalid value encountered in true_divide\n",
      "  ) / ((1 / prior_sigma**2) + (n / prior_sigma**2))\n",
      "/home/labsuser/.local/lib/python3.7/site-packages/autots/tools/probabilistic.py:67: RuntimeWarning: divide by zero encountered in true_divide\n",
      "  (prior_mu / prior_sigma**2) + ((n * data_mu) / prior_sigma**2)\n",
      "/home/labsuser/.local/lib/python3.7/site-packages/autots/tools/probabilistic.py:68: RuntimeWarning: divide by zero encountered in true_divide\n",
      "  ) / ((1 / prior_sigma**2) + (n / prior_sigma**2))\n",
      "/home/labsuser/.local/lib/python3.7/site-packages/autots/tools/probabilistic.py:68: RuntimeWarning: invalid value encountered in true_divide\n",
      "  ) / ((1 / prior_sigma**2) + (n / prior_sigma**2))\n",
      "/home/labsuser/.local/lib/python3.7/site-packages/autots/tools/probabilistic.py:67: RuntimeWarning: divide by zero encountered in true_divide\n",
      "  (prior_mu / prior_sigma**2) + ((n * data_mu) / prior_sigma**2)\n",
      "/home/labsuser/.local/lib/python3.7/site-packages/autots/tools/probabilistic.py:68: RuntimeWarning: divide by zero encountered in true_divide\n",
      "  ) / ((1 / prior_sigma**2) + (n / prior_sigma**2))\n",
      "/home/labsuser/.local/lib/python3.7/site-packages/autots/tools/probabilistic.py:68: RuntimeWarning: invalid value encountered in true_divide\n",
      "  ) / ((1 / prior_sigma**2) + (n / prior_sigma**2))\n",
      "/home/labsuser/.local/lib/python3.7/site-packages/autots/tools/probabilistic.py:67: RuntimeWarning: divide by zero encountered in true_divide\n",
      "  (prior_mu / prior_sigma**2) + ((n * data_mu) / prior_sigma**2)\n",
      "/home/labsuser/.local/lib/python3.7/site-packages/autots/tools/probabilistic.py:68: RuntimeWarning: divide by zero encountered in true_divide\n",
      "  ) / ((1 / prior_sigma**2) + (n / prior_sigma**2))\n",
      "/home/labsuser/.local/lib/python3.7/site-packages/autots/tools/probabilistic.py:68: RuntimeWarning: invalid value encountered in true_divide\n",
      "  ) / ((1 / prior_sigma**2) + (n / prior_sigma**2))\n",
      "/home/labsuser/.local/lib/python3.7/site-packages/autots/tools/probabilistic.py:67: RuntimeWarning: divide by zero encountered in true_divide\n",
      "  (prior_mu / prior_sigma**2) + ((n * data_mu) / prior_sigma**2)\n",
      "/home/labsuser/.local/lib/python3.7/site-packages/autots/tools/probabilistic.py:68: RuntimeWarning: divide by zero encountered in true_divide\n",
      "  ) / ((1 / prior_sigma**2) + (n / prior_sigma**2))\n",
      "/home/labsuser/.local/lib/python3.7/site-packages/autots/tools/probabilistic.py:68: RuntimeWarning: invalid value encountered in true_divide\n",
      "  ) / ((1 / prior_sigma**2) + (n / prior_sigma**2))\n",
      "/home/labsuser/.local/lib/python3.7/site-packages/autots/tools/probabilistic.py:67: RuntimeWarning: divide by zero encountered in true_divide\n",
      "  (prior_mu / prior_sigma**2) + ((n * data_mu) / prior_sigma**2)\n",
      "/home/labsuser/.local/lib/python3.7/site-packages/autots/tools/probabilistic.py:68: RuntimeWarning: divide by zero encountered in true_divide\n",
      "  ) / ((1 / prior_sigma**2) + (n / prior_sigma**2))\n",
      "/home/labsuser/.local/lib/python3.7/site-packages/autots/tools/probabilistic.py:68: RuntimeWarning: invalid value encountered in true_divide\n",
      "  ) / ((1 / prior_sigma**2) + (n / prior_sigma**2))\n",
      "/home/labsuser/.local/lib/python3.7/site-packages/autots/tools/probabilistic.py:67: RuntimeWarning: divide by zero encountered in true_divide\n",
      "  (prior_mu / prior_sigma**2) + ((n * data_mu) / prior_sigma**2)\n",
      "/home/labsuser/.local/lib/python3.7/site-packages/autots/tools/probabilistic.py:68: RuntimeWarning: divide by zero encountered in true_divide\n",
      "  ) / ((1 / prior_sigma**2) + (n / prior_sigma**2))\n",
      "/home/labsuser/.local/lib/python3.7/site-packages/autots/tools/probabilistic.py:68: RuntimeWarning: invalid value encountered in true_divide\n",
      "  ) / ((1 / prior_sigma**2) + (n / prior_sigma**2))\n",
      "/home/labsuser/.local/lib/python3.7/site-packages/autots/tools/probabilistic.py:67: RuntimeWarning: divide by zero encountered in true_divide\n",
      "  (prior_mu / prior_sigma**2) + ((n * data_mu) / prior_sigma**2)\n",
      "/home/labsuser/.local/lib/python3.7/site-packages/autots/tools/probabilistic.py:68: RuntimeWarning: divide by zero encountered in true_divide\n",
      "  ) / ((1 / prior_sigma**2) + (n / prior_sigma**2))\n",
      "/home/labsuser/.local/lib/python3.7/site-packages/autots/tools/probabilistic.py:68: RuntimeWarning: invalid value encountered in true_divide\n",
      "  ) / ((1 / prior_sigma**2) + (n / prior_sigma**2))\n",
      "/home/labsuser/.local/lib/python3.7/site-packages/autots/tools/probabilistic.py:67: RuntimeWarning: divide by zero encountered in true_divide\n",
      "  (prior_mu / prior_sigma**2) + ((n * data_mu) / prior_sigma**2)\n",
      "/home/labsuser/.local/lib/python3.7/site-packages/autots/tools/probabilistic.py:68: RuntimeWarning: divide by zero encountered in true_divide\n",
      "  ) / ((1 / prior_sigma**2) + (n / prior_sigma**2))\n",
      "/home/labsuser/.local/lib/python3.7/site-packages/autots/tools/probabilistic.py:68: RuntimeWarning: invalid value encountered in true_divide\n",
      "  ) / ((1 / prior_sigma**2) + (n / prior_sigma**2))\n",
      "/home/labsuser/.local/lib/python3.7/site-packages/autots/tools/probabilistic.py:67: RuntimeWarning: divide by zero encountered in true_divide\n",
      "  (prior_mu / prior_sigma**2) + ((n * data_mu) / prior_sigma**2)\n",
      "/home/labsuser/.local/lib/python3.7/site-packages/autots/tools/probabilistic.py:68: RuntimeWarning: divide by zero encountered in true_divide\n",
      "  ) / ((1 / prior_sigma**2) + (n / prior_sigma**2))\n",
      "/home/labsuser/.local/lib/python3.7/site-packages/autots/tools/probabilistic.py:68: RuntimeWarning: invalid value encountered in true_divide\n",
      "  ) / ((1 / prior_sigma**2) + (n / prior_sigma**2))\n",
      "/home/labsuser/.local/lib/python3.7/site-packages/autots/tools/probabilistic.py:67: RuntimeWarning: divide by zero encountered in true_divide\n",
      "  (prior_mu / prior_sigma**2) + ((n * data_mu) / prior_sigma**2)\n",
      "/home/labsuser/.local/lib/python3.7/site-packages/autots/tools/probabilistic.py:68: RuntimeWarning: divide by zero encountered in true_divide\n",
      "  ) / ((1 / prior_sigma**2) + (n / prior_sigma**2))\n",
      "/home/labsuser/.local/lib/python3.7/site-packages/autots/tools/probabilistic.py:68: RuntimeWarning: invalid value encountered in true_divide\n",
      "  ) / ((1 / prior_sigma**2) + (n / prior_sigma**2))\n",
      "/home/labsuser/.local/lib/python3.7/site-packages/autots/tools/probabilistic.py:67: RuntimeWarning: divide by zero encountered in true_divide\n",
      "  (prior_mu / prior_sigma**2) + ((n * data_mu) / prior_sigma**2)\n",
      "/home/labsuser/.local/lib/python3.7/site-packages/autots/tools/probabilistic.py:68: RuntimeWarning: divide by zero encountered in true_divide\n",
      "  ) / ((1 / prior_sigma**2) + (n / prior_sigma**2))\n",
      "/home/labsuser/.local/lib/python3.7/site-packages/autots/tools/probabilistic.py:68: RuntimeWarning: invalid value encountered in true_divide\n",
      "  ) / ((1 / prior_sigma**2) + (n / prior_sigma**2))\n",
      "/home/labsuser/.local/lib/python3.7/site-packages/autots/tools/probabilistic.py:67: RuntimeWarning: divide by zero encountered in true_divide\n",
      "  (prior_mu / prior_sigma**2) + ((n * data_mu) / prior_sigma**2)\n",
      "/home/labsuser/.local/lib/python3.7/site-packages/autots/tools/probabilistic.py:68: RuntimeWarning: divide by zero encountered in true_divide\n",
      "  ) / ((1 / prior_sigma**2) + (n / prior_sigma**2))\n",
      "/home/labsuser/.local/lib/python3.7/site-packages/autots/tools/probabilistic.py:68: RuntimeWarning: invalid value encountered in true_divide\n",
      "  ) / ((1 / prior_sigma**2) + (n / prior_sigma**2))\n",
      "/home/labsuser/.local/lib/python3.7/site-packages/autots/tools/probabilistic.py:67: RuntimeWarning: divide by zero encountered in true_divide\n",
      "  (prior_mu / prior_sigma**2) + ((n * data_mu) / prior_sigma**2)\n",
      "/home/labsuser/.local/lib/python3.7/site-packages/autots/tools/probabilistic.py:68: RuntimeWarning: divide by zero encountered in true_divide\n",
      "  ) / ((1 / prior_sigma**2) + (n / prior_sigma**2))\n",
      "/home/labsuser/.local/lib/python3.7/site-packages/autots/tools/probabilistic.py:68: RuntimeWarning: invalid value encountered in true_divide\n",
      "  ) / ((1 / prior_sigma**2) + (n / prior_sigma**2))\n",
      "/home/labsuser/.local/lib/python3.7/site-packages/autots/tools/probabilistic.py:67: RuntimeWarning: divide by zero encountered in true_divide\n",
      "  (prior_mu / prior_sigma**2) + ((n * data_mu) / prior_sigma**2)\n",
      "/home/labsuser/.local/lib/python3.7/site-packages/autots/tools/probabilistic.py:68: RuntimeWarning: divide by zero encountered in true_divide\n",
      "  ) / ((1 / prior_sigma**2) + (n / prior_sigma**2))\n",
      "/home/labsuser/.local/lib/python3.7/site-packages/autots/tools/probabilistic.py:68: RuntimeWarning: invalid value encountered in true_divide\n",
      "  ) / ((1 / prior_sigma**2) + (n / prior_sigma**2))\n",
      "/home/labsuser/.local/lib/python3.7/site-packages/autots/tools/probabilistic.py:67: RuntimeWarning: divide by zero encountered in true_divide\n",
      "  (prior_mu / prior_sigma**2) + ((n * data_mu) / prior_sigma**2)\n",
      "/home/labsuser/.local/lib/python3.7/site-packages/autots/tools/probabilistic.py:68: RuntimeWarning: divide by zero encountered in true_divide\n",
      "  ) / ((1 / prior_sigma**2) + (n / prior_sigma**2))\n",
      "/home/labsuser/.local/lib/python3.7/site-packages/autots/tools/probabilistic.py:68: RuntimeWarning: invalid value encountered in true_divide\n",
      "  ) / ((1 / prior_sigma**2) + (n / prior_sigma**2))\n",
      "/home/labsuser/.local/lib/python3.7/site-packages/autots/tools/probabilistic.py:67: RuntimeWarning: divide by zero encountered in true_divide\n",
      "  (prior_mu / prior_sigma**2) + ((n * data_mu) / prior_sigma**2)\n",
      "/home/labsuser/.local/lib/python3.7/site-packages/autots/tools/probabilistic.py:68: RuntimeWarning: divide by zero encountered in true_divide\n",
      "  ) / ((1 / prior_sigma**2) + (n / prior_sigma**2))\n",
      "/home/labsuser/.local/lib/python3.7/site-packages/autots/tools/probabilistic.py:68: RuntimeWarning: invalid value encountered in true_divide\n",
      "  ) / ((1 / prior_sigma**2) + (n / prior_sigma**2))\n",
      "/home/labsuser/.local/lib/python3.7/site-packages/autots/tools/probabilistic.py:67: RuntimeWarning: divide by zero encountered in true_divide\n",
      "  (prior_mu / prior_sigma**2) + ((n * data_mu) / prior_sigma**2)\n",
      "/home/labsuser/.local/lib/python3.7/site-packages/autots/tools/probabilistic.py:68: RuntimeWarning: divide by zero encountered in true_divide\n",
      "  ) / ((1 / prior_sigma**2) + (n / prior_sigma**2))\n",
      "/home/labsuser/.local/lib/python3.7/site-packages/autots/tools/probabilistic.py:68: RuntimeWarning: invalid value encountered in true_divide\n",
      "  ) / ((1 / prior_sigma**2) + (n / prior_sigma**2))\n",
      "/home/labsuser/.local/lib/python3.7/site-packages/autots/tools/probabilistic.py:67: RuntimeWarning: divide by zero encountered in true_divide\n",
      "  (prior_mu / prior_sigma**2) + ((n * data_mu) / prior_sigma**2)\n",
      "/home/labsuser/.local/lib/python3.7/site-packages/autots/tools/probabilistic.py:68: RuntimeWarning: divide by zero encountered in true_divide\n",
      "  ) / ((1 / prior_sigma**2) + (n / prior_sigma**2))\n",
      "/home/labsuser/.local/lib/python3.7/site-packages/autots/tools/probabilistic.py:68: RuntimeWarning: invalid value encountered in true_divide\n",
      "  ) / ((1 / prior_sigma**2) + (n / prior_sigma**2))\n",
      "/home/labsuser/.local/lib/python3.7/site-packages/autots/tools/probabilistic.py:67: RuntimeWarning: divide by zero encountered in true_divide\n",
      "  (prior_mu / prior_sigma**2) + ((n * data_mu) / prior_sigma**2)\n",
      "/home/labsuser/.local/lib/python3.7/site-packages/autots/tools/probabilistic.py:68: RuntimeWarning: divide by zero encountered in true_divide\n",
      "  ) / ((1 / prior_sigma**2) + (n / prior_sigma**2))\n",
      "/home/labsuser/.local/lib/python3.7/site-packages/autots/tools/probabilistic.py:68: RuntimeWarning: invalid value encountered in true_divide\n",
      "  ) / ((1 / prior_sigma**2) + (n / prior_sigma**2))\n",
      "/home/labsuser/.local/lib/python3.7/site-packages/autots/tools/probabilistic.py:67: RuntimeWarning: divide by zero encountered in true_divide\n",
      "  (prior_mu / prior_sigma**2) + ((n * data_mu) / prior_sigma**2)\n",
      "/home/labsuser/.local/lib/python3.7/site-packages/autots/tools/probabilistic.py:68: RuntimeWarning: divide by zero encountered in true_divide\n",
      "  ) / ((1 / prior_sigma**2) + (n / prior_sigma**2))\n",
      "/home/labsuser/.local/lib/python3.7/site-packages/autots/tools/probabilistic.py:68: RuntimeWarning: invalid value encountered in true_divide\n",
      "  ) / ((1 / prior_sigma**2) + (n / prior_sigma**2))\n",
      "/home/labsuser/.local/lib/python3.7/site-packages/autots/tools/probabilistic.py:67: RuntimeWarning: divide by zero encountered in true_divide\n",
      "  (prior_mu / prior_sigma**2) + ((n * data_mu) / prior_sigma**2)\n",
      "/home/labsuser/.local/lib/python3.7/site-packages/autots/tools/probabilistic.py:68: RuntimeWarning: divide by zero encountered in true_divide\n",
      "  ) / ((1 / prior_sigma**2) + (n / prior_sigma**2))\n",
      "/home/labsuser/.local/lib/python3.7/site-packages/autots/tools/probabilistic.py:68: RuntimeWarning: invalid value encountered in true_divide\n",
      "  ) / ((1 / prior_sigma**2) + (n / prior_sigma**2))\n",
      "/home/labsuser/.local/lib/python3.7/site-packages/autots/tools/probabilistic.py:67: RuntimeWarning: divide by zero encountered in true_divide\n",
      "  (prior_mu / prior_sigma**2) + ((n * data_mu) / prior_sigma**2)\n",
      "/home/labsuser/.local/lib/python3.7/site-packages/autots/tools/probabilistic.py:68: RuntimeWarning: divide by zero encountered in true_divide\n",
      "  ) / ((1 / prior_sigma**2) + (n / prior_sigma**2))\n",
      "/home/labsuser/.local/lib/python3.7/site-packages/autots/tools/probabilistic.py:68: RuntimeWarning: invalid value encountered in true_divide\n",
      "  ) / ((1 / prior_sigma**2) + (n / prior_sigma**2))\n",
      "/home/labsuser/.local/lib/python3.7/site-packages/autots/tools/probabilistic.py:67: RuntimeWarning: divide by zero encountered in true_divide\n",
      "  (prior_mu / prior_sigma**2) + ((n * data_mu) / prior_sigma**2)\n",
      "/home/labsuser/.local/lib/python3.7/site-packages/autots/tools/probabilistic.py:68: RuntimeWarning: divide by zero encountered in true_divide\n",
      "  ) / ((1 / prior_sigma**2) + (n / prior_sigma**2))\n",
      "/home/labsuser/.local/lib/python3.7/site-packages/autots/tools/probabilistic.py:68: RuntimeWarning: invalid value encountered in true_divide\n",
      "  ) / ((1 / prior_sigma**2) + (n / prior_sigma**2))\n",
      "/home/labsuser/.local/lib/python3.7/site-packages/autots/tools/probabilistic.py:67: RuntimeWarning: divide by zero encountered in true_divide\n",
      "  (prior_mu / prior_sigma**2) + ((n * data_mu) / prior_sigma**2)\n",
      "/home/labsuser/.local/lib/python3.7/site-packages/autots/tools/probabilistic.py:68: RuntimeWarning: divide by zero encountered in true_divide\n",
      "  ) / ((1 / prior_sigma**2) + (n / prior_sigma**2))\n",
      "/home/labsuser/.local/lib/python3.7/site-packages/autots/tools/probabilistic.py:68: RuntimeWarning: invalid value encountered in true_divide\n",
      "  ) / ((1 / prior_sigma**2) + (n / prior_sigma**2))\n",
      "/home/labsuser/.local/lib/python3.7/site-packages/autots/tools/probabilistic.py:67: RuntimeWarning: divide by zero encountered in true_divide\n",
      "  (prior_mu / prior_sigma**2) + ((n * data_mu) / prior_sigma**2)\n",
      "/home/labsuser/.local/lib/python3.7/site-packages/autots/tools/probabilistic.py:68: RuntimeWarning: divide by zero encountered in true_divide\n",
      "  ) / ((1 / prior_sigma**2) + (n / prior_sigma**2))\n",
      "/home/labsuser/.local/lib/python3.7/site-packages/autots/tools/probabilistic.py:68: RuntimeWarning: invalid value encountered in true_divide\n",
      "  ) / ((1 / prior_sigma**2) + (n / prior_sigma**2))\n",
      "/home/labsuser/.local/lib/python3.7/site-packages/autots/tools/probabilistic.py:67: RuntimeWarning: divide by zero encountered in true_divide\n",
      "  (prior_mu / prior_sigma**2) + ((n * data_mu) / prior_sigma**2)\n",
      "/home/labsuser/.local/lib/python3.7/site-packages/autots/tools/probabilistic.py:68: RuntimeWarning: divide by zero encountered in true_divide\n",
      "  ) / ((1 / prior_sigma**2) + (n / prior_sigma**2))\n",
      "/home/labsuser/.local/lib/python3.7/site-packages/autots/tools/probabilistic.py:68: RuntimeWarning: invalid value encountered in true_divide\n",
      "  ) / ((1 / prior_sigma**2) + (n / prior_sigma**2))\n",
      "/home/labsuser/.local/lib/python3.7/site-packages/autots/tools/probabilistic.py:67: RuntimeWarning: divide by zero encountered in true_divide\n",
      "  (prior_mu / prior_sigma**2) + ((n * data_mu) / prior_sigma**2)\n",
      "/home/labsuser/.local/lib/python3.7/site-packages/autots/tools/probabilistic.py:68: RuntimeWarning: divide by zero encountered in true_divide\n",
      "  ) / ((1 / prior_sigma**2) + (n / prior_sigma**2))\n",
      "/home/labsuser/.local/lib/python3.7/site-packages/autots/tools/probabilistic.py:68: RuntimeWarning: invalid value encountered in true_divide\n",
      "  ) / ((1 / prior_sigma**2) + (n / prior_sigma**2))\n",
      "/home/labsuser/.local/lib/python3.7/site-packages/autots/tools/probabilistic.py:67: RuntimeWarning: divide by zero encountered in true_divide\n",
      "  (prior_mu / prior_sigma**2) + ((n * data_mu) / prior_sigma**2)\n",
      "/home/labsuser/.local/lib/python3.7/site-packages/autots/tools/probabilistic.py:68: RuntimeWarning: divide by zero encountered in true_divide\n",
      "  ) / ((1 / prior_sigma**2) + (n / prior_sigma**2))\n",
      "/home/labsuser/.local/lib/python3.7/site-packages/autots/tools/probabilistic.py:68: RuntimeWarning: invalid value encountered in true_divide\n",
      "  ) / ((1 / prior_sigma**2) + (n / prior_sigma**2))\n",
      "/home/labsuser/.local/lib/python3.7/site-packages/autots/tools/probabilistic.py:67: RuntimeWarning: divide by zero encountered in true_divide\n",
      "  (prior_mu / prior_sigma**2) + ((n * data_mu) / prior_sigma**2)\n",
      "/home/labsuser/.local/lib/python3.7/site-packages/autots/tools/probabilistic.py:68: RuntimeWarning: divide by zero encountered in true_divide\n",
      "  ) / ((1 / prior_sigma**2) + (n / prior_sigma**2))\n",
      "/home/labsuser/.local/lib/python3.7/site-packages/autots/tools/probabilistic.py:68: RuntimeWarning: invalid value encountered in true_divide\n",
      "  ) / ((1 / prior_sigma**2) + (n / prior_sigma**2))\n",
      "/home/labsuser/.local/lib/python3.7/site-packages/autots/tools/probabilistic.py:67: RuntimeWarning: divide by zero encountered in true_divide\n",
      "  (prior_mu / prior_sigma**2) + ((n * data_mu) / prior_sigma**2)\n",
      "/home/labsuser/.local/lib/python3.7/site-packages/autots/tools/probabilistic.py:68: RuntimeWarning: divide by zero encountered in true_divide\n",
      "  ) / ((1 / prior_sigma**2) + (n / prior_sigma**2))\n",
      "/home/labsuser/.local/lib/python3.7/site-packages/autots/tools/probabilistic.py:68: RuntimeWarning: invalid value encountered in true_divide\n",
      "  ) / ((1 / prior_sigma**2) + (n / prior_sigma**2))\n",
      "/home/labsuser/.local/lib/python3.7/site-packages/autots/tools/probabilistic.py:67: RuntimeWarning: divide by zero encountered in true_divide\n",
      "  (prior_mu / prior_sigma**2) + ((n * data_mu) / prior_sigma**2)\n",
      "/home/labsuser/.local/lib/python3.7/site-packages/autots/tools/probabilistic.py:68: RuntimeWarning: divide by zero encountered in true_divide\n",
      "  ) / ((1 / prior_sigma**2) + (n / prior_sigma**2))\n",
      "/home/labsuser/.local/lib/python3.7/site-packages/autots/tools/probabilistic.py:68: RuntimeWarning: invalid value encountered in true_divide\n",
      "  ) / ((1 / prior_sigma**2) + (n / prior_sigma**2))\n",
      "/home/labsuser/.local/lib/python3.7/site-packages/autots/tools/probabilistic.py:67: RuntimeWarning: divide by zero encountered in true_divide\n",
      "  (prior_mu / prior_sigma**2) + ((n * data_mu) / prior_sigma**2)\n",
      "/home/labsuser/.local/lib/python3.7/site-packages/autots/tools/probabilistic.py:68: RuntimeWarning: divide by zero encountered in true_divide\n",
      "  ) / ((1 / prior_sigma**2) + (n / prior_sigma**2))\n",
      "/home/labsuser/.local/lib/python3.7/site-packages/autots/tools/probabilistic.py:68: RuntimeWarning: invalid value encountered in true_divide\n",
      "  ) / ((1 / prior_sigma**2) + (n / prior_sigma**2))\n",
      "/home/labsuser/.local/lib/python3.7/site-packages/autots/tools/probabilistic.py:67: RuntimeWarning: divide by zero encountered in true_divide\n",
      "  (prior_mu / prior_sigma**2) + ((n * data_mu) / prior_sigma**2)\n",
      "/home/labsuser/.local/lib/python3.7/site-packages/autots/tools/probabilistic.py:68: RuntimeWarning: divide by zero encountered in true_divide\n",
      "  ) / ((1 / prior_sigma**2) + (n / prior_sigma**2))\n",
      "/home/labsuser/.local/lib/python3.7/site-packages/autots/tools/probabilistic.py:68: RuntimeWarning: invalid value encountered in true_divide\n",
      "  ) / ((1 / prior_sigma**2) + (n / prior_sigma**2))\n",
      "/home/labsuser/.local/lib/python3.7/site-packages/autots/tools/probabilistic.py:67: RuntimeWarning: divide by zero encountered in true_divide\n",
      "  (prior_mu / prior_sigma**2) + ((n * data_mu) / prior_sigma**2)\n",
      "/home/labsuser/.local/lib/python3.7/site-packages/autots/tools/probabilistic.py:68: RuntimeWarning: divide by zero encountered in true_divide\n",
      "  ) / ((1 / prior_sigma**2) + (n / prior_sigma**2))\n",
      "/home/labsuser/.local/lib/python3.7/site-packages/autots/tools/probabilistic.py:68: RuntimeWarning: invalid value encountered in true_divide\n",
      "  ) / ((1 / prior_sigma**2) + (n / prior_sigma**2))\n",
      "/home/labsuser/.local/lib/python3.7/site-packages/autots/tools/probabilistic.py:67: RuntimeWarning: divide by zero encountered in true_divide\n",
      "  (prior_mu / prior_sigma**2) + ((n * data_mu) / prior_sigma**2)\n",
      "/home/labsuser/.local/lib/python3.7/site-packages/autots/tools/probabilistic.py:68: RuntimeWarning: divide by zero encountered in true_divide\n",
      "  ) / ((1 / prior_sigma**2) + (n / prior_sigma**2))\n",
      "/home/labsuser/.local/lib/python3.7/site-packages/autots/tools/probabilistic.py:68: RuntimeWarning: invalid value encountered in true_divide\n",
      "  ) / ((1 / prior_sigma**2) + (n / prior_sigma**2))\n",
      "/home/labsuser/.local/lib/python3.7/site-packages/autots/tools/probabilistic.py:67: RuntimeWarning: divide by zero encountered in true_divide\n",
      "  (prior_mu / prior_sigma**2) + ((n * data_mu) / prior_sigma**2)\n",
      "/home/labsuser/.local/lib/python3.7/site-packages/autots/tools/probabilistic.py:68: RuntimeWarning: divide by zero encountered in true_divide\n",
      "  ) / ((1 / prior_sigma**2) + (n / prior_sigma**2))\n",
      "/home/labsuser/.local/lib/python3.7/site-packages/autots/tools/probabilistic.py:68: RuntimeWarning: invalid value encountered in true_divide\n",
      "  ) / ((1 / prior_sigma**2) + (n / prior_sigma**2))\n",
      "/home/labsuser/.local/lib/python3.7/site-packages/autots/tools/probabilistic.py:67: RuntimeWarning: divide by zero encountered in true_divide\n",
      "  (prior_mu / prior_sigma**2) + ((n * data_mu) / prior_sigma**2)\n",
      "/home/labsuser/.local/lib/python3.7/site-packages/autots/tools/probabilistic.py:68: RuntimeWarning: divide by zero encountered in true_divide\n",
      "  ) / ((1 / prior_sigma**2) + (n / prior_sigma**2))\n",
      "/home/labsuser/.local/lib/python3.7/site-packages/autots/tools/probabilistic.py:68: RuntimeWarning: invalid value encountered in true_divide\n",
      "  ) / ((1 / prior_sigma**2) + (n / prior_sigma**2))\n",
      "/home/labsuser/.local/lib/python3.7/site-packages/autots/tools/probabilistic.py:67: RuntimeWarning: divide by zero encountered in true_divide\n",
      "  (prior_mu / prior_sigma**2) + ((n * data_mu) / prior_sigma**2)\n",
      "/home/labsuser/.local/lib/python3.7/site-packages/autots/tools/probabilistic.py:68: RuntimeWarning: divide by zero encountered in true_divide\n",
      "  ) / ((1 / prior_sigma**2) + (n / prior_sigma**2))\n",
      "/home/labsuser/.local/lib/python3.7/site-packages/autots/tools/probabilistic.py:68: RuntimeWarning: invalid value encountered in true_divide\n",
      "  ) / ((1 / prior_sigma**2) + (n / prior_sigma**2))\n",
      "/home/labsuser/.local/lib/python3.7/site-packages/autots/tools/probabilistic.py:67: RuntimeWarning: divide by zero encountered in true_divide\n",
      "  (prior_mu / prior_sigma**2) + ((n * data_mu) / prior_sigma**2)\n",
      "/home/labsuser/.local/lib/python3.7/site-packages/autots/tools/probabilistic.py:68: RuntimeWarning: divide by zero encountered in true_divide\n",
      "  ) / ((1 / prior_sigma**2) + (n / prior_sigma**2))\n",
      "/home/labsuser/.local/lib/python3.7/site-packages/autots/tools/probabilistic.py:68: RuntimeWarning: invalid value encountered in true_divide\n",
      "  ) / ((1 / prior_sigma**2) + (n / prior_sigma**2))\n",
      "/home/labsuser/.local/lib/python3.7/site-packages/autots/tools/probabilistic.py:67: RuntimeWarning: divide by zero encountered in true_divide\n",
      "  (prior_mu / prior_sigma**2) + ((n * data_mu) / prior_sigma**2)\n",
      "/home/labsuser/.local/lib/python3.7/site-packages/autots/tools/probabilistic.py:68: RuntimeWarning: divide by zero encountered in true_divide\n",
      "  ) / ((1 / prior_sigma**2) + (n / prior_sigma**2))\n",
      "/home/labsuser/.local/lib/python3.7/site-packages/autots/tools/probabilistic.py:68: RuntimeWarning: invalid value encountered in true_divide\n",
      "  ) / ((1 / prior_sigma**2) + (n / prior_sigma**2))\n",
      "/home/labsuser/.local/lib/python3.7/site-packages/autots/tools/probabilistic.py:67: RuntimeWarning: divide by zero encountered in true_divide\n",
      "  (prior_mu / prior_sigma**2) + ((n * data_mu) / prior_sigma**2)\n",
      "/home/labsuser/.local/lib/python3.7/site-packages/autots/tools/probabilistic.py:68: RuntimeWarning: divide by zero encountered in true_divide\n",
      "  ) / ((1 / prior_sigma**2) + (n / prior_sigma**2))\n",
      "/home/labsuser/.local/lib/python3.7/site-packages/autots/tools/probabilistic.py:68: RuntimeWarning: invalid value encountered in true_divide\n",
      "  ) / ((1 / prior_sigma**2) + (n / prior_sigma**2))\n",
      "/home/labsuser/.local/lib/python3.7/site-packages/autots/tools/probabilistic.py:67: RuntimeWarning: divide by zero encountered in true_divide\n",
      "  (prior_mu / prior_sigma**2) + ((n * data_mu) / prior_sigma**2)\n",
      "/home/labsuser/.local/lib/python3.7/site-packages/autots/tools/probabilistic.py:68: RuntimeWarning: divide by zero encountered in true_divide\n",
      "  ) / ((1 / prior_sigma**2) + (n / prior_sigma**2))\n",
      "/home/labsuser/.local/lib/python3.7/site-packages/autots/tools/probabilistic.py:68: RuntimeWarning: invalid value encountered in true_divide\n",
      "  ) / ((1 / prior_sigma**2) + (n / prior_sigma**2))\n",
      "/home/labsuser/.local/lib/python3.7/site-packages/autots/tools/probabilistic.py:67: RuntimeWarning: divide by zero encountered in true_divide\n",
      "  (prior_mu / prior_sigma**2) + ((n * data_mu) / prior_sigma**2)\n",
      "/home/labsuser/.local/lib/python3.7/site-packages/autots/tools/probabilistic.py:68: RuntimeWarning: divide by zero encountered in true_divide\n",
      "  ) / ((1 / prior_sigma**2) + (n / prior_sigma**2))\n",
      "/home/labsuser/.local/lib/python3.7/site-packages/autots/tools/probabilistic.py:68: RuntimeWarning: invalid value encountered in true_divide\n",
      "  ) / ((1 / prior_sigma**2) + (n / prior_sigma**2))\n",
      "/home/labsuser/.local/lib/python3.7/site-packages/autots/tools/probabilistic.py:67: RuntimeWarning: divide by zero encountered in true_divide\n",
      "  (prior_mu / prior_sigma**2) + ((n * data_mu) / prior_sigma**2)\n",
      "/home/labsuser/.local/lib/python3.7/site-packages/autots/tools/probabilistic.py:68: RuntimeWarning: divide by zero encountered in true_divide\n",
      "  ) / ((1 / prior_sigma**2) + (n / prior_sigma**2))\n",
      "/home/labsuser/.local/lib/python3.7/site-packages/autots/tools/probabilistic.py:68: RuntimeWarning: invalid value encountered in true_divide\n",
      "  ) / ((1 / prior_sigma**2) + (n / prior_sigma**2))\n",
      "/home/labsuser/.local/lib/python3.7/site-packages/autots/tools/probabilistic.py:67: RuntimeWarning: divide by zero encountered in true_divide\n",
      "  (prior_mu / prior_sigma**2) + ((n * data_mu) / prior_sigma**2)\n",
      "/home/labsuser/.local/lib/python3.7/site-packages/autots/tools/probabilistic.py:68: RuntimeWarning: divide by zero encountered in true_divide\n",
      "  ) / ((1 / prior_sigma**2) + (n / prior_sigma**2))\n",
      "/home/labsuser/.local/lib/python3.7/site-packages/autots/tools/probabilistic.py:68: RuntimeWarning: invalid value encountered in true_divide\n",
      "  ) / ((1 / prior_sigma**2) + (n / prior_sigma**2))\n",
      "/home/labsuser/.local/lib/python3.7/site-packages/autots/tools/probabilistic.py:67: RuntimeWarning: divide by zero encountered in true_divide\n",
      "  (prior_mu / prior_sigma**2) + ((n * data_mu) / prior_sigma**2)\n",
      "/home/labsuser/.local/lib/python3.7/site-packages/autots/tools/probabilistic.py:68: RuntimeWarning: divide by zero encountered in true_divide\n",
      "  ) / ((1 / prior_sigma**2) + (n / prior_sigma**2))\n",
      "/home/labsuser/.local/lib/python3.7/site-packages/autots/tools/probabilistic.py:68: RuntimeWarning: invalid value encountered in true_divide\n",
      "  ) / ((1 / prior_sigma**2) + (n / prior_sigma**2))\n",
      "/home/labsuser/.local/lib/python3.7/site-packages/autots/tools/probabilistic.py:67: RuntimeWarning: divide by zero encountered in true_divide\n",
      "  (prior_mu / prior_sigma**2) + ((n * data_mu) / prior_sigma**2)\n",
      "/home/labsuser/.local/lib/python3.7/site-packages/autots/tools/probabilistic.py:68: RuntimeWarning: divide by zero encountered in true_divide\n",
      "  ) / ((1 / prior_sigma**2) + (n / prior_sigma**2))\n",
      "/home/labsuser/.local/lib/python3.7/site-packages/autots/tools/probabilistic.py:68: RuntimeWarning: invalid value encountered in true_divide\n",
      "  ) / ((1 / prior_sigma**2) + (n / prior_sigma**2))\n",
      "/home/labsuser/.local/lib/python3.7/site-packages/autots/tools/probabilistic.py:67: RuntimeWarning: divide by zero encountered in true_divide\n",
      "  (prior_mu / prior_sigma**2) + ((n * data_mu) / prior_sigma**2)\n",
      "/home/labsuser/.local/lib/python3.7/site-packages/autots/tools/probabilistic.py:68: RuntimeWarning: divide by zero encountered in true_divide\n",
      "  ) / ((1 / prior_sigma**2) + (n / prior_sigma**2))\n",
      "/home/labsuser/.local/lib/python3.7/site-packages/autots/tools/probabilistic.py:68: RuntimeWarning: invalid value encountered in true_divide\n",
      "  ) / ((1 / prior_sigma**2) + (n / prior_sigma**2))\n",
      "/home/labsuser/.local/lib/python3.7/site-packages/autots/tools/probabilistic.py:67: RuntimeWarning: divide by zero encountered in true_divide\n",
      "  (prior_mu / prior_sigma**2) + ((n * data_mu) / prior_sigma**2)\n",
      "/home/labsuser/.local/lib/python3.7/site-packages/autots/tools/probabilistic.py:68: RuntimeWarning: divide by zero encountered in true_divide\n",
      "  ) / ((1 / prior_sigma**2) + (n / prior_sigma**2))\n",
      "/home/labsuser/.local/lib/python3.7/site-packages/autots/tools/probabilistic.py:68: RuntimeWarning: invalid value encountered in true_divide\n",
      "  ) / ((1 / prior_sigma**2) + (n / prior_sigma**2))\n",
      "/home/labsuser/.local/lib/python3.7/site-packages/autots/tools/probabilistic.py:67: RuntimeWarning: divide by zero encountered in true_divide\n",
      "  (prior_mu / prior_sigma**2) + ((n * data_mu) / prior_sigma**2)\n",
      "/home/labsuser/.local/lib/python3.7/site-packages/autots/tools/probabilistic.py:68: RuntimeWarning: divide by zero encountered in true_divide\n",
      "  ) / ((1 / prior_sigma**2) + (n / prior_sigma**2))\n",
      "/home/labsuser/.local/lib/python3.7/site-packages/autots/tools/probabilistic.py:68: RuntimeWarning: invalid value encountered in true_divide\n",
      "  ) / ((1 / prior_sigma**2) + (n / prior_sigma**2))\n",
      "/home/labsuser/.local/lib/python3.7/site-packages/autots/tools/probabilistic.py:67: RuntimeWarning: divide by zero encountered in true_divide\n",
      "  (prior_mu / prior_sigma**2) + ((n * data_mu) / prior_sigma**2)\n",
      "/home/labsuser/.local/lib/python3.7/site-packages/autots/tools/probabilistic.py:68: RuntimeWarning: divide by zero encountered in true_divide\n",
      "  ) / ((1 / prior_sigma**2) + (n / prior_sigma**2))\n",
      "/home/labsuser/.local/lib/python3.7/site-packages/autots/tools/probabilistic.py:68: RuntimeWarning: invalid value encountered in true_divide\n",
      "  ) / ((1 / prior_sigma**2) + (n / prior_sigma**2))\n",
      "/home/labsuser/.local/lib/python3.7/site-packages/autots/tools/probabilistic.py:67: RuntimeWarning: divide by zero encountered in true_divide\n",
      "  (prior_mu / prior_sigma**2) + ((n * data_mu) / prior_sigma**2)\n",
      "/home/labsuser/.local/lib/python3.7/site-packages/autots/tools/probabilistic.py:68: RuntimeWarning: divide by zero encountered in true_divide\n",
      "  ) / ((1 / prior_sigma**2) + (n / prior_sigma**2))\n",
      "/home/labsuser/.local/lib/python3.7/site-packages/autots/tools/probabilistic.py:68: RuntimeWarning: invalid value encountered in true_divide\n",
      "  ) / ((1 / prior_sigma**2) + (n / prior_sigma**2))\n",
      "/home/labsuser/.local/lib/python3.7/site-packages/autots/tools/probabilistic.py:67: RuntimeWarning: divide by zero encountered in true_divide\n",
      "  (prior_mu / prior_sigma**2) + ((n * data_mu) / prior_sigma**2)\n",
      "/home/labsuser/.local/lib/python3.7/site-packages/autots/tools/probabilistic.py:68: RuntimeWarning: divide by zero encountered in true_divide\n",
      "  ) / ((1 / prior_sigma**2) + (n / prior_sigma**2))\n",
      "/home/labsuser/.local/lib/python3.7/site-packages/autots/tools/probabilistic.py:68: RuntimeWarning: invalid value encountered in true_divide\n",
      "  ) / ((1 / prior_sigma**2) + (n / prior_sigma**2))\n",
      "/home/labsuser/.local/lib/python3.7/site-packages/autots/tools/probabilistic.py:67: RuntimeWarning: divide by zero encountered in true_divide\n",
      "  (prior_mu / prior_sigma**2) + ((n * data_mu) / prior_sigma**2)\n",
      "/home/labsuser/.local/lib/python3.7/site-packages/autots/tools/probabilistic.py:68: RuntimeWarning: divide by zero encountered in true_divide\n",
      "  ) / ((1 / prior_sigma**2) + (n / prior_sigma**2))\n",
      "/home/labsuser/.local/lib/python3.7/site-packages/autots/tools/probabilistic.py:68: RuntimeWarning: invalid value encountered in true_divide\n",
      "  ) / ((1 / prior_sigma**2) + (n / prior_sigma**2))\n",
      "/home/labsuser/.local/lib/python3.7/site-packages/autots/tools/probabilistic.py:67: RuntimeWarning: divide by zero encountered in true_divide\n",
      "  (prior_mu / prior_sigma**2) + ((n * data_mu) / prior_sigma**2)\n",
      "/home/labsuser/.local/lib/python3.7/site-packages/autots/tools/probabilistic.py:68: RuntimeWarning: divide by zero encountered in true_divide\n",
      "  ) / ((1 / prior_sigma**2) + (n / prior_sigma**2))\n",
      "/home/labsuser/.local/lib/python3.7/site-packages/autots/tools/probabilistic.py:68: RuntimeWarning: invalid value encountered in true_divide\n",
      "  ) / ((1 / prior_sigma**2) + (n / prior_sigma**2))\n",
      "/home/labsuser/.local/lib/python3.7/site-packages/autots/tools/probabilistic.py:67: RuntimeWarning: divide by zero encountered in true_divide\n",
      "  (prior_mu / prior_sigma**2) + ((n * data_mu) / prior_sigma**2)\n",
      "/home/labsuser/.local/lib/python3.7/site-packages/autots/tools/probabilistic.py:68: RuntimeWarning: divide by zero encountered in true_divide\n",
      "  ) / ((1 / prior_sigma**2) + (n / prior_sigma**2))\n",
      "/home/labsuser/.local/lib/python3.7/site-packages/autots/tools/probabilistic.py:68: RuntimeWarning: invalid value encountered in true_divide\n",
      "  ) / ((1 / prior_sigma**2) + (n / prior_sigma**2))\n",
      "/home/labsuser/.local/lib/python3.7/site-packages/autots/tools/probabilistic.py:67: RuntimeWarning: divide by zero encountered in true_divide\n",
      "  (prior_mu / prior_sigma**2) + ((n * data_mu) / prior_sigma**2)\n",
      "/home/labsuser/.local/lib/python3.7/site-packages/autots/tools/probabilistic.py:68: RuntimeWarning: divide by zero encountered in true_divide\n",
      "  ) / ((1 / prior_sigma**2) + (n / prior_sigma**2))\n",
      "/home/labsuser/.local/lib/python3.7/site-packages/autots/tools/probabilistic.py:68: RuntimeWarning: invalid value encountered in true_divide\n",
      "  ) / ((1 / prior_sigma**2) + (n / prior_sigma**2))\n",
      "/home/labsuser/.local/lib/python3.7/site-packages/autots/tools/probabilistic.py:67: RuntimeWarning: divide by zero encountered in true_divide\n",
      "  (prior_mu / prior_sigma**2) + ((n * data_mu) / prior_sigma**2)\n",
      "/home/labsuser/.local/lib/python3.7/site-packages/autots/tools/probabilistic.py:68: RuntimeWarning: divide by zero encountered in true_divide\n",
      "  ) / ((1 / prior_sigma**2) + (n / prior_sigma**2))\n",
      "/home/labsuser/.local/lib/python3.7/site-packages/autots/tools/probabilistic.py:68: RuntimeWarning: invalid value encountered in true_divide\n",
      "  ) / ((1 / prior_sigma**2) + (n / prior_sigma**2))\n"
     ]
    },
    {
     "name": "stdout",
     "output_type": "stream",
     "text": [
      "Model Number: 1058 with model MetricMotif in generation 8 of 10\n",
      "Model Number: 1059 with model DatepartRegression in generation 8 of 10\n",
      "Model Number: 1060 with model UnobservedComponents in generation 8 of 10\n",
      "Model Number: 1061 with model AverageValueNaive in generation 8 of 10\n",
      "Model Number: 1062 with model ARIMA in generation 8 of 10\n",
      "Model Number: 1063 with model NVAR in generation 8 of 10\n",
      "Model Number: 1064 with model GLS in generation 8 of 10\n",
      "Model Number: 1065 with model MetricMotif in generation 8 of 10\n",
      "Model Number: 1066 with model AverageValueNaive in generation 8 of 10\n",
      "Model Number: 1067 with model ARIMA in generation 8 of 10\n"
     ]
    }
   ],
   "source": [
    "from autots import AutoTS\n",
    "model = AutoTS(forecast_length=60, frequency='infer', ensemble='simple')\n",
    "model = model.fit(data, date_col='Date', value_col='Close', id_col=None)\n",
    "prediction = model.predict()\n",
    "forecast = prediction.forecast\n",
    "print(forecast)"
   ]
  },
  {
   "cell_type": "code",
   "execution_count": null,
   "metadata": {},
   "outputs": [],
   "source": []
  },
  {
   "cell_type": "code",
   "execution_count": null,
   "metadata": {},
   "outputs": [],
   "source": []
  }
 ],
 "metadata": {
  "kernelspec": {
   "display_name": "Python 3",
   "language": "python",
   "name": "python3"
  },
  "language_info": {
   "codemirror_mode": {
    "name": "ipython",
    "version": 3
   },
   "file_extension": ".py",
   "mimetype": "text/x-python",
   "name": "python",
   "nbconvert_exporter": "python",
   "pygments_lexer": "ipython3",
   "version": "3.7.6"
  }
 },
 "nbformat": 4,
 "nbformat_minor": 4
}
